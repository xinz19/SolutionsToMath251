{
 "cells": [
  {
   "cell_type": "markdown",
   "metadata": {},
   "source": [
    "# Problem 1"
   ]
  },
  {
   "cell_type": "code",
   "execution_count": 1,
   "metadata": {},
   "outputs": [],
   "source": [
    "import numpy as np\n",
    "import matplotlib.pyplot as plt\n",
    "import pandas as pd\n",
    "import sklearn\n",
    "from sklearn.neighbors import KNeighborsClassifier\n",
    "from sklearn.model_selection import cross_val_score,LeaveOneOut,train_test_split\n",
    "from sklearn.metrics import accuracy_score, classification_report,confusion_matrix\n",
    "% matplotlib inline\n"
   ]
  },
  {
   "cell_type": "code",
   "execution_count": 35,
   "metadata": {},
   "outputs": [],
   "source": [
    "from sklearn.datasets import load_iris"
   ]
  },
  {
   "cell_type": "code",
   "execution_count": 43,
   "metadata": {},
   "outputs": [],
   "source": [
    "irisRaw=load_iris()"
   ]
  },
  {
   "cell_type": "code",
   "execution_count": 41,
   "metadata": {},
   "outputs": [
    {
     "data": {
      "text/plain": [
       "(151, 5)"
      ]
     },
     "execution_count": 41,
     "metadata": {},
     "output_type": "execute_result"
    }
   ],
   "source": [
    "iris_data.shape"
   ]
  },
  {
   "cell_type": "code",
   "execution_count": 48,
   "metadata": {},
   "outputs": [],
   "source": [
    "iris_data = pd.DataFrame(data= np.c_[irisRaw['data'], irisRaw['target']],\n",
    "                     columns= irisRaw['feature_names'] + ['target'])"
   ]
  },
  {
   "cell_type": "code",
   "execution_count": 49,
   "metadata": {},
   "outputs": [
    {
     "data": {
      "text/html": [
       "<div>\n",
       "<style scoped>\n",
       "    .dataframe tbody tr th:only-of-type {\n",
       "        vertical-align: middle;\n",
       "    }\n",
       "\n",
       "    .dataframe tbody tr th {\n",
       "        vertical-align: top;\n",
       "    }\n",
       "\n",
       "    .dataframe thead th {\n",
       "        text-align: right;\n",
       "    }\n",
       "</style>\n",
       "<table border=\"1\" class=\"dataframe\">\n",
       "  <thead>\n",
       "    <tr style=\"text-align: right;\">\n",
       "      <th></th>\n",
       "      <th>sepal length (cm)</th>\n",
       "      <th>sepal width (cm)</th>\n",
       "      <th>petal length (cm)</th>\n",
       "      <th>petal width (cm)</th>\n",
       "      <th>target</th>\n",
       "    </tr>\n",
       "  </thead>\n",
       "  <tbody>\n",
       "    <tr>\n",
       "      <th>0</th>\n",
       "      <td>5.1</td>\n",
       "      <td>3.5</td>\n",
       "      <td>1.4</td>\n",
       "      <td>0.2</td>\n",
       "      <td>0.0</td>\n",
       "    </tr>\n",
       "    <tr>\n",
       "      <th>1</th>\n",
       "      <td>4.9</td>\n",
       "      <td>3.0</td>\n",
       "      <td>1.4</td>\n",
       "      <td>0.2</td>\n",
       "      <td>0.0</td>\n",
       "    </tr>\n",
       "    <tr>\n",
       "      <th>2</th>\n",
       "      <td>4.7</td>\n",
       "      <td>3.2</td>\n",
       "      <td>1.3</td>\n",
       "      <td>0.2</td>\n",
       "      <td>0.0</td>\n",
       "    </tr>\n",
       "    <tr>\n",
       "      <th>3</th>\n",
       "      <td>4.6</td>\n",
       "      <td>3.1</td>\n",
       "      <td>1.5</td>\n",
       "      <td>0.2</td>\n",
       "      <td>0.0</td>\n",
       "    </tr>\n",
       "    <tr>\n",
       "      <th>4</th>\n",
       "      <td>5.0</td>\n",
       "      <td>3.6</td>\n",
       "      <td>1.4</td>\n",
       "      <td>0.2</td>\n",
       "      <td>0.0</td>\n",
       "    </tr>\n",
       "  </tbody>\n",
       "</table>\n",
       "</div>"
      ],
      "text/plain": [
       "   sepal length (cm)  sepal width (cm)  petal length (cm)  petal width (cm)  \\\n",
       "0                5.1               3.5                1.4               0.2   \n",
       "1                4.9               3.0                1.4               0.2   \n",
       "2                4.7               3.2                1.3               0.2   \n",
       "3                4.6               3.1                1.5               0.2   \n",
       "4                5.0               3.6                1.4               0.2   \n",
       "\n",
       "   target  \n",
       "0     0.0  \n",
       "1     0.0  \n",
       "2     0.0  \n",
       "3     0.0  \n",
       "4     0.0  "
      ]
     },
     "execution_count": 49,
     "metadata": {},
     "output_type": "execute_result"
    }
   ],
   "source": [
    "iris_data.head()"
   ]
  },
  {
   "cell_type": "code",
   "execution_count": 50,
   "metadata": {},
   "outputs": [
    {
     "data": {
      "text/html": [
       "<div>\n",
       "<style scoped>\n",
       "    .dataframe tbody tr th:only-of-type {\n",
       "        vertical-align: middle;\n",
       "    }\n",
       "\n",
       "    .dataframe tbody tr th {\n",
       "        vertical-align: top;\n",
       "    }\n",
       "\n",
       "    .dataframe thead th {\n",
       "        text-align: right;\n",
       "    }\n",
       "</style>\n",
       "<table border=\"1\" class=\"dataframe\">\n",
       "  <thead>\n",
       "    <tr style=\"text-align: right;\">\n",
       "      <th></th>\n",
       "      <th>sepal length (cm)</th>\n",
       "      <th>sepal width (cm)</th>\n",
       "      <th>petal length (cm)</th>\n",
       "      <th>petal width (cm)</th>\n",
       "      <th>target</th>\n",
       "    </tr>\n",
       "  </thead>\n",
       "  <tbody>\n",
       "    <tr>\n",
       "      <th>count</th>\n",
       "      <td>150.000000</td>\n",
       "      <td>150.000000</td>\n",
       "      <td>150.000000</td>\n",
       "      <td>150.000000</td>\n",
       "      <td>150.000000</td>\n",
       "    </tr>\n",
       "    <tr>\n",
       "      <th>mean</th>\n",
       "      <td>5.843333</td>\n",
       "      <td>3.054000</td>\n",
       "      <td>3.758667</td>\n",
       "      <td>1.198667</td>\n",
       "      <td>1.000000</td>\n",
       "    </tr>\n",
       "    <tr>\n",
       "      <th>std</th>\n",
       "      <td>0.828066</td>\n",
       "      <td>0.433594</td>\n",
       "      <td>1.764420</td>\n",
       "      <td>0.763161</td>\n",
       "      <td>0.819232</td>\n",
       "    </tr>\n",
       "    <tr>\n",
       "      <th>min</th>\n",
       "      <td>4.300000</td>\n",
       "      <td>2.000000</td>\n",
       "      <td>1.000000</td>\n",
       "      <td>0.100000</td>\n",
       "      <td>0.000000</td>\n",
       "    </tr>\n",
       "    <tr>\n",
       "      <th>25%</th>\n",
       "      <td>5.100000</td>\n",
       "      <td>2.800000</td>\n",
       "      <td>1.600000</td>\n",
       "      <td>0.300000</td>\n",
       "      <td>0.000000</td>\n",
       "    </tr>\n",
       "    <tr>\n",
       "      <th>50%</th>\n",
       "      <td>5.800000</td>\n",
       "      <td>3.000000</td>\n",
       "      <td>4.350000</td>\n",
       "      <td>1.300000</td>\n",
       "      <td>1.000000</td>\n",
       "    </tr>\n",
       "    <tr>\n",
       "      <th>75%</th>\n",
       "      <td>6.400000</td>\n",
       "      <td>3.300000</td>\n",
       "      <td>5.100000</td>\n",
       "      <td>1.800000</td>\n",
       "      <td>2.000000</td>\n",
       "    </tr>\n",
       "    <tr>\n",
       "      <th>max</th>\n",
       "      <td>7.900000</td>\n",
       "      <td>4.400000</td>\n",
       "      <td>6.900000</td>\n",
       "      <td>2.500000</td>\n",
       "      <td>2.000000</td>\n",
       "    </tr>\n",
       "  </tbody>\n",
       "</table>\n",
       "</div>"
      ],
      "text/plain": [
       "       sepal length (cm)  sepal width (cm)  petal length (cm)  \\\n",
       "count         150.000000        150.000000         150.000000   \n",
       "mean            5.843333          3.054000           3.758667   \n",
       "std             0.828066          0.433594           1.764420   \n",
       "min             4.300000          2.000000           1.000000   \n",
       "25%             5.100000          2.800000           1.600000   \n",
       "50%             5.800000          3.000000           4.350000   \n",
       "75%             6.400000          3.300000           5.100000   \n",
       "max             7.900000          4.400000           6.900000   \n",
       "\n",
       "       petal width (cm)      target  \n",
       "count        150.000000  150.000000  \n",
       "mean           1.198667    1.000000  \n",
       "std            0.763161    0.819232  \n",
       "min            0.100000    0.000000  \n",
       "25%            0.300000    0.000000  \n",
       "50%            1.300000    1.000000  \n",
       "75%            1.800000    2.000000  \n",
       "max            2.500000    2.000000  "
      ]
     },
     "execution_count": 50,
     "metadata": {},
     "output_type": "execute_result"
    }
   ],
   "source": [
    "iris_data.describe()"
   ]
  },
  {
   "cell_type": "code",
   "execution_count": 55,
   "metadata": {},
   "outputs": [],
   "source": [
    "\n",
    "x=iris_data.iloc[:,[0,1,2,3]]\n",
    "y=iris_data.iloc[:,4]"
   ]
  },
  {
   "cell_type": "code",
   "execution_count": null,
   "metadata": {},
   "outputs": [],
   "source": [
    "cv_scores=[[],[]]\n",
    "p=0\n",
    "for j in [5,10]:\n",
    "    for i in range(1,11) :\n",
    "        knn = KNeighborsClassifier(n_neighbors=i)\n",
    "        scores=1-cross_val_score(knn,x,y,cv=j,scoring='accuracy')\n",
    "        cv_scores[p].append(scores.mean())\n",
    "    p=p+1\n",
    "print(cv_scores)"
   ]
  },
  {
   "cell_type": "code",
   "execution_count": 56,
   "metadata": {},
   "outputs": [
    {
     "name": "stdout",
     "output_type": "stream",
     "text": [
      "[[0.039999999999999994, 0.05333333333333332, 0.033333333333333326, 0.02666666666666666, 0.02666666666666666, 0.019999999999999997, 0.019999999999999997, 0.033333333333333326, 0.02666666666666666, 0.019999999999999997], [0.039999999999999994, 0.046666666666666655, 0.033333333333333326, 0.033333333333333326, 0.033333333333333326, 0.033333333333333326, 0.033333333333333326, 0.033333333333333326, 0.02666666666666666, 0.033333333333333326]]\n"
     ]
    }
   ],
   "source": [
    "cv_scores=[[],[]]\n",
    "p=0\n",
    "for j in [5,10]:\n",
    "    for i in range(1,11) :\n",
    "        knn = KNeighborsClassifier(n_neighbors=i)\n",
    "        scores=1-cross_val_score(knn,x,y,cv=j,scoring='accuracy')\n",
    "        cv_scores[p].append(scores.mean())\n",
    "    p=p+1\n",
    "print(cv_scores)\n",
    "\n"
   ]
  },
  {
   "cell_type": "code",
   "execution_count": 57,
   "metadata": {},
   "outputs": [
    {
     "name": "stdout",
     "output_type": "stream",
     "text": [
      "[0.04, 0.05333333333333334, 0.04, 0.04, 0.03333333333333333, 0.04, 0.03333333333333333, 0.03333333333333333, 0.03333333333333333, 0.02666666666666667]\n"
     ]
    }
   ],
   "source": [
    "leave_one_out=[]\n",
    "loo=LeaveOneOut()\n",
    "for i in range(1,11) :\n",
    "        knn = KNeighborsClassifier(n_neighbors=i)\n",
    "        scores=1-cross_val_score(knn,x,y,cv=loo,scoring='accuracy')\n",
    "        leave_one_out.append(scores.mean())\n",
    "print(leave_one_out)"
   ]
  },
  {
   "cell_type": "code",
   "execution_count": 58,
   "metadata": {},
   "outputs": [],
   "source": [
    "neighbours=range(1,11)"
   ]
  },
  {
   "cell_type": "code",
   "execution_count": 59,
   "metadata": {},
   "outputs": [
    {
     "data": {
      "text/plain": [
       "<matplotlib.legend.Legend at 0x1a16aa4ba8>"
      ]
     },
     "execution_count": 59,
     "metadata": {},
     "output_type": "execute_result"
    },
    {
     "data": {
      "image/png": "[encoded data removed]",
      "text/plain": [
       "<Figure size 504x288 with 1 Axes>"
      ]
     },
     "metadata": {},
     "output_type": "display_data"
    }
   ],
   "source": [
    "from matplotlib.ticker import PercentFormatter\n",
    "\n",
    "fig = plt.figure(1, (7,4))\n",
    "ax = fig.add_subplot(1,1,1)\n",
    "\n",
    "five_fold,=plt.plot(neighbours,cv_scores[0],color='blue',linestyle='dashed',marker='o',\n",
    "        markerfacecolor='blue',markersize=6)\n",
    "ten_fold,=plt.plot(neighbours,cv_scores[1],color='red',linestyle='dashed',marker='x',\n",
    "        markerfacecolor='red',markersize=6)\n",
    "leave_one_out_plot,=plt.plot(neighbours,leave_one_out,color='black',linestyle='dashed',marker='*',\n",
    "        markerfacecolor='black',markersize=6)\n",
    "ax.yaxis.set_major_formatter(PercentFormatter(1.0))\n",
    "plt.title('Error and Neighbours')\n",
    "plt.xlabel('K')\n",
    "plt.ylabel('Error Rate')\n",
    "\n",
    "plt.legend([five_fold,ten_fold,leave_one_out_plot],[\"5_fold\",\"10_fold\",\"leave_one_out\"])"
   ]
  },
  {
   "cell_type": "markdown",
   "metadata": {},
   "source": [
    "# Problem 2"
   ]
  },
  {
   "cell_type": "code",
   "execution_count": 115,
   "metadata": {},
   "outputs": [],
   "source": [
    "train = np.loadtxt('zip.train')\n",
    "test  = np.loadtxt('zip.test')"
   ]
  },
  {
   "cell_type": "code",
   "execution_count": 116,
   "metadata": {},
   "outputs": [
    {
     "data": {
      "text/plain": [
       "((7291, 257), (2007, 257))"
      ]
     },
     "execution_count": 116,
     "metadata": {},
     "output_type": "execute_result"
    }
   ],
   "source": [
    "train.shape,test.shape"
   ]
  },
  {
   "cell_type": "code",
   "execution_count": 117,
   "metadata": {},
   "outputs": [],
   "source": [
    "y_train=train[:,0]\n",
    "x_train=train[:,1:]\n",
    "y_test=test[:,0]\n",
    "x_test=test[:,1:]"
   ]
  },
  {
   "cell_type": "code",
   "execution_count": 118,
   "metadata": {},
   "outputs": [
    {
     "name": "stdout",
     "output_type": "stream",
     "text": [
      "[[0.06228201295465874, 0.06875934230194325, 0.058295964125560484, 0.06228201295465874, 0.06278026905829592, 0.06626806178375688, 0.06776283009466866, 0.0722471350274041, 0.07324364723467858, 0.07473841554559046], [0.057299451918286004, 0.05879422022919778, 0.05430991529646234, 0.05680119581464871, 0.0577977080219233, 0.06427503736920781, 0.06128550074738415, 0.05979073243647237, 0.06327852516193322, 0.064773293472845], [0.05630293971101141, 0.05879422022919778, 0.05530642750373693, 0.05680119581464871, 0.05530642750373693, 0.06128550074738415, 0.058295964125560484, 0.059292476332835076, 0.06278026905829592, 0.06427503736920781]]\n"
     ]
    }
   ],
   "source": [
    "distance_metrics=['cityblock', 'cosine', 'euclidean']\n",
    "test_error=[[],[],[]]\n",
    "p=0\n",
    "for j in range(0,3):\n",
    "    for i in range(1,11):\n",
    "        knn = KNeighborsClassifier(n_neighbors=i,metric=distance_metrics[j])\n",
    "        knn.fit(x_train, y_train)\n",
    "        y_pred = knn.predict(x_test)\n",
    "        test_scores = 1 - accuracy_score(y_test, y_pred)\n",
    "        test_error[p].append(test_scores)\n",
    "    p=p+1\n",
    "print(test_error)\n",
    "        \n",
    "        \n",
    "        \n"
   ]
  },
  {
   "cell_type": "code",
   "execution_count": 124,
   "metadata": {},
   "outputs": [
    {
     "data": {
      "text/plain": [
       "(0.05430991529646234, 0.05530642750373693)"
      ]
     },
     "execution_count": 124,
     "metadata": {},
     "output_type": "execute_result"
    }
   ],
   "source": [
    "min(test_error[1]),min(test_error[2])"
   ]
  },
  {
   "cell_type": "code",
   "execution_count": 73,
   "metadata": {},
   "outputs": [
    {
     "data": {
      "text/plain": [
       "<matplotlib.legend.Legend at 0x1152585c0>"
      ]
     },
     "execution_count": 73,
     "metadata": {},
     "output_type": "execute_result"
    },
    {
     "data": {
      "image/png": "[encoded data removed]",
      "text/plain": [
       "<Figure size 504x288 with 1 Axes>"
      ]
     },
     "metadata": {},
     "output_type": "display_data"
    }
   ],
   "source": [
    "from matplotlib.ticker import PercentFormatter\n",
    "\n",
    "fig = plt.figure(1, (7,4))\n",
    "ax = fig.add_subplot(1,1,1)\n",
    "\n",
    "cityblock,=plt.plot(neighbours,test_error[0],color='blue',linestyle='dashed',marker='o',\n",
    "        markerfacecolor='blue',markersize=6)\n",
    "cosine,=plt.plot(neighbours,test_error[1],color='red',linestyle='dashed',marker='x',\n",
    "        markerfacecolor='red',markersize=6)\n",
    "euclidean,=plt.plot(neighbours,test_error[2],color='black',linestyle='dashed',marker='*',\n",
    "        markerfacecolor='black',markersize=6)\n",
    "ax.yaxis.set_major_formatter(PercentFormatter(1.0))\n",
    "plt.title('Test Error and Neighbours')\n",
    "plt.xlabel('K')\n",
    "plt.ylabel('Test Error')\n",
    "\n",
    "plt.legend([cityblock,cosine,euclidean],[\"cityblock\",\"cosine\",\"euclidean\"])"
   ]
  },
  {
   "cell_type": "markdown",
   "metadata": {},
   "source": [
    "# Problem 3"
   ]
  },
  {
   "cell_type": "code",
   "execution_count": 19,
   "metadata": {},
   "outputs": [],
   "source": [
    "def squared_inverse(x):\n",
    "    return(1/x**2)"
   ]
  },
  {
   "cell_type": "code",
   "execution_count": 20,
   "metadata": {},
   "outputs": [],
   "source": [
    "def linear_weight(x):\n",
    "        k=x.shape[1]\n",
    "        x=x.transpose()\n",
    "        weights=((x[k-1,:]-x)/(x[k-1,:]-x[0,:])).transpose()\n",
    "        return weights"
   ]
  },
  {
   "cell_type": "code",
   "execution_count": 83,
   "metadata": {},
   "outputs": [
    {
     "name": "stdout",
     "output_type": "stream",
     "text": [
      "[0.05630293971101141, 0.05630293971101141, 0.05480817140009964, 0.052815146985550565, 0.05480817140009964, 0.05480817140009964, 0.05630293971101141, 0.05530642750373693, 0.06078724464374685, 0.05979073243647237]\n"
     ]
    }
   ],
   "source": [
    "test_error_inverse_weight=[]\n",
    "for i in range(1,11):\n",
    "    knn = KNeighborsClassifier(n_neighbors=i,weights='distance')\n",
    "    knn.fit(x_train, y_train)\n",
    "    y_pred = knn.predict(x_test)\n",
    "    test_scores = 1 - accuracy_score(y_test, y_pred)\n",
    "    test_error_inverse_weight.append(test_scores)\n",
    "print(test_error_inverse_weight)"
   ]
  },
  {
   "cell_type": "code",
   "execution_count": 87,
   "metadata": {},
   "outputs": [
    {
     "name": "stdout",
     "output_type": "stream",
     "text": [
      "[0.05630293971101141, 0.05630293971101141, 0.05430991529646234, 0.05231689088191327, 0.053811659192825156, 0.053811659192825156, 0.05530642750373693, 0.053811659192825156, 0.05879422022919778, 0.059292476332835076]\n"
     ]
    }
   ],
   "source": [
    "test_error_inverse_squared_weight=[]\n",
    "for i in range(1,11):\n",
    "    knn = KNeighborsClassifier(n_neighbors=i,weights=squared_inverse)\n",
    "    knn.fit(x_train, y_train)\n",
    "    y_pred = knn.predict(x_test)\n",
    "    test_scores = 1 - accuracy_score(y_test, y_pred)\n",
    "    test_error_inverse_squared_weight.append(test_scores)\n",
    "print(test_error_inverse_squared_weight)"
   ]
  },
  {
   "cell_type": "code",
   "execution_count": 127,
   "metadata": {},
   "outputs": [
    {
     "name": "stdout",
     "output_type": "stream",
     "text": [
      "[0.05630293971101141, 0.05630293971101141, 0.05580468360737423, 0.05082212257100149, 0.051818634778276085, 0.051818634778276085, 0.0503238664673642, 0.05082212257100149, 0.05132037867463879, 0.05132037867463879]\n"
     ]
    }
   ],
   "source": [
    "test_error_linear_weight=[]\n",
    "for i in range(2,12):\n",
    "    knn = KNeighborsClassifier(n_neighbors=i,weights=linear_weight)\n",
    "    knn.fit(x_train, y_train)\n",
    "    y_pred = knn.predict(x_test)\n",
    "    test_scores = 1 - accuracy_score(y_test, y_pred)\n",
    "    test_error_linear_weight.append(test_scores)\n",
    "print(test_error_linear_weight)"
   ]
  },
  {
   "cell_type": "code",
   "execution_count": 128,
   "metadata": {},
   "outputs": [
    {
     "data": {
      "text/plain": [
       "<matplotlib.legend.Legend at 0x10be0f470>"
      ]
     },
     "execution_count": 128,
     "metadata": {},
     "output_type": "execute_result"
    },
    {
     "data": {
      "image/png": "[encoded data removed]",
      "text/plain": [
       "<Figure size 504x288 with 1 Axes>"
      ]
     },
     "metadata": {},
     "output_type": "display_data"
    }
   ],
   "source": [
    "from matplotlib.ticker import PercentFormatter\n",
    "\n",
    "fig = plt.figure(1, (7,4))\n",
    "ax = fig.add_subplot(1,1,1)\n",
    "\n",
    "inverse_w,=plt.plot(neighbours,test_error_inverse_weight,color='blue',linestyle='dashed',marker='o',\n",
    "        markerfacecolor='blue',markersize=6)\n",
    "sq_inverse_w,=plt.plot(neighbours,test_error_inverse_squared_weight,color='red',linestyle='dashed',marker='x',\n",
    "        markerfacecolor='red',markersize=6)\n",
    "linear_w,=plt.plot(neighbours,test_error_linear_weight,color='black',linestyle='dashed',marker='*',\n",
    "        markerfacecolor='black',markersize=6)\n",
    "ax.yaxis.set_major_formatter(PercentFormatter(1.0))\n",
    "plt.title('Test Error and Neighbours')\n",
    "plt.xlabel('K')\n",
    "plt.ylabel('Test Error')\n",
    "\n",
    "plt.legend([inverse_w,sq_inverse_w,linear_w],[\"inverse\",\"squared inverse\",\"linear\"])"
   ]
  },
  {
   "cell_type": "markdown",
   "metadata": {},
   "source": [
    "# Problem 4"
   ]
  },
  {
   "cell_type": "code",
   "execution_count": 89,
   "metadata": {},
   "outputs": [],
   "source": [
    "import math\n",
    "import operator\n",
    "import numpy.linalg as LA\n",
    "import time"
   ]
  },
  {
   "cell_type": "code",
   "execution_count": 81,
   "metadata": {},
   "outputs": [],
   "source": [
    "def euclideanDistance(instance1, instance2):\n",
    " \n",
    "    return LA.norm(instance1 - instance2)"
   ]
  },
  {
   "cell_type": "code",
   "execution_count": 82,
   "metadata": {},
   "outputs": [],
   "source": [
    "def getCentroid(arr):\n",
    "    length = arr.shape[0] # num of points\n",
    "    return arr.sum(0) / length"
   ]
  },
  {
   "cell_type": "code",
   "execution_count": 83,
   "metadata": {},
   "outputs": [],
   "source": [
    "def fit(x_train, y_train):\n",
    "    classes = set(y_train)\n",
    "    numClass = len(classes)\n",
    "    class_train = {}\n",
    "    for i in range(len(x_train)):\n",
    "        key = y_train[i]\n",
    "        value = x_train[i]\n",
    "        if key not in class_train.keys():\n",
    "            class_train[key] = []\n",
    "        class_train[key].append(value)\n",
    "    return class_train"
   ]
  },
  {
   "cell_type": "code",
   "execution_count": 101,
   "metadata": {},
   "outputs": [],
   "source": [
    "def predict(class_train, x_test, k):\n",
    "    predictions = []\n",
    "    keys = class_train.keys()\n",
    "    \n",
    "    for x in x_test:\n",
    "        class_dist = [] # to store [ key, centroid_dist]\n",
    "        for key in keys:\n",
    "            value = np.array(class_train[key])\n",
    "            distances = LA.norm(x - value, axis = 1)           \n",
    "            idx = np.argsort(distances)\n",
    "            # use k nearest neighbors to find centroid point and calculate centroid dist through eculideanDistance\n",
    "            kNearestNeighbors = value[idx[0:k]]\n",
    "            \n",
    "            centroid = getCentroid( kNearestNeighbors )\n",
    "            centroid_dist = LA.norm(centroid - x) \n",
    "            \n",
    "            # add centroid_dist to class_dist (for sorting)\n",
    "            class_dist.append ( [key, centroid_dist] )\n",
    "        \n",
    "        # sort centroid_dist of x\n",
    "        #class_dist.sort(key=operator.itemgetter(1))\n",
    "        class_dist = np.array(class_dist)\n",
    "        rsp_idx = np.argsort(class_dist[:,1])\n",
    "        # predict y result for x\n",
    "        #predictions.append(class_dist[0][0])\n",
    "        predictions.append(class_dist[rsp_idx[0]][0])\n",
    "             \n",
    "    return predictions\n",
    "\n",
    "\n",
    "  "
   ]
  },
  {
   "cell_type": "code",
   "execution_count": 103,
   "metadata": {},
   "outputs": [
    {
     "name": "stdout",
     "output_type": "stream",
     "text": [
      "time for k =  1  is:  27.251490831375122\n",
      "time for k =  2  is:  27.552947998046875\n",
      "time for k =  3  is:  27.45411491394043\n",
      "time for k =  4  is:  28.53536891937256\n",
      "time for k =  5  is:  26.730284214019775\n",
      "time for k =  6  is:  26.27116584777832\n",
      "time for k =  7  is:  26.705485820770264\n",
      "time for k =  8  is:  27.926899909973145\n",
      "time for k =  9  is:  27.430617094039917\n",
      "time for k =  10  is:  27.70802116394043\n",
      "[0.05630293971101141, 0.05430991529646234, 0.0503238664673642, 0.04434479322371698, 0.04783258594917783, 0.048330842052815126, 0.04783258594917783, 0.04783258594917783, 0.047334329845540646, 0.0498256103637269]\n"
     ]
    }
   ],
   "source": [
    "test_error_kCentroid = []\n",
    "for k in range(1,11):\n",
    "    \n",
    "    start = time. time()\n",
    "    c_train = fit(x_train, y_train)\n",
    "\n",
    "    trainTime = time. time()\n",
    "\n",
    "    y_pred = predict(c_train, x_test[:], k)\n",
    "\n",
    "  \n",
    "\n",
    "    predictTime = time. time()\n",
    "\n",
    "    test_scores = 1 - accuracy_score(y_test[:], y_pred)\n",
    "    test_error_kCentroid.append(test_scores)\n",
    "    \n",
    "    end = time. time()\n",
    "\n",
    "    print(\"time for k = \",k,\" is: \", end - start)\n",
    "    \n",
    "print(test_error_kCentroid)"
   ]
  },
  {
   "cell_type": "code",
   "execution_count": 105,
   "metadata": {},
   "outputs": [
    {
     "data": {
      "text/plain": [
       "Text(0,0.5,'Test Error')"
      ]
     },
     "execution_count": 105,
     "metadata": {},
     "output_type": "execute_result"
    },
    {
     "data": {
      "image/png": "[encoded data removed]",
      "text/plain": [
       "<Figure size 504x288 with 1 Axes>"
      ]
     },
     "metadata": {},
     "output_type": "display_data"
    }
   ],
   "source": [
    "from matplotlib.ticker import PercentFormatter\n",
    "\n",
    "fig = plt.figure(1, (7,4))\n",
    "ax = fig.add_subplot(1,1,1)\n",
    "\n",
    "plt.plot(neighbours,test_error_kCentroid,color='blue',linestyle='dashed',marker='o',\n",
    "        markerfacecolor='blue',markersize=6)\n",
    "\n",
    "ax.yaxis.set_major_formatter(PercentFormatter(1.0))\n",
    "plt.title('Test Error and Neighbours')\n",
    "plt.xlabel('K')\n",
    "plt.ylabel('Test Error')\n",
    "\n"
   ]
  },
  {
   "cell_type": "code",
   "execution_count": 125,
   "metadata": {},
   "outputs": [],
   "source": [
    "from sklearn.metrics import confusion_matrix"
   ]
  },
  {
   "cell_type": "code",
   "execution_count": 126,
   "metadata": {},
   "outputs": [],
   "source": [
    "#optimal k=4\n",
    "c_train = fit(x_train, y_train)\n",
    "\n",
    "trainTime = time. time()\n",
    "\n",
    "y_pred = predict(c_train, x_test[:], 4)\n",
    "\n"
   ]
  },
  {
   "cell_type": "code",
   "execution_count": 137,
   "metadata": {},
   "outputs": [],
   "source": [
    "y_pred=np.asarray(y_pred)"
   ]
  },
  {
   "cell_type": "code",
   "execution_count": 138,
   "metadata": {},
   "outputs": [
    {
     "data": {
      "text/plain": [
       "array([[355,   0,   2,   0,   1,   0,   0,   0,   0,   1],\n",
       "       [  0, 256,   1,   0,   3,   0,   3,   1,   0,   0],\n",
       "       [  3,   0, 188,   2,   0,   0,   1,   1,   3,   0],\n",
       "       [  1,   0,   4, 150,   0,  11,   0,   0,   0,   0],\n",
       "       [  0,   1,   0,   0, 189,   2,   0,   2,   0,   6],\n",
       "       [  1,   0,   2,   1,   0, 152,   0,   0,   2,   2],\n",
       "       [  0,   0,   1,   0,   3,   3, 163,   0,   0,   0],\n",
       "       [  0,   0,   1,   1,   3,   0,   0, 139,   2,   1],\n",
       "       [  0,   0,   2,   4,   0,   2,   2,   0, 153,   3],\n",
       "       [  0,   0,   0,   0,   1,   0,   0,   2,   1, 173]])"
      ]
     },
     "execution_count": 138,
     "metadata": {},
     "output_type": "execute_result"
    }
   ],
   "source": [
    "confusion_matrix(y_test,y_pred)"
   ]
  },
  {
   "cell_type": "markdown",
   "metadata": {},
   "source": [
    "# Problem 5"
   ]
  },
  {
   "cell_type": "code",
   "execution_count": 2,
   "metadata": {},
   "outputs": [],
   "source": [
    "breastcancer=pd.read_csv('breastcancer.csv')"
   ]
  },
  {
   "cell_type": "code",
   "execution_count": 3,
   "metadata": {},
   "outputs": [
    {
     "data": {
      "text/html": [
       "<div>\n",
       "<style scoped>\n",
       "    .dataframe tbody tr th:only-of-type {\n",
       "        vertical-align: middle;\n",
       "    }\n",
       "\n",
       "    .dataframe tbody tr th {\n",
       "        vertical-align: top;\n",
       "    }\n",
       "\n",
       "    .dataframe thead th {\n",
       "        text-align: right;\n",
       "    }\n",
       "</style>\n",
       "<table border=\"1\" class=\"dataframe\">\n",
       "  <thead>\n",
       "    <tr style=\"text-align: right;\">\n",
       "      <th></th>\n",
       "      <th>Unnamed: 0</th>\n",
       "      <th>V2</th>\n",
       "      <th>V3</th>\n",
       "      <th>V4</th>\n",
       "      <th>V5</th>\n",
       "      <th>V6</th>\n",
       "      <th>V7</th>\n",
       "      <th>V8</th>\n",
       "      <th>V9</th>\n",
       "      <th>V10</th>\n",
       "      <th>V11</th>\n",
       "    </tr>\n",
       "  </thead>\n",
       "  <tbody>\n",
       "    <tr>\n",
       "      <th>0</th>\n",
       "      <td>1</td>\n",
       "      <td>5</td>\n",
       "      <td>1</td>\n",
       "      <td>1</td>\n",
       "      <td>1</td>\n",
       "      <td>2</td>\n",
       "      <td>1</td>\n",
       "      <td>3</td>\n",
       "      <td>1</td>\n",
       "      <td>1</td>\n",
       "      <td>2</td>\n",
       "    </tr>\n",
       "    <tr>\n",
       "      <th>1</th>\n",
       "      <td>2</td>\n",
       "      <td>5</td>\n",
       "      <td>4</td>\n",
       "      <td>4</td>\n",
       "      <td>5</td>\n",
       "      <td>7</td>\n",
       "      <td>10</td>\n",
       "      <td>3</td>\n",
       "      <td>2</td>\n",
       "      <td>1</td>\n",
       "      <td>2</td>\n",
       "    </tr>\n",
       "    <tr>\n",
       "      <th>2</th>\n",
       "      <td>3</td>\n",
       "      <td>3</td>\n",
       "      <td>1</td>\n",
       "      <td>1</td>\n",
       "      <td>1</td>\n",
       "      <td>2</td>\n",
       "      <td>2</td>\n",
       "      <td>3</td>\n",
       "      <td>1</td>\n",
       "      <td>1</td>\n",
       "      <td>2</td>\n",
       "    </tr>\n",
       "    <tr>\n",
       "      <th>3</th>\n",
       "      <td>4</td>\n",
       "      <td>6</td>\n",
       "      <td>8</td>\n",
       "      <td>8</td>\n",
       "      <td>1</td>\n",
       "      <td>3</td>\n",
       "      <td>4</td>\n",
       "      <td>3</td>\n",
       "      <td>7</td>\n",
       "      <td>1</td>\n",
       "      <td>2</td>\n",
       "    </tr>\n",
       "    <tr>\n",
       "      <th>4</th>\n",
       "      <td>5</td>\n",
       "      <td>4</td>\n",
       "      <td>1</td>\n",
       "      <td>1</td>\n",
       "      <td>3</td>\n",
       "      <td>2</td>\n",
       "      <td>1</td>\n",
       "      <td>3</td>\n",
       "      <td>1</td>\n",
       "      <td>1</td>\n",
       "      <td>2</td>\n",
       "    </tr>\n",
       "  </tbody>\n",
       "</table>\n",
       "</div>"
      ],
      "text/plain": [
       "   Unnamed: 0  V2  V3  V4  V5  V6  V7  V8  V9  V10  V11\n",
       "0           1   5   1   1   1   2   1   3   1    1    2\n",
       "1           2   5   4   4   5   7  10   3   2    1    2\n",
       "2           3   3   1   1   1   2   2   3   1    1    2\n",
       "3           4   6   8   8   1   3   4   3   7    1    2\n",
       "4           5   4   1   1   3   2   1   3   1    1    2"
      ]
     },
     "execution_count": 3,
     "metadata": {},
     "output_type": "execute_result"
    }
   ],
   "source": [
    "breastcancer.head(5)"
   ]
  },
  {
   "cell_type": "code",
   "execution_count": 4,
   "metadata": {},
   "outputs": [
    {
     "data": {
      "text/plain": [
       "(699, 11)"
      ]
     },
     "execution_count": 4,
     "metadata": {},
     "output_type": "execute_result"
    }
   ],
   "source": [
    "breastcancer.shape"
   ]
  },
  {
   "cell_type": "code",
   "execution_count": 5,
   "metadata": {},
   "outputs": [],
   "source": [
    "breastcancer=breastcancer.drop(breastcancer.columns[0],1)"
   ]
  },
  {
   "cell_type": "code",
   "execution_count": 6,
   "metadata": {},
   "outputs": [],
   "source": [
    "breastcancer_x=breastcancer.iloc[:,[0,1,2,3,4,5,6,7,8]]"
   ]
  },
  {
   "cell_type": "code",
   "execution_count": 7,
   "metadata": {},
   "outputs": [],
   "source": [
    "breastcancer_y=breastcancer.iloc[:,9]"
   ]
  },
  {
   "cell_type": "code",
   "execution_count": 8,
   "metadata": {},
   "outputs": [
    {
     "name": "stdout",
     "output_type": "stream",
     "text": [
      "[[0.04845043114444614, 0.0613692389553403, 0.03853192218261865, 0.03991982098212008, 0.03708279576946345, 0.04133811491839965, 0.03705210907262033, 0.04417499435102377, 0.04274627714241981, 0.041317705713848366], [0.047044586358732085, 0.05710669815997434, 0.03708541101682559, 0.03706470708307817, 0.034186860292187905, 0.034186860292187905, 0.03134925494998979, 0.03561484851135799, 0.03273700172046773, 0.035574023853264504]]\n"
     ]
    }
   ],
   "source": [
    "#try different cross-validation \n",
    "cv_scores=[[],[]]\n",
    "p=0\n",
    "for j in [5,10]:\n",
    "    for i in range(1,11) :\n",
    "        knn = KNeighborsClassifier(n_neighbors=i)\n",
    "        scores=1-cross_val_score(knn,breastcancer_x,breastcancer_y,cv=j,scoring='accuracy')\n",
    "        cv_scores[p].append(scores.mean())\n",
    "    p=p+1\n",
    "print(cv_scores)"
   ]
  },
  {
   "cell_type": "code",
   "execution_count": 227,
   "metadata": {},
   "outputs": [
    {
     "data": {
      "text/plain": [
       "0.03134925494998979"
      ]
     },
     "execution_count": 227,
     "metadata": {},
     "output_type": "execute_result"
    }
   ],
   "source": [
    "min(cv_scores[1])"
   ]
  },
  {
   "cell_type": "code",
   "execution_count": 175,
   "metadata": {},
   "outputs": [
    {
     "name": "stdout",
     "output_type": "stream",
     "text": [
      "[0.04291845493562232, 0.060085836909871244, 0.034334763948497854, 0.03719599427753934, 0.031473533619456366, 0.032904148783977114, 0.032904148783977114, 0.032904148783977114, 0.031473533619456366, 0.032904148783977114]\n"
     ]
    }
   ],
   "source": [
    "leave_one_out=[]\n",
    "loo=LeaveOneOut()\n",
    "for i in range(1,11) :\n",
    "        knn = KNeighborsClassifier(n_neighbors=i)\n",
    "        scores=1-cross_val_score(knn,breastcancer_x,breastcancer_y,cv=loo,scoring='accuracy')\n",
    "        leave_one_out.append(scores.mean())\n",
    "print(leave_one_out)"
   ]
  },
  {
   "cell_type": "code",
   "execution_count": 228,
   "metadata": {},
   "outputs": [
    {
     "data": {
      "text/plain": [
       "0.031473533619456366"
      ]
     },
     "execution_count": 228,
     "metadata": {},
     "output_type": "execute_result"
    }
   ],
   "source": [
    "min(leave_one_out)"
   ]
  },
  {
   "cell_type": "code",
   "execution_count": 176,
   "metadata": {},
   "outputs": [],
   "source": [
    "neighbours=range(1,11)"
   ]
  },
  {
   "cell_type": "code",
   "execution_count": 177,
   "metadata": {},
   "outputs": [
    {
     "data": {
      "text/plain": [
       "<matplotlib.legend.Legend at 0x1a1666eb00>"
      ]
     },
     "execution_count": 177,
     "metadata": {},
     "output_type": "execute_result"
    },
    {
     "data": {
      "image/png": "[encoded data removed]",
      "text/plain": [
       "<Figure size 504x288 with 1 Axes>"
      ]
     },
     "metadata": {},
     "output_type": "display_data"
    }
   ],
   "source": [
    "from matplotlib.ticker import PercentFormatter\n",
    "\n",
    "fig = plt.figure(1, (7,4))\n",
    "ax = fig.add_subplot(1,1,1)\n",
    "\n",
    "five_fold,=plt.plot(neighbours,cv_scores[0],color='blue',linestyle='dashed',marker='o',\n",
    "        markerfacecolor='blue',markersize=6)\n",
    "ten_fold,=plt.plot(neighbours,cv_scores[1],color='red',linestyle='dashed',marker='x',\n",
    "        markerfacecolor='red',markersize=6)\n",
    "leave_one_out_plot,=plt.plot(neighbours,leave_one_out,color='black',linestyle='dashed',marker='*',\n",
    "        markerfacecolor='black',markersize=6)\n",
    "ax.yaxis.set_major_formatter(PercentFormatter(1.0))\n",
    "plt.title('Error and Neighbours')\n",
    "plt.xlabel('K')\n",
    "plt.ylabel('Error Rate')\n",
    "\n",
    "plt.legend([five_fold,ten_fold,leave_one_out_plot],[\"5_fold\",\"10_fold\",\"leave_one_out\"])"
   ]
  },
  {
   "cell_type": "code",
   "execution_count": 9,
   "metadata": {},
   "outputs": [],
   "source": [
    "from sklearn.model_selection import train_test_split"
   ]
  },
  {
   "cell_type": "code",
   "execution_count": 11,
   "metadata": {},
   "outputs": [],
   "source": [
    "x_train_bc, x_test_bc, y_train_bc, y_test_bc = train_test_split(\n",
    "...     breastcancer_x, breastcancer_y, test_size=0.1, random_state=123)"
   ]
  },
  {
   "cell_type": "code",
   "execution_count": 12,
   "metadata": {},
   "outputs": [
    {
     "name": "stdout",
     "output_type": "stream",
     "text": [
      "[[0.014285714285714235, 0.042857142857142816, 0.042857142857142816, 0.0714285714285714, 0.08571428571428574, 0.08571428571428574, 0.0714285714285714, 0.0714285714285714, 0.05714285714285716, 0.05714285714285716], [0.15714285714285714, 0.1428571428571429, 0.12857142857142856, 0.12857142857142856, 0.11428571428571432, 0.1428571428571429, 0.12857142857142856, 0.1428571428571429, 0.12857142857142856, 0.12857142857142856], [0.042857142857142816, 0.042857142857142816, 0.014285714285714235, 0.02857142857142858, 0.02857142857142858, 0.042857142857142816, 0.02857142857142858, 0.042857142857142816, 0.02857142857142858, 0.05714285714285716]]\n"
     ]
    }
   ],
   "source": [
    "#try different distance matrics \n",
    "distance_metrics=['cityblock', 'cosine', 'euclidean']\n",
    "test_error=[[],[],[]]\n",
    "p=0\n",
    "for j in range(0,3):\n",
    "    for i in range(1,11):\n",
    "        knn = KNeighborsClassifier(n_neighbors=i,metric=distance_metrics[j])\n",
    "        knn.fit(x_train_bc, y_train_bc)\n",
    "        y_pred = knn.predict(x_test_bc)\n",
    "        test_scores = 1 - accuracy_score(y_test_bc, y_pred)\n",
    "        test_error[p].append(test_scores)\n",
    "    p=p+1\n",
    "print(test_error)\n",
    "        "
   ]
  },
  {
   "cell_type": "code",
   "execution_count": 14,
   "metadata": {},
   "outputs": [],
   "source": [
    "neighbours=range(1,11)"
   ]
  },
  {
   "cell_type": "code",
   "execution_count": 15,
   "metadata": {},
   "outputs": [
    {
     "data": {
      "text/plain": [
       "<matplotlib.legend.Legend at 0x1176c0eb8>"
      ]
     },
     "execution_count": 15,
     "metadata": {},
     "output_type": "execute_result"
    },
    {
     "data": {
      "image/png": "[encoded data removed]",
      "text/plain": [
       "<Figure size 504x288 with 1 Axes>"
      ]
     },
     "metadata": {},
     "output_type": "display_data"
    }
   ],
   "source": [
    "from matplotlib.ticker import PercentFormatter\n",
    "\n",
    "fig = plt.figure(1, (7,4))\n",
    "ax = fig.add_subplot(1,1,1)\n",
    "\n",
    "cityblock,=plt.plot(neighbours,test_error[0],color='blue',linestyle='dashed',marker='o',\n",
    "        markerfacecolor='blue',markersize=6)\n",
    "cosine,=plt.plot(neighbours,test_error[1],color='red',linestyle='dashed',marker='x',\n",
    "        markerfacecolor='red',markersize=6)\n",
    "euclidean,=plt.plot(neighbours,test_error[2],color='black',linestyle='dashed',marker='*',\n",
    "        markerfacecolor='black',markersize=6)\n",
    "ax.yaxis.set_major_formatter(PercentFormatter(1.0))\n",
    "plt.title('Test Error and Neighbours')\n",
    "plt.xlabel('K')\n",
    "plt.ylabel('Test Error')\n",
    "\n",
    "plt.legend([cityblock,cosine,euclidean],[\"cityblock\",\"cosine\",\"euclidean\"])"
   ]
  },
  {
   "cell_type": "code",
   "execution_count": 16,
   "metadata": {},
   "outputs": [],
   "source": [
    "distance_metrics=['cityblock', 'cosine', 'euclidean']"
   ]
  },
  {
   "cell_type": "code",
   "execution_count": 24,
   "metadata": {},
   "outputs": [],
   "source": [
    "x_train=x_train_bc\n",
    "y_train=y_train_bc\n",
    "y_test=y_test_bc\n",
    "x_test=x_test_bc"
   ]
  },
  {
   "cell_type": "code",
   "execution_count": 25,
   "metadata": {},
   "outputs": [
    {
     "name": "stdout",
     "output_type": "stream",
     "text": [
      "[[0.014285714285714235, 0.014285714285714235, 0.042857142857142816, 0.02857142857142858, 0.08571428571428574, 0.05714285714285716, 0.0714285714285714, 0.05714285714285716, 0.05714285714285716, 0.042857142857142816], [0.15714285714285714, 0.15714285714285714, 0.12857142857142856, 0.11428571428571432, 0.11428571428571432, 0.11428571428571432, 0.11428571428571432, 0.11428571428571432, 0.09999999999999998, 0.11428571428571432], [0.042857142857142816, 0.042857142857142816, 0.014285714285714235, 0.014285714285714235, 0.02857142857142858, 0.02857142857142858, 0.02857142857142858, 0.042857142857142816, 0.042857142857142816, 0.042857142857142816]]\n"
     ]
    }
   ],
   "source": [
    "# pick cosine distance\n",
    "test_error_inverse_weight=[[],[],[]]\n",
    "\n",
    "for j in range(0,3):\n",
    "    for i in range(1,11):\n",
    "        knn = KNeighborsClassifier(n_neighbors=i,weights='distance',metric=distance_metrics[j])\n",
    "        knn.fit(x_train, y_train)\n",
    "        y_pred = knn.predict(x_test)\n",
    "        test_scores = 1 - accuracy_score(y_test, y_pred)\n",
    "        test_error_inverse_weight[j].append(test_scores)\n",
    "print(test_error_inverse_weight)"
   ]
  },
  {
   "cell_type": "code",
   "execution_count": 26,
   "metadata": {},
   "outputs": [
    {
     "name": "stdout",
     "output_type": "stream",
     "text": [
      "[[0.014285714285714235, 0.014285714285714235, 0.042857142857142816, 0.02857142857142858, 0.08571428571428574, 0.05714285714285716, 0.0714285714285714, 0.042857142857142816, 0.05714285714285716, 0.042857142857142816], [0.15714285714285714, 0.15714285714285714, 0.11428571428571432, 0.11428571428571432, 0.11428571428571432, 0.11428571428571432, 0.11428571428571432, 0.11428571428571432, 0.11428571428571432, 0.09999999999999998], [0.042857142857142816, 0.042857142857142816, 0.014285714285714235, 0.014285714285714235, 0.02857142857142858, 0.02857142857142858, 0.042857142857142816, 0.042857142857142816, 0.042857142857142816, 0.042857142857142816]]\n"
     ]
    },
    {
     "name": "stderr",
     "output_type": "stream",
     "text": [
      "/Users/xinzhang/anaconda3/lib/python3.6/site-packages/ipykernel_launcher.py:2: RuntimeWarning: divide by zero encountered in true_divide\n",
      "  \n"
     ]
    }
   ],
   "source": [
    "test_error_inverse_squared_weight=[[],[],[]]\n",
    "for j in range(0,3):\n",
    "    for i in range(1,11):\n",
    "        knn = KNeighborsClassifier(n_neighbors=i,weights=squared_inverse,metric=distance_metrics[j])\n",
    "        knn.fit(x_train, y_train)\n",
    "        y_pred = knn.predict(x_test)\n",
    "        test_scores = 1 - accuracy_score(y_test, y_pred)\n",
    "        test_error_inverse_squared_weight[j].append(test_scores)\n",
    "print(test_error_inverse_squared_weight)"
   ]
  },
  {
   "cell_type": "code",
   "execution_count": 27,
   "metadata": {},
   "outputs": [
    {
     "name": "stdout",
     "output_type": "stream",
     "text": [
      "[[0.11428571428571432, 0.02857142857142858, 0.014285714285714235, 0.014285714285714235, 0.042857142857142816, 0.042857142857142816, 0.042857142857142816, 0.042857142857142816, 0.042857142857142816, 0.05714285714285716], [0.15714285714285714, 0.15714285714285714, 0.12857142857142856, 0.12857142857142856, 0.12857142857142856, 0.12857142857142856, 0.12857142857142856, 0.12857142857142856, 0.12857142857142856, 0.12857142857142856], [0.0714285714285714, 0.042857142857142816, 0.014285714285714235, 0.014285714285714235, 0.014285714285714235, 0.014285714285714235, 0.014285714285714235, 0.014285714285714235, 0.014285714285714235, 0.02857142857142858]]\n"
     ]
    },
    {
     "name": "stderr",
     "output_type": "stream",
     "text": [
      "/Users/xinzhang/anaconda3/lib/python3.6/site-packages/ipykernel_launcher.py:4: RuntimeWarning: invalid value encountered in true_divide\n",
      "  after removing the cwd from sys.path.\n",
      "/Users/xinzhang/anaconda3/lib/python3.6/site-packages/sklearn/utils/extmath.py:439: RuntimeWarning: invalid value encountered in greater\n",
      "  mostfrequent = np.where(counts > oldcounts, score, oldmostfreq)\n"
     ]
    }
   ],
   "source": [
    "test_error_linear_weight=[[],[],[]]\n",
    "for j in range(0,3):\n",
    "    for i in range(2,12):\n",
    "        knn = KNeighborsClassifier(n_neighbors=i,weights=linear_weight,metric=distance_metrics[j])\n",
    "        knn.fit(x_train, y_train)\n",
    "        y_pred = knn.predict(x_test)\n",
    "        test_scores = 1 - accuracy_score(y_test, y_pred)\n",
    "        test_error_linear_weight[j].append(test_scores)\n",
    "print(test_error_linear_weight)"
   ]
  },
  {
   "cell_type": "code",
   "execution_count": 28,
   "metadata": {},
   "outputs": [],
   "source": [
    "import matplotlib.pylab as pl\n",
    "colors = pl.cm.jet(np.linspace(0,1,9))"
   ]
  },
  {
   "cell_type": "code",
   "execution_count": 29,
   "metadata": {},
   "outputs": [
    {
     "data": {
      "text/plain": [
       "<matplotlib.legend.Legend at 0x1a203f8550>"
      ]
     },
     "execution_count": 29,
     "metadata": {},
     "output_type": "execute_result"
    },
    {
     "data": {
      "image/png": "[encoded data removed]",
      "text/plain": [
       "<Figure size 504x288 with 1 Axes>"
      ]
     },
     "metadata": {},
     "output_type": "display_data"
    }
   ],
   "source": [
    "from matplotlib.ticker import PercentFormatter\n",
    "\n",
    "fig = plt.figure(1, (7,4))\n",
    "ax = fig.add_subplot(1,1,1)\n",
    "\n",
    "inverse_w_cityblock,=plt.plot(neighbours,test_error_inverse_weight[0],color=colors[0],linestyle='dashed',marker='o',\n",
    "        markerfacecolor=colors[0],markersize=6)\n",
    "inverse_w_cosine,=plt.plot(neighbours,test_error_inverse_weight[1],color=colors[1],linestyle='dashed',marker='o',\n",
    "        markerfacecolor=colors[1],markersize=6)\n",
    "inverse_w_euclidean,=plt.plot(neighbours,test_error_inverse_weight[2],color=colors[2],linestyle='dashed',marker='o',\n",
    "        markerfacecolor=colors[2],markersize=6)\n",
    "\n",
    "sq_inverse_w_cityblock,=plt.plot(neighbours,test_error_inverse_squared_weight[0],color=colors[3],linestyle='dashed',marker='x',\n",
    "        markerfacecolor=colors[3],markersize=6)\n",
    "sq_inverse_w_cosine,=plt.plot(neighbours,test_error_inverse_squared_weight[1],color=colors[4],linestyle='dashed',marker='x',\n",
    "        markerfacecolor=colors[4],markersize=6)\n",
    "sq_inverse_w_euclidean,=plt.plot(neighbours,test_error_inverse_squared_weight[2],color=colors[5],linestyle='dashed',marker='x',\n",
    "        markerfacecolor=colors[5],markersize=6)\n",
    "\n",
    "linear_w_cityblock,=plt.plot(neighbours,test_error_linear_weight[0],color=colors[6],linestyle='dashed',marker='*',\n",
    "        markerfacecolor=colors[6],markersize=6)\n",
    "linear_w_cosine,=plt.plot(neighbours,test_error_linear_weight[1],color=colors[7],linestyle='dashed',marker='*',\n",
    "        markerfacecolor=colors[7],markersize=6)\n",
    "linear_w_euclidean,=plt.plot(neighbours,test_error_linear_weight[2],color=colors[8],linestyle='dashed',marker='*',\n",
    "        markerfacecolor=colors[8],markersize=6)\n",
    "\n",
    "\n",
    "ax.yaxis.set_major_formatter(PercentFormatter(1.0))\n",
    "plt.title('Test Error and Neighbours')\n",
    "plt.xlabel('K')\n",
    "plt.ylabel('Test Error')\n",
    "\n",
    "plt.legend([inverse_w_cityblock,inverse_w_cosine,inverse_w_euclidean,\n",
    "            sq_inverse_w_cityblock,sq_inverse_w_cosine,sq_inverse_w_euclidean,\n",
    "            linear_w_cityblock,linear_w_cosine,linear_w_euclidean],\n",
    "           [\"inverse_cityblock\",\"inverse_cosine\",\"inverse_euclidean\",\n",
    "            \"squared inverse_cityblock\",\"squared inverse_cosine\",\"squared inverse_euclidean\",\n",
    "            \"linear_cityblock\",\"linear_cosine\",\"linear_euclidean\"],loc='upper left',bbox_to_anchor=(1, 0.5))"
   ]
  },
  {
   "cell_type": "code",
   "execution_count": 229,
   "metadata": {},
   "outputs": [
    {
     "data": {
      "text/plain": [
       "0.0503238664673642"
      ]
     },
     "execution_count": 229,
     "metadata": {},
     "output_type": "execute_result"
    }
   ],
   "source": [
    "min(test_error_linear_weight[2])"
   ]
  },
  {
   "cell_type": "code",
   "execution_count": null,
   "metadata": {},
   "outputs": [],
   "source": []
  }
 ],
 "metadata": {
  "kernelspec": {
   "display_name": "Python 3",
   "language": "python",
   "name": "python3"
  },
  "language_info": {
   "codemirror_mode": {
    "name": "ipython",
    "version": 3
   },
   "file_extension": ".py",
   "mimetype": "text/x-python",
   "name": "python",
   "nbconvert_exporter": "python",
   "pygments_lexer": "ipython3",
   "version": "3.6.5"
  }
 },
 "nbformat": 4,
 "nbformat_minor": 2
}
