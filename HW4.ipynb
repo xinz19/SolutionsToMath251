{
 "cells": [
  {
   "cell_type": "code",
   "execution_count": 2,
   "metadata": {},
   "outputs": [],
   "source": [
    "import numpy as np\n",
    "import matplotlib.pyplot as plt\n",
    "import pandas as pd\n",
    "import sklearn\n",
    "from sklearn.neighbors import KNeighborsClassifier\n",
    "from sklearn.model_selection import cross_val_score,LeaveOneOut,train_test_split\n",
    "from sklearn.metrics import accuracy_score, classification_report,confusion_matrix\n",
    "% matplotlib inline"
   ]
  },
  {
   "cell_type": "code",
   "execution_count": 2,
   "metadata": {},
   "outputs": [],
   "source": [
    "from sklearn.preprocessing import StandardScaler\n",
    "from sklearn.decomposition import PCA"
   ]
  },
  {
   "cell_type": "code",
   "execution_count": 3,
   "metadata": {},
   "outputs": [],
   "source": [
    "from sklearn.discriminant_analysis import LinearDiscriminantAnalysis"
   ]
  },
  {
   "cell_type": "code",
   "execution_count": 7,
   "metadata": {},
   "outputs": [],
   "source": [
    "from sklearn.discriminant_analysis import QuadraticDiscriminantAnalysis"
   ]
  },
  {
   "cell_type": "markdown",
   "metadata": {},
   "source": [
    "# Problem 1"
   ]
  },
  {
   "cell_type": "code",
   "execution_count": 3,
   "metadata": {},
   "outputs": [],
   "source": [
    "train = np.loadtxt('zip.train')\n",
    "test  = np.loadtxt('zip.test')"
   ]
  },
  {
   "cell_type": "code",
   "execution_count": 9,
   "metadata": {},
   "outputs": [
    {
     "data": {
      "text/plain": [
       "((7291, 257), (2007, 257))"
      ]
     },
     "execution_count": 9,
     "metadata": {},
     "output_type": "execute_result"
    }
   ],
   "source": [
    "train.shape, test.shape"
   ]
  },
  {
   "cell_type": "code",
   "execution_count": 10,
   "metadata": {},
   "outputs": [],
   "source": [
    "usps=np.concatenate((train,test), axis=0)"
   ]
  },
  {
   "cell_type": "code",
   "execution_count": 11,
   "metadata": {},
   "outputs": [
    {
     "data": {
      "text/plain": [
       "(9298, 257)"
      ]
     },
     "execution_count": 11,
     "metadata": {},
     "output_type": "execute_result"
    }
   ],
   "source": [
    "usps.shape"
   ]
  },
  {
   "cell_type": "code",
   "execution_count": 16,
   "metadata": {},
   "outputs": [],
   "source": [
    "usps_y=usps[:,0]\n",
    "usps_x=usps[:,1:]"
   ]
  },
  {
   "cell_type": "code",
   "execution_count": 4,
   "metadata": {},
   "outputs": [],
   "source": [
    "y_train=train[:,0]\n",
    "x_train=train[:,1:]\n",
    "y_test=test[:,0]\n",
    "x_test=test[:,1:]"
   ]
  },
  {
   "cell_type": "code",
   "execution_count": 6,
   "metadata": {},
   "outputs": [
    {
     "data": {
      "text/plain": [
       "array([6., 5., 4., ..., 3., 0., 1.])"
      ]
     },
     "execution_count": 6,
     "metadata": {},
     "output_type": "execute_result"
    }
   ],
   "source": [
    "y_train"
   ]
  },
  {
   "cell_type": "code",
   "execution_count": 24,
   "metadata": {},
   "outputs": [],
   "source": [
    "pca95 = PCA(0.95)\n",
    "pca95.fit(x_train)\n",
    "x_train_transformed_95 = pca95.transform(x_train)\n",
    "x_test_transformed_95=pca95.transform(x_test)\n"
   ]
  },
  {
   "cell_type": "code",
   "execution_count": 69,
   "metadata": {},
   "outputs": [],
   "source": [
    "lda=LinearDiscriminantAnalysis()\n",
    "lda.fit(x_train_transformed_95,y_train)\n",
    "#x_train_LDA=lda.transform(x_train_transformed_95)\n",
    "x_test_LDA=lda.transform(x_test_transformed_95)\n",
    "x_test_pred=lda.predict(x_test_transformed_95)\n",
    "error=sum(x_test_pred!=y_test)/len(y_test)\n"
   ]
  },
  {
   "cell_type": "code",
   "execution_count": 70,
   "metadata": {},
   "outputs": [],
   "source": [
    "error_95_lda=np.repeat(error,10,axis=0)"
   ]
  },
  {
   "cell_type": "code",
   "execution_count": 71,
   "metadata": {},
   "outputs": [
    {
     "data": {
      "text/plain": [
       "array([0.11858495, 0.11858495, 0.11858495, 0.11858495, 0.11858495,\n",
       "       0.11858495, 0.11858495, 0.11858495, 0.11858495, 0.11858495])"
      ]
     },
     "execution_count": 71,
     "metadata": {},
     "output_type": "execute_result"
    }
   ],
   "source": [
    "error_95_lda"
   ]
  },
  {
   "cell_type": "code",
   "execution_count": 37,
   "metadata": {},
   "outputs": [
    {
     "name": "stdout",
     "output_type": "stream",
     "text": [
      "[0.05331340308918786, 0.05580468360737423, 0.05430991529646234, 0.05530642750373693, 0.05231689088191327, 0.05580468360737423, 0.05580468360737423, 0.058295964125560484, 0.06028898854010967, 0.06377678126557051]\n",
      "[1.1511409282684326, 1.1975860595703125, 1.3085992336273193, 1.3514392375946045, 1.2844688892364502, 1.3975749015808105, 1.4846301078796387, 1.5473008155822754, 1.5870471000671387, 1.4942431449890137]\n"
     ]
    }
   ],
   "source": [
    "test_error_KNN_95=[]\n",
    "compute_time_KNN_95=[]\n",
    "\n",
    "for i in range(1,11):\n",
    "    start=time.time()\n",
    "    knn = KNeighborsClassifier(n_neighbors=i)\n",
    "    knn.fit(x_train_transformed_95, y_train)\n",
    "    y_pred = knn.predict(x_test_transformed_95)\n",
    "    test_scores = 1 - accuracy_score(y_test, y_pred)\n",
    "    test_error_KNN_95.append(test_scores)\n",
    "    end=time.time()\n",
    "    compute_time_KNN_95.append(end-start)\n",
    "print(test_error_KNN_95)\n",
    "print(compute_time_KNN_95)"
   ]
  },
  {
   "cell_type": "code",
   "execution_count": 19,
   "metadata": {},
   "outputs": [],
   "source": [
    "import math\n",
    "import operator\n",
    "import numpy.linalg as LA\n",
    "import time"
   ]
  },
  {
   "cell_type": "code",
   "execution_count": 20,
   "metadata": {},
   "outputs": [],
   "source": [
    "def euclideanDistance(instance1, instance2):\n",
    " \n",
    "    return LA.norm(instance1 - instance2)"
   ]
  },
  {
   "cell_type": "code",
   "execution_count": 21,
   "metadata": {},
   "outputs": [],
   "source": [
    "def getCentroid(arr):\n",
    "    length = arr.shape[0] # num of points\n",
    "    return arr.sum(0) / length"
   ]
  },
  {
   "cell_type": "code",
   "execution_count": 22,
   "metadata": {},
   "outputs": [],
   "source": [
    "def fit(x_train, y_train):\n",
    "    classes = set(y_train)\n",
    "    numClass = len(classes)\n",
    "    class_train = {}\n",
    "    for i in range(len(x_train)):\n",
    "        key = y_train[i]\n",
    "        value = x_train[i]\n",
    "        if key not in class_train.keys():\n",
    "            class_train[key] = []\n",
    "        class_train[key].append(value)\n",
    "    return class_train"
   ]
  },
  {
   "cell_type": "code",
   "execution_count": 23,
   "metadata": {},
   "outputs": [],
   "source": [
    "def predict(class_train, x_test, k):\n",
    "    predictions = []\n",
    "    keys = class_train.keys()\n",
    "    \n",
    "    for x in x_test:\n",
    "        class_dist = [] # to store [ key, centroid_dist]\n",
    "        for key in keys:\n",
    "            value = np.array(class_train[key])\n",
    "            distances = LA.norm(x - value, axis = 1)           \n",
    "            idx = np.argsort(distances)\n",
    "            # use k nearest neighbors to find centroid point and calculate centroid dist through eculideanDistance\n",
    "            kNearestNeighbors = value[idx[0:k]]\n",
    "            \n",
    "            centroid = getCentroid( kNearestNeighbors )\n",
    "            centroid_dist = LA.norm(centroid - x) \n",
    "            \n",
    "            # add centroid_dist to class_dist (for sorting)\n",
    "            class_dist.append ( [key, centroid_dist] )\n",
    "        \n",
    "        # sort centroid_dist of x\n",
    "        #class_dist.sort(key=operator.itemgetter(1))\n",
    "        class_dist = np.array(class_dist)\n",
    "        rsp_idx = np.argsort(class_dist[:,1])\n",
    "        # predict y result for x\n",
    "        #predictions.append(class_dist[0][0])\n",
    "        predictions.append(class_dist[rsp_idx[0]][0])\n",
    "             \n",
    "    return predictions"
   ]
  },
  {
   "cell_type": "code",
   "execution_count": 36,
   "metadata": {},
   "outputs": [
    {
     "name": "stdout",
     "output_type": "stream",
     "text": [
      "[0.05331340308918786, 0.0503238664673642, 0.045341305430991574, 0.045341305430991574, 0.045341305430991574, 0.045341305430991574, 0.04882909815645242, 0.04783258594917783, 0.04783258594917783, 0.04783258594917783]\n",
      "[9.559170007705688, 10.056375741958618, 10.210526943206787, 9.796590089797974, 10.111027002334595, 9.923945903778076, 9.935244083404541, 9.812780857086182, 10.164266109466553, 10.192359924316406]\n"
     ]
    }
   ],
   "source": [
    "test_error_kCentroid_95 = []\n",
    "compute_time_kcentroid_95=[]\n",
    "\n",
    "for k in range(1,11):\n",
    "    \n",
    "    start = time. time()\n",
    "    c_train = fit(x_train_transformed_95, y_train)\n",
    "\n",
    "    y_pred = predict(c_train, x_test_transformed_95[:], k)\n",
    "\n",
    "    test_scores = 1 - accuracy_score(y_test[:], y_pred)\n",
    "    test_error_kCentroid_95.append(test_scores)\n",
    "    end = time. time()\n",
    "    compute_time_kcentroid_95.append(end-start)\n",
    "    \n",
    "print(test_error_kCentroid_95)\n",
    "print(compute_time_kcentroid_95)"
   ]
  },
  {
   "cell_type": "code",
   "execution_count": 282,
   "metadata": {},
   "outputs": [],
   "source": [
    "pca99 = PCA(0.99)\n",
    "pca99.fit(x_train)\n",
    "x_train_transformed_99 = pca99.transform(x_train)\n",
    "x_test_transformed_99=pca99.transform(x_test)"
   ]
  },
  {
   "cell_type": "code",
   "execution_count": 72,
   "metadata": {},
   "outputs": [],
   "source": [
    "lda=LinearDiscriminantAnalysis()\n",
    "lda.fit(x_train_transformed_99,y_train)\n",
    "#x_train_LDA=lda.transform(x_train_transformed_99)\n",
    "x_test_LDA=lda.transform(x_test_transformed_99)\n",
    "x_test_pred=lda.predict(x_test_transformed_99)\n",
    "error=sum(x_test_pred!=y_test)/len(y_test)\n"
   ]
  },
  {
   "cell_type": "code",
   "execution_count": 283,
   "metadata": {},
   "outputs": [
    {
     "data": {
      "text/plain": [
       "(7291, 169)"
      ]
     },
     "execution_count": 283,
     "metadata": {},
     "output_type": "execute_result"
    }
   ],
   "source": [
    "x_train_transformed_99.shape"
   ]
  },
  {
   "cell_type": "code",
   "execution_count": 284,
   "metadata": {},
   "outputs": [
    {
     "data": {
      "text/plain": [
       "(7291, 256)"
      ]
     },
     "execution_count": 284,
     "metadata": {},
     "output_type": "execute_result"
    }
   ],
   "source": [
    "x_train.shape"
   ]
  },
  {
   "cell_type": "code",
   "execution_count": 73,
   "metadata": {},
   "outputs": [],
   "source": [
    "error_99_lda=np.repeat(error,10,axis=0)"
   ]
  },
  {
   "cell_type": "code",
   "execution_count": 74,
   "metadata": {},
   "outputs": [
    {
     "data": {
      "text/plain": [
       "array([0.11509716, 0.11509716, 0.11509716, 0.11509716, 0.11509716,\n",
       "       0.11509716, 0.11509716, 0.11509716, 0.11509716, 0.11509716])"
      ]
     },
     "execution_count": 74,
     "metadata": {},
     "output_type": "execute_result"
    }
   ],
   "source": [
    "error_99_lda"
   ]
  },
  {
   "cell_type": "code",
   "execution_count": 46,
   "metadata": {},
   "outputs": [
    {
     "name": "stdout",
     "output_type": "stream",
     "text": [
      "[0.05580468360737423, 0.05680119581464871, 0.05331340308918786, 0.05480817140009964, 0.05580468360737423, 0.05979073243647237, 0.05630293971101141, 0.059292476332835076, 0.06278026905829592, 0.06576980568011959]\n",
      "[2.2389588356018066, 2.3727810382843018, 2.48864483833313, 2.552361011505127, 3.3540420532226562, 3.136394739151001, 3.029146194458008, 2.8969852924346924, 3.294023036956787, 4.733198881149292]\n"
     ]
    }
   ],
   "source": [
    "test_error_KNN_99=[]\n",
    "compute_time_KNN_99=[]\n",
    "\n",
    "for i in range(1,11):\n",
    "    start=time.time()\n",
    "    knn = KNeighborsClassifier(n_neighbors=i)\n",
    "    knn.fit(x_train_transformed_99, y_train)\n",
    "    y_pred = knn.predict(x_test_transformed_99)\n",
    "    test_scores = 1 - accuracy_score(y_test, y_pred)\n",
    "    test_error_KNN_99.append(test_scores)\n",
    "    end=time.time()\n",
    "    compute_time_KNN_99.append(end-start)\n",
    "print(test_error_KNN_99)\n",
    "print(compute_time_KNN_99)\n"
   ]
  },
  {
   "cell_type": "code",
   "execution_count": 47,
   "metadata": {},
   "outputs": [
    {
     "name": "stdout",
     "output_type": "stream",
     "text": [
      "[0.05580468360737423, 0.05430991529646234, 0.0498256103637269, 0.04683607374190335, 0.047334329845540646, 0.048330842052815126, 0.04783258594917783, 0.047334329845540646, 0.0498256103637269, 0.04882909815645242]\n",
      "[24.08208394050598, 22.427207946777344, 21.76434302330017, 23.478022813796997, 23.048779010772705, 23.29453992843628, 22.101472854614258, 22.46629786491394, 22.268059968948364, 23.457993984222412]\n"
     ]
    }
   ],
   "source": [
    "test_error_kCentroid_99 = []\n",
    "compute_time_kcentroid_99=[]\n",
    "\n",
    "for k in range(1,11):\n",
    "    \n",
    "    start = time. time()\n",
    "    c_train = fit(x_train_transformed_99, y_train)\n",
    "\n",
    "    y_pred = predict(c_train, x_test_transformed_99[:], k)\n",
    "\n",
    "    test_scores = 1 - accuracy_score(y_test[:], y_pred)\n",
    "    test_error_kCentroid_99.append(test_scores)\n",
    "    end = time. time()\n",
    "    compute_time_kcentroid_99.append(end-start)\n",
    "    \n",
    "print(test_error_kCentroid_99)\n",
    "print(compute_time_kcentroid_99)\n"
   ]
  },
  {
   "cell_type": "code",
   "execution_count": 48,
   "metadata": {},
   "outputs": [],
   "source": [
    "neighbours=range(1,11)"
   ]
  },
  {
   "cell_type": "code",
   "execution_count": 50,
   "metadata": {},
   "outputs": [],
   "source": [
    "import matplotlib.pylab as pl\n",
    "colors = pl.cm.jet(np.linspace(0,1,6))"
   ]
  },
  {
   "cell_type": "code",
   "execution_count": 76,
   "metadata": {},
   "outputs": [
    {
     "data": {
      "text/plain": [
       "<matplotlib.legend.Legend at 0x1a115fb0f0>"
      ]
     },
     "execution_count": 76,
     "metadata": {},
     "output_type": "execute_result"
    },
    {
     "data": {
      "image/png": "[encoded data removed]",
      "text/plain": [
       "<Figure size 720x576 with 1 Axes>"
      ]
     },
     "metadata": {},
     "output_type": "display_data"
    }
   ],
   "source": [
    "from matplotlib.ticker import PercentFormatter\n",
    "\n",
    "fig = plt.figure(1, (10,8))\n",
    "ax = fig.add_subplot(1,1,1)\n",
    "\n",
    "\n",
    "test_error_kCentroid95_g,=plt.plot(neighbours,test_error_kCentroid_95,color=colors[0],linestyle='dashed',marker='x',\n",
    "        markerfacecolor=colors[0],markersize=6)\n",
    "test_error_KNN95_g,=plt.plot(neighbours,test_error_KNN_95,color=colors[1],linestyle='dashed',marker='*',\n",
    "        markerfacecolor=colors[1],markersize=6)\n",
    "test_error_LDA95_g,=plt.plot(neighbours,error_95_lda,color=colors[2],linestyle='dashed',marker='+',\n",
    "        markerfacecolor=colors[2],markersize=6)\n",
    "test_error_LDA99_g,=plt.plot(neighbours,error_99_lda,color=colors[3],linestyle='dashed',marker='+',\n",
    "        markerfacecolor=colors[3],markersize=6)\n",
    "test_error_pca_kCentroid99_g,=plt.plot(neighbours,test_error_kCentroid_99,color=colors[4],linestyle='dashed',marker='x',\n",
    "        markerfacecolor=colors[4],markersize=6)\n",
    "test_error_pca_KNN99_g,=plt.plot(neighbours,test_error_KNN_99,color=colors[5],linestyle='dashed',marker='*',\n",
    "        markerfacecolor=colors[5],markersize=6)\n",
    "\n",
    "ax.yaxis.set_major_formatter(PercentFormatter(1.0))\n",
    "plt.title('Test Error and Neighbours')\n",
    "plt.xlabel('K')\n",
    "plt.ylabel('Test Error')\n",
    "\n",
    "plt.legend([test_error_kCentroid95_g,test_error_KNN95_g,test_error_LDA95_g,test_error_LDA99_g,test_error_pca_kCentroid99_g,test_error_pca_KNN99_g],\n",
    "           [\"95%PCA + NLC\",\"95%PCA+ KNN\", \"95%PCA +LDA\",\"99%PCA+LDA\",\"99%PCA+NLC\",\"99%PCA+KNN\"])"
   ]
  },
  {
   "cell_type": "markdown",
   "metadata": {},
   "source": [
    "# Problem 2"
   ]
  },
  {
   "cell_type": "code",
   "execution_count": 61,
   "metadata": {},
   "outputs": [],
   "source": [
    "qda=QuadraticDiscriminantAnalysis()\n",
    "x_test_pred=qda.fit(x_train_transformed_95,y_train).predict(x_test_transformed_95)\n",
    "#x_train_LDA=lda.transform(x_train_transformed_95)\n",
    "#x_test_QDA=qda.transform(x_test_transformed_95)\n",
    "#x_test_pred=qda.predict(x_test_transformed_95)\n",
    "error=sum(x_test_pred!=y_test)/len(y_test)"
   ]
  },
  {
   "cell_type": "code",
   "execution_count": 62,
   "metadata": {},
   "outputs": [],
   "source": [
    "error_95_qda=np.repeat(error,10,axis=0)"
   ]
  },
  {
   "cell_type": "code",
   "execution_count": 63,
   "metadata": {},
   "outputs": [
    {
     "data": {
      "text/plain": [
       "array([0.07573493, 0.07573493, 0.07573493, 0.07573493, 0.07573493,\n",
       "       0.07573493, 0.07573493, 0.07573493, 0.07573493, 0.07573493])"
      ]
     },
     "execution_count": 63,
     "metadata": {},
     "output_type": "execute_result"
    }
   ],
   "source": [
    "error_95_qda"
   ]
  },
  {
   "cell_type": "code",
   "execution_count": 77,
   "metadata": {},
   "outputs": [
    {
     "name": "stderr",
     "output_type": "stream",
     "text": [
      "/Users/xinzhang/anaconda3/lib/python3.6/site-packages/sklearn/discriminant_analysis.py:682: UserWarning: Variables are collinear\n",
      "  warnings.warn(\"Variables are collinear\")\n"
     ]
    }
   ],
   "source": [
    "qda=QuadraticDiscriminantAnalysis()\n",
    "x_test_pred=qda.fit(x_train_transformed_99,y_train).predict(x_test_transformed_99)\n",
    "error=sum(x_test_pred!=y_test)/len(y_test)"
   ]
  },
  {
   "cell_type": "code",
   "execution_count": 78,
   "metadata": {},
   "outputs": [],
   "source": [
    "error_99_qda=np.repeat(error,10,axis=0)"
   ]
  },
  {
   "cell_type": "code",
   "execution_count": 79,
   "metadata": {},
   "outputs": [
    {
     "data": {
      "text/plain": [
       "array([0.09367215, 0.09367215, 0.09367215, 0.09367215, 0.09367215,\n",
       "       0.09367215, 0.09367215, 0.09367215, 0.09367215, 0.09367215])"
      ]
     },
     "execution_count": 79,
     "metadata": {},
     "output_type": "execute_result"
    }
   ],
   "source": [
    "error_99_qda"
   ]
  },
  {
   "cell_type": "code",
   "execution_count": 92,
   "metadata": {},
   "outputs": [],
   "source": [
    "lda_qda= {'LDA': [error_95_lda[0],error_99_lda[0]],\n",
    "           'QDA':[error_95_qda[0],error_99_qda[0]]}\n",
    "                    "
   ]
  },
  {
   "cell_type": "code",
   "execution_count": 106,
   "metadata": {},
   "outputs": [
    {
     "data": {
      "text/plain": [
       "{'LDA': [0.11858495266567015, 0.11509715994020926],\n",
       " 'QDA': [0.07573492775286497, 0.09367214748380667]}"
      ]
     },
     "execution_count": 106,
     "metadata": {},
     "output_type": "execute_result"
    }
   ],
   "source": [
    "lda_qda"
   ]
  },
  {
   "cell_type": "code",
   "execution_count": 102,
   "metadata": {},
   "outputs": [],
   "source": [
    "df=pd.DataFrame(lda_qda, columns=['LDA','QDA'],index=['PCA with 95% Variance','PCA with 99% Variance'])"
   ]
  },
  {
   "cell_type": "code",
   "execution_count": 103,
   "metadata": {},
   "outputs": [],
   "source": [
    "df['QDA'] = pd.Series([\"{0:.2f}%\".format(val * 100) for val in df['QDA']], index = df.index)\n"
   ]
  },
  {
   "cell_type": "code",
   "execution_count": 104,
   "metadata": {},
   "outputs": [],
   "source": [
    "df['LDA'] = pd.Series([\"{0:.2f}%\".format(val * 100) for val in df['LDA']], index = df.index)"
   ]
  },
  {
   "cell_type": "code",
   "execution_count": 105,
   "metadata": {},
   "outputs": [
    {
     "data": {
      "text/html": [
       "<div>\n",
       "<style scoped>\n",
       "    .dataframe tbody tr th:only-of-type {\n",
       "        vertical-align: middle;\n",
       "    }\n",
       "\n",
       "    .dataframe tbody tr th {\n",
       "        vertical-align: top;\n",
       "    }\n",
       "\n",
       "    .dataframe thead th {\n",
       "        text-align: right;\n",
       "    }\n",
       "</style>\n",
       "<table border=\"1\" class=\"dataframe\">\n",
       "  <thead>\n",
       "    <tr style=\"text-align: right;\">\n",
       "      <th></th>\n",
       "      <th>LDA</th>\n",
       "      <th>QDA</th>\n",
       "    </tr>\n",
       "  </thead>\n",
       "  <tbody>\n",
       "    <tr>\n",
       "      <th>PCA with 95% Variance</th>\n",
       "      <td>11.86%</td>\n",
       "      <td>7.57%</td>\n",
       "    </tr>\n",
       "    <tr>\n",
       "      <th>PCA with 99% Variance</th>\n",
       "      <td>11.51%</td>\n",
       "      <td>9.37%</td>\n",
       "    </tr>\n",
       "  </tbody>\n",
       "</table>\n",
       "</div>"
      ],
      "text/plain": [
       "                          LDA    QDA\n",
       "PCA with 95% Variance  11.86%  7.57%\n",
       "PCA with 99% Variance  11.51%  9.37%"
      ]
     },
     "execution_count": 105,
     "metadata": {},
     "output_type": "execute_result"
    }
   ],
   "source": [
    "df"
   ]
  },
  {
   "cell_type": "markdown",
   "metadata": {},
   "source": [
    "# Problem3"
   ]
  },
  {
   "cell_type": "code",
   "execution_count": 108,
   "metadata": {},
   "outputs": [],
   "source": [
    "from sklearn.naive_bayes import GaussianNB\n"
   ]
  },
  {
   "cell_type": "code",
   "execution_count": 113,
   "metadata": {},
   "outputs": [],
   "source": [
    "gnb=GaussianNB()\n",
    "gnb.fit(x_train,y_train)\n",
    "x_test_pred=gnb.predict(x_test)\n",
    "gnb_error_full=sum(x_test_pred!=y_test)/len(y_test)"
   ]
  },
  {
   "cell_type": "code",
   "execution_count": 114,
   "metadata": {},
   "outputs": [
    {
     "data": {
      "text/plain": [
       "0.28051818634778275"
      ]
     },
     "execution_count": 114,
     "metadata": {},
     "output_type": "execute_result"
    }
   ],
   "source": [
    "gnb_error_full"
   ]
  },
  {
   "cell_type": "code",
   "execution_count": 118,
   "metadata": {},
   "outputs": [],
   "source": [
    "gnb=GaussianNB()\n",
    "gnb.fit(x_train_transformed_95,y_train)\n",
    "x_test_pred=gnb.predict(x_test_transformed_95)\n",
    "gnb_error_95=sum(x_test_pred!=y_test)/len(y_test)"
   ]
  },
  {
   "cell_type": "code",
   "execution_count": 119,
   "metadata": {},
   "outputs": [
    {
     "data": {
      "text/plain": [
       "0.1469855505729945"
      ]
     },
     "execution_count": 119,
     "metadata": {},
     "output_type": "execute_result"
    }
   ],
   "source": [
    "gnb_error_95"
   ]
  },
  {
   "cell_type": "code",
   "execution_count": 120,
   "metadata": {},
   "outputs": [],
   "source": [
    "gnb=GaussianNB()\n",
    "gnb.fit(x_train_transformed_99,y_train)\n",
    "x_test_pred=gnb.predict(x_test_transformed_99)\n",
    "gnb_error_99=sum(x_test_pred!=y_test)/len(y_test)"
   ]
  },
  {
   "cell_type": "code",
   "execution_count": 122,
   "metadata": {},
   "outputs": [
    {
     "data": {
      "text/plain": [
       "0.1798704534130543"
      ]
     },
     "execution_count": 122,
     "metadata": {},
     "output_type": "execute_result"
    }
   ],
   "source": [
    "gnb_error_99"
   ]
  },
  {
   "cell_type": "code",
   "execution_count": null,
   "metadata": {},
   "outputs": [],
   "source": [
    "GNB=pd.Series([gnb_error_95,gnb_error_99])"
   ]
  },
  {
   "cell_type": "code",
   "execution_count": 123,
   "metadata": {},
   "outputs": [],
   "source": [
    "lda=LinearDiscriminantAnalysis()\n",
    "lda.fit(x_train,y_train)\n",
    "#x_train_LDA=lda.transform(x_train_transformed_95)\n",
    "x_test_LDA=lda.transform(x_test)\n",
    "x_test_pred=lda.predict(x_test)\n",
    "error_lda_full=sum(x_test_pred!=y_test)/len(y_test)"
   ]
  },
  {
   "cell_type": "code",
   "execution_count": 124,
   "metadata": {},
   "outputs": [
    {
     "data": {
      "text/plain": [
       "0.114598903836572"
      ]
     },
     "execution_count": 124,
     "metadata": {},
     "output_type": "execute_result"
    }
   ],
   "source": [
    "error_lda_full"
   ]
  },
  {
   "cell_type": "code",
   "execution_count": 125,
   "metadata": {},
   "outputs": [
    {
     "name": "stderr",
     "output_type": "stream",
     "text": [
      "/Users/xinzhang/anaconda3/lib/python3.6/site-packages/sklearn/discriminant_analysis.py:682: UserWarning: Variables are collinear\n",
      "  warnings.warn(\"Variables are collinear\")\n"
     ]
    }
   ],
   "source": [
    "qda=QuadraticDiscriminantAnalysis()\n",
    "x_test_pred=qda.fit(x_train,y_train).predict(x_test)\n",
    "#x_train_LDA=lda.transform(x_train_transformed_95)\n",
    "#x_test_QDA=qda.transform(x_test_transformed_95)\n",
    "#x_test_pred=qda.predict(x_test_transformed_95)\n",
    "error_qda_full=sum(x_test_pred!=y_test)/len(y_test)"
   ]
  },
  {
   "cell_type": "code",
   "execution_count": 126,
   "metadata": {},
   "outputs": [
    {
     "data": {
      "text/plain": [
       "0.1833582461385152"
      ]
     },
     "execution_count": 126,
     "metadata": {},
     "output_type": "execute_result"
    }
   ],
   "source": [
    "error_qda_full"
   ]
  },
  {
   "cell_type": "code",
   "execution_count": 127,
   "metadata": {},
   "outputs": [
    {
     "data": {
      "text/html": [
       "<div>\n",
       "<style scoped>\n",
       "    .dataframe tbody tr th:only-of-type {\n",
       "        vertical-align: middle;\n",
       "    }\n",
       "\n",
       "    .dataframe tbody tr th {\n",
       "        vertical-align: top;\n",
       "    }\n",
       "\n",
       "    .dataframe thead th {\n",
       "        text-align: right;\n",
       "    }\n",
       "</style>\n",
       "<table border=\"1\" class=\"dataframe\">\n",
       "  <thead>\n",
       "    <tr style=\"text-align: right;\">\n",
       "      <th></th>\n",
       "      <th>LDA</th>\n",
       "      <th>QDA</th>\n",
       "    </tr>\n",
       "  </thead>\n",
       "  <tbody>\n",
       "    <tr>\n",
       "      <th>PCA with 95% Variance</th>\n",
       "      <td>11.86%</td>\n",
       "      <td>7.57%</td>\n",
       "    </tr>\n",
       "    <tr>\n",
       "      <th>PCA with 99% Variance</th>\n",
       "      <td>11.51%</td>\n",
       "      <td>9.37%</td>\n",
       "    </tr>\n",
       "  </tbody>\n",
       "</table>\n",
       "</div>"
      ],
      "text/plain": [
       "                          LDA    QDA\n",
       "PCA with 95% Variance  11.86%  7.57%\n",
       "PCA with 99% Variance  11.51%  9.37%"
      ]
     },
     "execution_count": 127,
     "metadata": {},
     "output_type": "execute_result"
    }
   ],
   "source": [
    "df"
   ]
  },
  {
   "cell_type": "code",
   "execution_count": 135,
   "metadata": {},
   "outputs": [],
   "source": [
    "lda_qda_nbg= {'LDA': [error_95_lda[0],error_99_lda[0],error_lda_full],\n",
    "           'QDA':[error_95_qda[0],error_99_qda[0],error_qda_full],\n",
    "            'GNB':[gnb_error_95,gnb_error_99,gnb_error_full]}"
   ]
  },
  {
   "cell_type": "code",
   "execution_count": 136,
   "metadata": {},
   "outputs": [],
   "source": [
    "df=pd.DataFrame(lda_qda_nbg, columns=['LDA','QDA','GNB'],index=['PCA with 95% Variance','PCA with 99% Variance', 'No projection'])"
   ]
  },
  {
   "cell_type": "code",
   "execution_count": 137,
   "metadata": {},
   "outputs": [],
   "source": [
    "df['QDA'] = pd.Series([\"{0:.2f}%\".format(val * 100) for val in df['QDA']], index = df.index)\n"
   ]
  },
  {
   "cell_type": "code",
   "execution_count": 138,
   "metadata": {},
   "outputs": [],
   "source": [
    "df['LDA'] = pd.Series([\"{0:.2f}%\".format(val * 100) for val in df['LDA']], index = df.index)"
   ]
  },
  {
   "cell_type": "code",
   "execution_count": 139,
   "metadata": {},
   "outputs": [],
   "source": [
    "df['GNB'] = pd.Series([\"{0:.2f}%\".format(val * 100) for val in df['GNB']], index = df.index)"
   ]
  },
  {
   "cell_type": "code",
   "execution_count": 140,
   "metadata": {},
   "outputs": [
    {
     "data": {
      "text/html": [
       "<div>\n",
       "<style scoped>\n",
       "    .dataframe tbody tr th:only-of-type {\n",
       "        vertical-align: middle;\n",
       "    }\n",
       "\n",
       "    .dataframe tbody tr th {\n",
       "        vertical-align: top;\n",
       "    }\n",
       "\n",
       "    .dataframe thead th {\n",
       "        text-align: right;\n",
       "    }\n",
       "</style>\n",
       "<table border=\"1\" class=\"dataframe\">\n",
       "  <thead>\n",
       "    <tr style=\"text-align: right;\">\n",
       "      <th></th>\n",
       "      <th>LDA</th>\n",
       "      <th>QDA</th>\n",
       "      <th>GNB</th>\n",
       "    </tr>\n",
       "  </thead>\n",
       "  <tbody>\n",
       "    <tr>\n",
       "      <th>PCA with 95% Variance</th>\n",
       "      <td>11.86%</td>\n",
       "      <td>7.57%</td>\n",
       "      <td>14.70%</td>\n",
       "    </tr>\n",
       "    <tr>\n",
       "      <th>PCA with 99% Variance</th>\n",
       "      <td>11.51%</td>\n",
       "      <td>9.37%</td>\n",
       "      <td>17.99%</td>\n",
       "    </tr>\n",
       "    <tr>\n",
       "      <th>No projection</th>\n",
       "      <td>11.46%</td>\n",
       "      <td>18.34%</td>\n",
       "      <td>28.05%</td>\n",
       "    </tr>\n",
       "  </tbody>\n",
       "</table>\n",
       "</div>"
      ],
      "text/plain": [
       "                          LDA     QDA     GNB\n",
       "PCA with 95% Variance  11.86%   7.57%  14.70%\n",
       "PCA with 99% Variance  11.51%   9.37%  17.99%\n",
       "No projection          11.46%  18.34%  28.05%"
      ]
     },
     "execution_count": 140,
     "metadata": {},
     "output_type": "execute_result"
    }
   ],
   "source": [
    "df"
   ]
  },
  {
   "cell_type": "markdown",
   "metadata": {},
   "source": [
    "# Problem 4"
   ]
  },
  {
   "cell_type": "code",
   "execution_count": 285,
   "metadata": {},
   "outputs": [],
   "source": [
    "from mlxtend.data import loadlocal_mnist"
   ]
  },
  {
   "cell_type": "code",
   "execution_count": 286,
   "metadata": {},
   "outputs": [],
   "source": [
    "x_train,y_train=loadlocal_mnist(images_path='train-images.idx3-ubyte',\n",
    "                                labels_path='train-labels.idx1-ubyte')"
   ]
  },
  {
   "cell_type": "code",
   "execution_count": 287,
   "metadata": {},
   "outputs": [],
   "source": [
    "x_test,y_test=loadlocal_mnist(images_path='t10k-images.idx3-ubyte',\n",
    "                                labels_path='t10k-labels.idx1-ubyte')"
   ]
  },
  {
   "cell_type": "code",
   "execution_count": 288,
   "metadata": {},
   "outputs": [
    {
     "data": {
      "text/plain": [
       "((60000, 784), (10000, 784))"
      ]
     },
     "execution_count": 288,
     "metadata": {},
     "output_type": "execute_result"
    }
   ],
   "source": [
    "x_train.shape,x_test.shape"
   ]
  },
  {
   "cell_type": "code",
   "execution_count": 289,
   "metadata": {},
   "outputs": [
    {
     "data": {
      "text/plain": [
       "array([0, 1, 2, 3, 4, 5, 6, 7, 8, 9], dtype=uint8)"
      ]
     },
     "execution_count": 289,
     "metadata": {},
     "output_type": "execute_result"
    }
   ],
   "source": [
    "np.unique(y_train)"
   ]
  },
  {
   "cell_type": "code",
   "execution_count": 290,
   "metadata": {},
   "outputs": [],
   "source": [
    "x_train01=x_train[np.where((y_train==0)|(y_train==1))]\n",
    "x_train012=x_train[np.where((y_train==0)|(y_train==1)|(y_train==2))]\n",
    "x_train49=x_train[np.where((y_train==4)|(y_train==9))]\n",
    "x_train358=x_train[np.where((y_train==3)|(y_train==5)|(y_train==8))]\n",
    "\n",
    "x_test01=x_test[np.where((y_test==0)|(y_test==1))]\n",
    "x_test012=x_test[np.where((y_test==0)|(y_test==1)|(y_test==2))]\n",
    "x_test49=x_test[np.where((y_test==4)|(y_test==9))]\n",
    "x_test358=x_test[np.where((y_test==3)|(y_test==5)|(y_test==8))]\n",
    "\n",
    "\n",
    "\n",
    "y_train01=y_train[np.where((y_train==0)|(y_train==1))]\n",
    "y_train012=y_train[np.where((y_train==0)|(y_train==1)|(y_train==2))]\n",
    "y_train49=y_train[np.where((y_train==4)|(y_train==9))]\n",
    "y_train358=y_train[np.where((y_train==3)|(y_train==5)|(y_train==8))]\n",
    "\n",
    "\n",
    "y_test01=y_test[np.where((y_test==0)|(y_test==1))]\n",
    "y_test012=y_test[np.where((y_test==0)|(y_test==1)|(y_test==2))]\n",
    "y_test49=y_test[np.where((y_test==4)|(y_test==9))]\n",
    "y_test358=y_test[np.where((y_test==3)|(y_test==5)|(y_test==8))]\n",
    "\n"
   ]
  },
  {
   "cell_type": "markdown",
   "metadata": {},
   "source": [
    "## 0 and 1"
   ]
  },
  {
   "cell_type": "code",
   "execution_count": 291,
   "metadata": {},
   "outputs": [],
   "source": [
    "pca95 = PCA(0.95)\n",
    "pca95.fit(x_train01)\n",
    "x_train_transformed_95 = pca95.transform(x_train01)\n",
    "x_test_transformed_95=pca95.transform(x_test01)"
   ]
  },
  {
   "cell_type": "code",
   "execution_count": 292,
   "metadata": {},
   "outputs": [],
   "source": [
    "lda=LinearDiscriminantAnalysis()\n",
    "lda.fit(x_train_transformed_95,y_train01)\n",
    "#x_train_LDA=lda.transform(x_train_transformed_95)\n",
    "x_test_LDA=lda.transform(x_test_transformed_95)\n",
    "x_test_pred=lda.predict(x_test_transformed_95)\n",
    "error_01_lda=sum(x_test_pred!=y_test01)/len(y_test01)"
   ]
  },
  {
   "cell_type": "code",
   "execution_count": 293,
   "metadata": {},
   "outputs": [
    {
     "data": {
      "text/plain": [
       "0.0028368794326241137"
      ]
     },
     "execution_count": 293,
     "metadata": {},
     "output_type": "execute_result"
    }
   ],
   "source": [
    "error_01_lda"
   ]
  },
  {
   "cell_type": "code",
   "execution_count": 294,
   "metadata": {},
   "outputs": [],
   "source": [
    "qda=QuadraticDiscriminantAnalysis()\n",
    "x_test_pred=qda.fit(x_train_transformed_95,y_train01).predict(x_test_transformed_95)\n",
    "#x_train_LDA=lda.transform(x_train_transformed_95)\n",
    "#x_test_QDA=qda.transform(x_test_transformed_95)\n",
    "#x_test_pred=qda.predict(x_test_transformed_95)\n",
    "error_01_qda=sum(x_test_pred!=y_test01)/len(y_test01)"
   ]
  },
  {
   "cell_type": "code",
   "execution_count": 203,
   "metadata": {},
   "outputs": [
    {
     "data": {
      "text/plain": [
       "0.00851063829787234"
      ]
     },
     "execution_count": 203,
     "metadata": {},
     "output_type": "execute_result"
    }
   ],
   "source": [
    "error_01_qda"
   ]
  },
  {
   "cell_type": "markdown",
   "metadata": {},
   "source": [
    "## 4 and 9"
   ]
  },
  {
   "cell_type": "code",
   "execution_count": 208,
   "metadata": {},
   "outputs": [],
   "source": [
    "pca95 = PCA(0.95)\n",
    "pca95.fit(x_train49)\n",
    "x_train_transformed_95 = pca95.transform(x_train49)\n",
    "x_test_transformed_95=pca95.transform(x_test49)"
   ]
  },
  {
   "cell_type": "code",
   "execution_count": 209,
   "metadata": {},
   "outputs": [],
   "source": [
    "lda=LinearDiscriminantAnalysis()\n",
    "lda.fit(x_train_transformed_95,y_train49)\n",
    "#x_train_LDA=lda.transform(x_train_transformed_95)\n",
    "x_test_LDA=lda.transform(x_test_transformed_95)\n",
    "x_test_pred=lda.predict(x_test_transformed_95)\n",
    "error_49_lda=sum(x_test_pred!=y_test49)/len(y_test49)"
   ]
  },
  {
   "cell_type": "code",
   "execution_count": 210,
   "metadata": {},
   "outputs": [],
   "source": [
    "qda=QuadraticDiscriminantAnalysis()\n",
    "x_test_pred=qda.fit(x_train_transformed_95,y_train49).predict(x_test_transformed_95)\n",
    "#x_train_LDA=lda.transform(x_train_transformed_95)\n",
    "#x_test_QDA=qda.transform(x_test_transformed_95)\n",
    "#x_test_pred=qda.predict(x_test_transformed_95)\n",
    "error_49_qda=sum(x_test_pred!=y_test49)/len(y_test49)"
   ]
  },
  {
   "cell_type": "code",
   "execution_count": 211,
   "metadata": {},
   "outputs": [
    {
     "data": {
      "text/plain": [
       "0.04419889502762431"
      ]
     },
     "execution_count": 211,
     "metadata": {},
     "output_type": "execute_result"
    }
   ],
   "source": [
    "error_49_lda"
   ]
  },
  {
   "cell_type": "code",
   "execution_count": 212,
   "metadata": {},
   "outputs": [
    {
     "data": {
      "text/plain": [
       "0.02059266700150678"
      ]
     },
     "execution_count": 212,
     "metadata": {},
     "output_type": "execute_result"
    }
   ],
   "source": [
    "error_49_qda"
   ]
  },
  {
   "cell_type": "markdown",
   "metadata": {},
   "source": [
    "## 0, 1 and 2"
   ]
  },
  {
   "cell_type": "code",
   "execution_count": 214,
   "metadata": {},
   "outputs": [],
   "source": [
    "pca95 = PCA(0.95)\n",
    "pca95.fit(x_train012)\n",
    "x_train_transformed_95 = pca95.transform(x_train012)\n",
    "x_test_transformed_95=pca95.transform(x_test012)"
   ]
  },
  {
   "cell_type": "code",
   "execution_count": 215,
   "metadata": {},
   "outputs": [
    {
     "name": "stderr",
     "output_type": "stream",
     "text": [
      "/Users/xinzhang/anaconda3/lib/python3.6/site-packages/sklearn/discriminant_analysis.py:442: UserWarning: The priors do not sum to 1. Renormalizing\n",
      "  UserWarning)\n"
     ]
    }
   ],
   "source": [
    "lda=LinearDiscriminantAnalysis()\n",
    "lda.fit(x_train_transformed_95,y_train012)\n",
    "#x_train_LDA=lda.transform(x_train_transformed_95)\n",
    "x_test_LDA=lda.transform(x_test_transformed_95)\n",
    "x_test_pred=lda.predict(x_test_transformed_95)\n",
    "error_012_lda=sum(x_test_pred!=y_test012)/len(y_test012)"
   ]
  },
  {
   "cell_type": "code",
   "execution_count": 217,
   "metadata": {},
   "outputs": [],
   "source": [
    "qda=QuadraticDiscriminantAnalysis()\n",
    "x_test_pred=qda.fit(x_train_transformed_95,y_train012).predict(x_test_transformed_95)\n",
    "#x_train_LDA=lda.transform(x_train_transformed_95)\n",
    "#x_test_QDA=qda.transform(x_test_transformed_95)\n",
    "#x_test_pred=qda.predict(x_test_transformed_95)\n",
    "error_012_qda=sum(x_test_pred!=y_test012)/len(y_test012)"
   ]
  },
  {
   "cell_type": "code",
   "execution_count": 218,
   "metadata": {},
   "outputs": [
    {
     "data": {
      "text/plain": [
       "0.0292341912932952"
      ]
     },
     "execution_count": 218,
     "metadata": {},
     "output_type": "execute_result"
    }
   ],
   "source": [
    "error_012_lda"
   ]
  },
  {
   "cell_type": "code",
   "execution_count": 219,
   "metadata": {},
   "outputs": [
    {
     "data": {
      "text/plain": [
       "0.01334604385128694"
      ]
     },
     "execution_count": 219,
     "metadata": {},
     "output_type": "execute_result"
    }
   ],
   "source": [
    "error_012_qda"
   ]
  },
  {
   "cell_type": "markdown",
   "metadata": {},
   "source": [
    "## 3, 5 and 8"
   ]
  },
  {
   "cell_type": "code",
   "execution_count": 302,
   "metadata": {},
   "outputs": [],
   "source": [
    "pca95 = PCA(0.95)\n",
    "pca95.fit(x_train358)\n",
    "x_train_transformed_95 = pca95.transform(x_train358)\n",
    "x_test_transformed_95=pca95.transform(x_test358)"
   ]
  },
  {
   "cell_type": "code",
   "execution_count": 303,
   "metadata": {},
   "outputs": [],
   "source": [
    "lda=LinearDiscriminantAnalysis()\n",
    "lda.fit(x_train_transformed_95,y_train358)\n",
    "#x_train_LDA=lda.transform(x_train_transformed_95)\n",
    "x_test_LDA=lda.transform(x_test_transformed_95)\n",
    "x_test_pred=lda.predict(x_test_transformed_95)\n",
    "error_358_lda=sum(x_test_pred!=y_test358)/len(y_test358)"
   ]
  },
  {
   "cell_type": "code",
   "execution_count": 304,
   "metadata": {},
   "outputs": [],
   "source": [
    "qda=QuadraticDiscriminantAnalysis()\n",
    "x_test_pred=qda.fit(x_train_transformed_95,y_train358).predict(x_test_transformed_95)\n",
    "#x_train_LDA=lda.transform(x_train_transformed_95)\n",
    "#x_test_QDA=qda.transform(x_test_transformed_95)\n",
    "#x_test_pred=qda.predict(x_test_transformed_95)\n",
    "error_358_qda=sum(x_test_pred!=y_test358)/len(y_test358)"
   ]
  },
  {
   "cell_type": "code",
   "execution_count": 305,
   "metadata": {},
   "outputs": [
    {
     "data": {
      "text/plain": [
       "0.07475660639777469"
      ]
     },
     "execution_count": 305,
     "metadata": {},
     "output_type": "execute_result"
    }
   ],
   "source": [
    "error_358_lda"
   ]
  },
  {
   "cell_type": "code",
   "execution_count": 306,
   "metadata": {},
   "outputs": [
    {
     "data": {
      "text/plain": [
       "0.03859527121001391"
      ]
     },
     "execution_count": 306,
     "metadata": {},
     "output_type": "execute_result"
    }
   ],
   "source": [
    "error_358_qda"
   ]
  },
  {
   "cell_type": "code",
   "execution_count": 307,
   "metadata": {},
   "outputs": [],
   "source": [
    "mnist_lda_qda={'LDA':[error_01_lda,error_49_lda,error_012_lda,error_358_lda],\n",
    "                'QDA':[error_01_qda,error_49_qda,error_012_qda,error_358_qda]}"
   ]
  },
  {
   "cell_type": "code",
   "execution_count": 308,
   "metadata": {},
   "outputs": [
    {
     "data": {
      "text/plain": [
       "{'LDA': [0.0028368794326241137,\n",
       "  0.04419889502762431,\n",
       "  0.0292341912932952,\n",
       "  0.07475660639777469],\n",
       " 'QDA': [0.00851063829787234,\n",
       "  0.02059266700150678,\n",
       "  0.01334604385128694,\n",
       "  0.03859527121001391]}"
      ]
     },
     "execution_count": 308,
     "metadata": {},
     "output_type": "execute_result"
    }
   ],
   "source": [
    "mnist_lda_qda"
   ]
  },
  {
   "cell_type": "code",
   "execution_count": 309,
   "metadata": {},
   "outputs": [],
   "source": [
    "mnist_df=pd.DataFrame(mnist_lda_qda, columns=['LDA','QDA'], index=['0 and 1','4 and 9','0, 1 and 2','3, 5 and 8'])"
   ]
  },
  {
   "cell_type": "code",
   "execution_count": 310,
   "metadata": {},
   "outputs": [
    {
     "data": {
      "text/html": [
       "<div>\n",
       "<style scoped>\n",
       "    .dataframe tbody tr th:only-of-type {\n",
       "        vertical-align: middle;\n",
       "    }\n",
       "\n",
       "    .dataframe tbody tr th {\n",
       "        vertical-align: top;\n",
       "    }\n",
       "\n",
       "    .dataframe thead th {\n",
       "        text-align: right;\n",
       "    }\n",
       "</style>\n",
       "<table border=\"1\" class=\"dataframe\">\n",
       "  <thead>\n",
       "    <tr style=\"text-align: right;\">\n",
       "      <th></th>\n",
       "      <th>LDA</th>\n",
       "      <th>QDA</th>\n",
       "    </tr>\n",
       "  </thead>\n",
       "  <tbody>\n",
       "    <tr>\n",
       "      <th>0 and 1</th>\n",
       "      <td>0.002837</td>\n",
       "      <td>0.008511</td>\n",
       "    </tr>\n",
       "    <tr>\n",
       "      <th>4 and 9</th>\n",
       "      <td>0.044199</td>\n",
       "      <td>0.020593</td>\n",
       "    </tr>\n",
       "    <tr>\n",
       "      <th>0, 1 and 2</th>\n",
       "      <td>0.029234</td>\n",
       "      <td>0.013346</td>\n",
       "    </tr>\n",
       "    <tr>\n",
       "      <th>3, 5 and 8</th>\n",
       "      <td>0.074757</td>\n",
       "      <td>0.038595</td>\n",
       "    </tr>\n",
       "  </tbody>\n",
       "</table>\n",
       "</div>"
      ],
      "text/plain": [
       "                 LDA       QDA\n",
       "0 and 1     0.002837  0.008511\n",
       "4 and 9     0.044199  0.020593\n",
       "0, 1 and 2  0.029234  0.013346\n",
       "3, 5 and 8  0.074757  0.038595"
      ]
     },
     "execution_count": 310,
     "metadata": {},
     "output_type": "execute_result"
    }
   ],
   "source": [
    "mnist_df"
   ]
  },
  {
   "cell_type": "code",
   "execution_count": 311,
   "metadata": {},
   "outputs": [],
   "source": [
    "mnist_df['LDA'] = pd.Series([\"{0:.2f}%\".format(val * 100) for val in mnist_df['LDA']], index = mnist_df.index)"
   ]
  },
  {
   "cell_type": "code",
   "execution_count": 312,
   "metadata": {},
   "outputs": [],
   "source": [
    "mnist_df['QDA'] = pd.Series([\"{0:.2f}%\".format(val * 100) for val in mnist_df['QDA']], index = mnist_df.index)"
   ]
  },
  {
   "cell_type": "code",
   "execution_count": 313,
   "metadata": {},
   "outputs": [
    {
     "data": {
      "text/html": [
       "<div>\n",
       "<style scoped>\n",
       "    .dataframe tbody tr th:only-of-type {\n",
       "        vertical-align: middle;\n",
       "    }\n",
       "\n",
       "    .dataframe tbody tr th {\n",
       "        vertical-align: top;\n",
       "    }\n",
       "\n",
       "    .dataframe thead th {\n",
       "        text-align: right;\n",
       "    }\n",
       "</style>\n",
       "<table border=\"1\" class=\"dataframe\">\n",
       "  <thead>\n",
       "    <tr style=\"text-align: right;\">\n",
       "      <th></th>\n",
       "      <th>LDA</th>\n",
       "      <th>QDA</th>\n",
       "    </tr>\n",
       "  </thead>\n",
       "  <tbody>\n",
       "    <tr>\n",
       "      <th>0 and 1</th>\n",
       "      <td>0.28%</td>\n",
       "      <td>0.85%</td>\n",
       "    </tr>\n",
       "    <tr>\n",
       "      <th>4 and 9</th>\n",
       "      <td>4.42%</td>\n",
       "      <td>2.06%</td>\n",
       "    </tr>\n",
       "    <tr>\n",
       "      <th>0, 1 and 2</th>\n",
       "      <td>2.92%</td>\n",
       "      <td>1.33%</td>\n",
       "    </tr>\n",
       "    <tr>\n",
       "      <th>3, 5 and 8</th>\n",
       "      <td>7.48%</td>\n",
       "      <td>3.86%</td>\n",
       "    </tr>\n",
       "  </tbody>\n",
       "</table>\n",
       "</div>"
      ],
      "text/plain": [
       "              LDA    QDA\n",
       "0 and 1     0.28%  0.85%\n",
       "4 and 9     4.42%  2.06%\n",
       "0, 1 and 2  2.92%  1.33%\n",
       "3, 5 and 8  7.48%  3.86%"
      ]
     },
     "execution_count": 313,
     "metadata": {},
     "output_type": "execute_result"
    }
   ],
   "source": [
    "mnist_df"
   ]
  },
  {
   "cell_type": "code",
   "execution_count": 257,
   "metadata": {},
   "outputs": [
    {
     "data": {
      "text/plain": [
       "(60000,)"
      ]
     },
     "execution_count": 257,
     "metadata": {},
     "output_type": "execute_result"
    }
   ],
   "source": [
    "y_train.shape"
   ]
  },
  {
   "cell_type": "markdown",
   "metadata": {},
   "source": [
    "# Problem 5"
   ]
  },
  {
   "cell_type": "code",
   "execution_count": 321,
   "metadata": {},
   "outputs": [],
   "source": [
    "import scipy.io as sio "
   ]
  },
  {
   "cell_type": "code",
   "execution_count": 322,
   "metadata": {},
   "outputs": [],
   "source": [
    "twogaussians_x_train=sio.loadmat('twogaussians.mat')['Xtr']\n",
    "twogaussians_x_test=sio.loadmat('twogaussians.mat')['Xtst']\n",
    "twogaussians_y_train=sio.loadmat('twogaussians.mat')['ytr']\n",
    "twogaussians_y_test=sio.loadmat('twogaussians.mat')['ytst']"
   ]
  },
  {
   "cell_type": "code",
   "execution_count": 323,
   "metadata": {},
   "outputs": [
    {
     "data": {
      "text/plain": [
       "((200, 2), (1, 200))"
      ]
     },
     "execution_count": 323,
     "metadata": {},
     "output_type": "execute_result"
    }
   ],
   "source": [
    "twogaussians_x_train.shape,twogaussians_y_train.shape"
   ]
  },
  {
   "cell_type": "code",
   "execution_count": 340,
   "metadata": {},
   "outputs": [
    {
     "data": {
      "text/plain": [
       "array([1, 1, 1, 1, 1, 1, 1, 1, 1, 1, 1, 1, 1, 1, 1, 1, 1, 1, 1, 1, 1, 1,\n",
       "       1, 1, 1, 1, 1, 1, 1, 1, 1, 1, 1, 1, 1, 1, 1, 1, 1, 1, 1, 1, 1, 1,\n",
       "       1, 1, 1, 1, 1, 1, 1, 1, 1, 1, 1, 1, 1, 1, 1, 1, 1, 1, 1, 1, 1, 1,\n",
       "       1, 1, 1, 1, 1, 1, 1, 1, 1, 1, 1, 1, 1, 1, 1, 1, 1, 1, 1, 1, 1, 1,\n",
       "       1, 1, 1, 1, 1, 1, 1, 1, 1, 1, 1, 1, 2, 2, 2, 2, 2, 2, 2, 2, 2, 2,\n",
       "       2, 2, 2, 2, 2, 2, 2, 2, 2, 2, 2, 2, 2, 2, 2, 2, 2, 2, 2, 2, 2, 2,\n",
       "       2, 2, 2, 2, 2, 2, 2, 2, 2, 2, 2, 2, 2, 2, 2, 2, 2, 2, 2, 2, 2, 2,\n",
       "       2, 2, 2, 2, 2, 2, 2, 2, 2, 2, 2, 2, 2, 2, 2, 2, 2, 2, 2, 2, 2, 2,\n",
       "       2, 2, 2, 2, 2, 2, 2, 2, 2, 2, 2, 2, 2, 2, 2, 2, 2, 2, 2, 2, 2, 2,\n",
       "       2, 2], dtype=uint8)"
      ]
     },
     "execution_count": 340,
     "metadata": {},
     "output_type": "execute_result"
    }
   ],
   "source": [
    "twogaussians_y_train"
   ]
  },
  {
   "cell_type": "code",
   "execution_count": 339,
   "metadata": {},
   "outputs": [],
   "source": [
    "twogaussians_y_train=np.reshape(twogaussians_y_train,newshape=(200,))\n",
    "twogaussians_y_test=np.reshape(twogaussians_y_test,newshape=(100,))"
   ]
  },
  {
   "cell_type": "code",
   "execution_count": 325,
   "metadata": {},
   "outputs": [],
   "source": [
    "#apply Lda and qda seperately "
   ]
  },
  {
   "cell_type": "code",
   "execution_count": 380,
   "metadata": {},
   "outputs": [],
   "source": [
    "lda=LinearDiscriminantAnalysis(store_covariance=True)\n",
    "lda.fit(twogaussians_x_train,twogaussians_y_train)\n",
    "#x_train_LDA=lda.transform(x_train_transformed_95)\n",
    "x_test_LDA=lda.transform(twogaussians_x_test)\n",
    "x_test_pred=lda.predict(twogaussians_x_test)\n",
    "error_twogaussian_lda=sum(x_test_pred!=twogaussians_y_test)/len(twogaussians_y_test)"
   ]
  },
  {
   "cell_type": "code",
   "execution_count": 360,
   "metadata": {},
   "outputs": [
    {
     "data": {
      "text/plain": [
       "0.1"
      ]
     },
     "execution_count": 360,
     "metadata": {},
     "output_type": "execute_result"
    }
   ],
   "source": [
    "error_twogaussian_lda"
   ]
  },
  {
   "cell_type": "code",
   "execution_count": 381,
   "metadata": {},
   "outputs": [],
   "source": [
    "qda=QuadraticDiscriminantAnalysis(store_covariance=True)\n",
    "x_test_pred=qda.fit(twogaussians_x_train,twogaussians_y_train).predict(twogaussians_x_test)\n",
    "#x_train_LDA=lda.transform(x_train_transformed_95)\n",
    "#x_test_QDA=qda.transform(x_test_transformed_95)\n",
    "#x_test_pred=qda.predict(x_test_transformed_95)\n",
    "error_twogaussian_qda=sum(x_test_pred!=twogaussians_y_test)/len(twogaussians_y_test)"
   ]
  },
  {
   "cell_type": "code",
   "execution_count": 382,
   "metadata": {},
   "outputs": [
    {
     "data": {
      "text/plain": [
       "0.07"
      ]
     },
     "execution_count": 382,
     "metadata": {},
     "output_type": "execute_result"
    }
   ],
   "source": [
    "error_twogaussian_qda"
   ]
  },
  {
   "cell_type": "code",
   "execution_count": 383,
   "metadata": {},
   "outputs": [],
   "source": [
    "two_g_data={'LDA':[error_twogaussian_lda],'QDA':[error_twogaussian_qda]}"
   ]
  },
  {
   "cell_type": "code",
   "execution_count": 384,
   "metadata": {},
   "outputs": [
    {
     "data": {
      "text/plain": [
       "{'LDA': [0.1], 'QDA': [0.07]}"
      ]
     },
     "execution_count": 384,
     "metadata": {},
     "output_type": "execute_result"
    }
   ],
   "source": [
    "two_g_data"
   ]
  },
  {
   "cell_type": "code",
   "execution_count": 385,
   "metadata": {},
   "outputs": [],
   "source": [
    "two_g_df=pd.DataFrame(two_g_data, columns=['LDA','QDA'], index=['Error Rate'])"
   ]
  },
  {
   "cell_type": "code",
   "execution_count": 386,
   "metadata": {},
   "outputs": [],
   "source": [
    "two_g_df['LDA'] = pd.Series([\"{0:.2f}%\".format(val * 100) for val in two_g_df['LDA']], index = two_g_df.index)"
   ]
  },
  {
   "cell_type": "code",
   "execution_count": 387,
   "metadata": {},
   "outputs": [],
   "source": [
    "two_g_df['QDA'] = pd.Series([\"{0:.2f}%\".format(val * 100) for val in two_g_df['QDA']], index = two_g_df.index)"
   ]
  },
  {
   "cell_type": "code",
   "execution_count": 388,
   "metadata": {},
   "outputs": [
    {
     "data": {
      "text/html": [
       "<div>\n",
       "<style scoped>\n",
       "    .dataframe tbody tr th:only-of-type {\n",
       "        vertical-align: middle;\n",
       "    }\n",
       "\n",
       "    .dataframe tbody tr th {\n",
       "        vertical-align: top;\n",
       "    }\n",
       "\n",
       "    .dataframe thead th {\n",
       "        text-align: right;\n",
       "    }\n",
       "</style>\n",
       "<table border=\"1\" class=\"dataframe\">\n",
       "  <thead>\n",
       "    <tr style=\"text-align: right;\">\n",
       "      <th></th>\n",
       "      <th>LDA</th>\n",
       "      <th>QDA</th>\n",
       "    </tr>\n",
       "  </thead>\n",
       "  <tbody>\n",
       "    <tr>\n",
       "      <th>Error Rate</th>\n",
       "      <td>10.00%</td>\n",
       "      <td>7.00%</td>\n",
       "    </tr>\n",
       "  </tbody>\n",
       "</table>\n",
       "</div>"
      ],
      "text/plain": [
       "               LDA    QDA\n",
       "Error Rate  10.00%  7.00%"
      ]
     },
     "execution_count": 388,
     "metadata": {},
     "output_type": "execute_result"
    }
   ],
   "source": [
    "two_g_df"
   ]
  },
  {
   "cell_type": "code",
   "execution_count": 389,
   "metadata": {},
   "outputs": [],
   "source": [
    "from scipy import linalg\n",
    "import numpy as np\n",
    "import pylab as pl\n",
    "import matplotlib as mpl"
   ]
  },
  {
   "cell_type": "code",
   "execution_count": 390,
   "metadata": {},
   "outputs": [],
   "source": [
    "def plot_ellipse(splot, mean, cov, color):\n",
    "    v, w = linalg.eigh(cov)\n",
    "    u = w[0] / linalg.norm(w[0])\n",
    "    angle = np.arctan(u[1]/u[0])\n",
    "    angle = 180 * angle / np.pi # convert to degrees\n",
    "    # filled gaussian at 2 standard deviation\n",
    "    ell = mpl.patches.Ellipse(mean, 2 * v[0] ** 0.5, 2 * v[1] ** 0.5,\n",
    "                                            180 + angle, color=color)\n",
    "    ell.set_clip_box(splot.bbox)\n",
    "    ell.set_alpha(0.5)\n",
    "    splot.add_artist(ell)"
   ]
  },
  {
   "cell_type": "code",
   "execution_count": 391,
   "metadata": {},
   "outputs": [],
   "source": [
    "xx, yy = np.meshgrid(np.linspace(4, 8.5, 200), np.linspace(1.5, 4.5, 200))\n",
    "X_grid = np.c_[xx.ravel(), yy.ravel()]\n",
    "zz_lda = lda.predict_proba(X_grid)[:,1].reshape(xx.shape)\n",
    "zz_qda = qda.predict_proba(X_grid)[:,1].reshape(xx.shape)"
   ]
  },
  {
   "cell_type": "code",
   "execution_count": 392,
   "metadata": {},
   "outputs": [
    {
     "data": {
      "text/plain": [
       "True"
      ]
     },
     "execution_count": 392,
     "metadata": {},
     "output_type": "execute_result"
    }
   ],
   "source": [
    "lda.store_covariance"
   ]
  },
  {
   "cell_type": "code",
   "execution_count": 399,
   "metadata": {},
   "outputs": [],
   "source": [
    "xx, yy = np.meshgrid(np.linspace(4, 8.5, 200), np.linspace(1.5, 4.5, 200))"
   ]
  },
  {
   "cell_type": "code",
   "execution_count": 410,
   "metadata": {},
   "outputs": [
    {
     "data": {
      "text/plain": [
       "(100,)"
      ]
     },
     "execution_count": 410,
     "metadata": {},
     "output_type": "execute_result"
    }
   ],
   "source": [
    "twogaussians_x_train[twogaussians_y_train==1,0].shape"
   ]
  },
  {
   "cell_type": "code",
   "execution_count": 420,
   "metadata": {},
   "outputs": [
    {
     "data": {
      "text/plain": [
       "(100,)"
      ]
     },
     "execution_count": 420,
     "metadata": {},
     "output_type": "execute_result"
    }
   ],
   "source": [
    "twogaussians_x_train[twogaussians_y_train==2,0].shape"
   ]
  },
  {
   "cell_type": "code",
   "execution_count": 423,
   "metadata": {},
   "outputs": [
    {
     "data": {
      "text/plain": [
       "(100,)"
      ]
     },
     "execution_count": 423,
     "metadata": {},
     "output_type": "execute_result"
    }
   ],
   "source": [
    "twogaussians_x_test[:,0].shape"
   ]
  },
  {
   "cell_type": "code",
   "execution_count": 425,
   "metadata": {},
   "outputs": [
    {
     "name": "stderr",
     "output_type": "stream",
     "text": [
      "/Users/xinzhang/anaconda3/lib/python3.6/site-packages/sklearn/utils/deprecation.py:77: DeprecationWarning: Function covariances_ is deprecated; Attribute covariances_ was deprecated in version 0.19 and will be removed in 0.21. Use covariance_ instead\n",
      "  warnings.warn(msg, category=DeprecationWarning)\n",
      "/Users/xinzhang/anaconda3/lib/python3.6/site-packages/sklearn/utils/deprecation.py:77: DeprecationWarning: Function covariances_ is deprecated; Attribute covariances_ was deprecated in version 0.19 and will be removed in 0.21. Use covariance_ instead\n",
      "  warnings.warn(msg, category=DeprecationWarning)\n"
     ]
    },
    {
     "data": {
      "image/png": "[encoded data removed]",
      "text/plain": [
       "<Figure size 720x576 with 2 Axes>"
      ]
     },
     "metadata": {},
     "output_type": "display_data"
    }
   ],
   "source": [
    "xx, yy = np.meshgrid(np.linspace(-3, 6, 200), np.linspace(-3, 6, 200))\n",
    "X_grid = np.c_[xx.ravel(), yy.ravel()]\n",
    "zz_lda = lda.predict_proba(X_grid)[:,1].reshape(xx.shape)\n",
    "zz_qda = qda.predict_proba(X_grid)[:,1].reshape(xx.shape)\n",
    "\n",
    "pl.figure(1, (10,8))\n",
    "splot = pl.subplot(1, 2, 1)\n",
    "pl.contourf(xx, yy, zz_lda > 0.5, alpha=0.5)\n",
    "pl.scatter(twogaussians_x_train[twogaussians_y_train==1,0], twogaussians_x_train[twogaussians_y_train==1,1], c='b', label='1')\n",
    "pl.scatter(twogaussians_x_train[twogaussians_y_train==2,0], twogaussians_x_train[twogaussians_y_train==2,1], c='r', label='2')\n",
    "pl.scatter(twogaussians_x_test[:,0], twogaussians_x_test[:,1], c='grey', label='test points')\n",
    "pl.contour(xx, yy, zz_lda, [0.5], linewidths=2., colors='k')\n",
    "plot_ellipse(splot, lda.means_[0], lda.covariance_, 'b')\n",
    "plot_ellipse(splot, lda.means_[1], lda.covariance_, 'r')\n",
    "pl.legend()\n",
    "pl.axis('tight')\n",
    "pl.title('Linear Discriminant Analysis')\n",
    "\n",
    "splot = pl.subplot(1, 2, 2)\n",
    "pl.contourf(xx, yy, zz_qda > 0.5, alpha=0.5)\n",
    "pl.scatter(twogaussians_x_train[twogaussians_y_train==1,0], twogaussians_x_train[twogaussians_y_train==1,1], c='b', label='1')\n",
    "pl.scatter(twogaussians_x_train[twogaussians_y_train==2,0], twogaussians_x_train[twogaussians_y_train==2,1], c='r', label='2')\n",
    "pl.scatter(twogaussians_x_test[:,0], twogaussians_x_test[:,1], c='grey', label='test points')\n",
    "pl.contour(xx, yy, zz_qda, [0.5], linewidths=2., colors='black')\n",
    "plot_ellipse(splot, qda.means_[0], qda.covariances_[0], 'b')\n",
    "plot_ellipse(splot, qda.means_[1], qda.covariances_[1], 'r')\n",
    "pl.legend()\n",
    "pl.axis('tight')\n",
    "pl.title('Quadratic Discriminant Analysis')\n",
    "pl.show()"
   ]
  },
  {
   "cell_type": "code",
   "execution_count": null,
   "metadata": {},
   "outputs": [],
   "source": []
  }
 ],
 "metadata": {
  "kernelspec": {
   "display_name": "Python 3",
   "language": "python",
   "name": "python3"
  },
  "language_info": {
   "codemirror_mode": {
    "name": "ipython",
    "version": 3
   },
   "file_extension": ".py",
   "mimetype": "text/x-python",
   "name": "python",
   "nbconvert_exporter": "python",
   "pygments_lexer": "ipython3",
   "version": "3.6.5"
  }
 },
 "nbformat": 4,
 "nbformat_minor": 2
}
