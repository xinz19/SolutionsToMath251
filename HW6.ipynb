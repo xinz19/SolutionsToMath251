{
 "cells": [
  {
   "cell_type": "code",
   "execution_count": 1,
   "metadata": {},
   "outputs": [],
   "source": [
    "import numpy as np\n",
    "import matplotlib.pyplot as plt\n",
    "import pandas as pd\n",
    "import sklearn\n",
    "from sklearn.neighbors import KNeighborsClassifier\n",
    "from sklearn.model_selection import cross_val_score,LeaveOneOut,train_test_split\n",
    "from sklearn.metrics import accuracy_score, classification_report,confusion_matrix\n",
    "% matplotlib inline"
   ]
  },
  {
   "cell_type": "code",
   "execution_count": 2,
   "metadata": {},
   "outputs": [],
   "source": [
    "import scipy.io as sio \n",
    "from sklearn import svm"
   ]
  },
  {
   "cell_type": "markdown",
   "metadata": {},
   "source": [
    "# Problem 1"
   ]
  },
  {
   "cell_type": "code",
   "execution_count": 3,
   "metadata": {},
   "outputs": [],
   "source": [
    "twogaussians_x_train=sio.loadmat('twogaussians.mat')['Xtr']\n",
    "twogaussians_x_test=sio.loadmat('twogaussians.mat')['Xtst']\n",
    "twogaussians_y_train=sio.loadmat('twogaussians.mat')['ytr']\n",
    "twogaussians_y_test=sio.loadmat('twogaussians.mat')['ytst']"
   ]
  },
  {
   "cell_type": "code",
   "execution_count": 4,
   "metadata": {},
   "outputs": [],
   "source": [
    "twogaussians_y_train=np.reshape(twogaussians_y_train,newshape=(200,))\n",
    "twogaussians_y_test=np.reshape(twogaussians_y_test,newshape=(100,))"
   ]
  },
  {
   "cell_type": "code",
   "execution_count": 5,
   "metadata": {},
   "outputs": [],
   "source": [
    "from sklearn import preprocessing\n",
    "from sklearn.linear_model import LogisticRegression\n",
    "from sklearn.discriminant_analysis import LinearDiscriminantAnalysis"
   ]
  },
  {
   "cell_type": "code",
   "execution_count": 6,
   "metadata": {},
   "outputs": [],
   "source": [
    "#twogaussians_x_train=preprocessing.scale(twogaussians_x_train)"
   ]
  },
  {
   "cell_type": "code",
   "execution_count": 7,
   "metadata": {},
   "outputs": [],
   "source": [
    "#scaler=preprocessing.StandardScaler().fit(twogaussians_x_train)\n",
    "#twogaussians_x_test=scaler.transform(twogaussians_x_test)"
   ]
  },
  {
   "cell_type": "markdown",
   "metadata": {},
   "source": [
    "# (a)"
   ]
  },
  {
   "cell_type": "code",
   "execution_count": 8,
   "metadata": {},
   "outputs": [
    {
     "name": "stdout",
     "output_type": "stream",
     "text": [
      "[0.05, 0.05, 0.05, 0.05, 0.05, 0.05500000000000001, 0.05500000000000001, 0.05500000000000001, 0.05500000000000001, 0.05500000000000001, 0.05500000000000001]\n"
     ]
    }
   ],
   "source": [
    "cv_error=[] \n",
    "for c in ([2**i for i in range(-6,5)]):\n",
    "    SVM=svm.SVC(C=c,kernel='linear')\n",
    "    scores=1-cross_val_score(SVM,twogaussians_x_train,twogaussians_y_train,cv=5,scoring='accuracy')\n",
    "    cv_error.append(scores.mean())\n",
    "print(cv_error)"
   ]
  },
  {
   "cell_type": "code",
   "execution_count": 9,
   "metadata": {},
   "outputs": [],
   "source": [
    "C=([2**i for i in range(-6,5)])"
   ]
  },
  {
   "cell_type": "code",
   "execution_count": 10,
   "metadata": {},
   "outputs": [
    {
     "data": {
      "text/plain": [
       "[0.015625, 0.03125, 0.0625, 0.125, 0.25, 0.5, 1, 2, 4, 8, 16]"
      ]
     },
     "execution_count": 10,
     "metadata": {},
     "output_type": "execute_result"
    }
   ],
   "source": [
    "C"
   ]
  },
  {
   "cell_type": "code",
   "execution_count": 11,
   "metadata": {},
   "outputs": [],
   "source": [
    "accuracy = list(map(lambda x: 1-x, cv_error))"
   ]
  },
  {
   "cell_type": "code",
   "execution_count": 12,
   "metadata": {},
   "outputs": [
    {
     "data": {
      "text/plain": [
       "[0.95, 0.95, 0.95, 0.95, 0.95, 0.945, 0.945, 0.945, 0.945, 0.945, 0.945]"
      ]
     },
     "execution_count": 12,
     "metadata": {},
     "output_type": "execute_result"
    }
   ],
   "source": [
    "accuracy"
   ]
  },
  {
   "cell_type": "code",
   "execution_count": 13,
   "metadata": {},
   "outputs": [
    {
     "data": {
      "text/plain": [
       "Text(0,0.5,'Accuracy')"
      ]
     },
     "execution_count": 13,
     "metadata": {},
     "output_type": "execute_result"
    },
    {
     "data": {
      "image/png": "[encoded data removed]",
      "text/plain": [
       "<Figure size 504x288 with 1 Axes>"
      ]
     },
     "metadata": {},
     "output_type": "display_data"
    }
   ],
   "source": [
    "from matplotlib.ticker import PercentFormatter\n",
    "\n",
    "fig = plt.figure(1, (7,4))\n",
    "ax = fig.add_subplot(1,1,1)\n",
    "\n",
    "plt.plot(range(-6,5),accuracy,color='blue',linestyle='dashed',marker='o',\n",
    "        markerfacecolor='blue',markersize=6)\n",
    "ax.yaxis.set_major_formatter(PercentFormatter(1.0))\n",
    "plt.title('Accuracy and C linear Kernel')\n",
    "plt.xlabel('C: 2 to the power')\n",
    "plt.ylabel('Accuracy')\n",
    "\n"
   ]
  },
  {
   "cell_type": "markdown",
   "metadata": {},
   "source": [
    "# (b)"
   ]
  },
  {
   "cell_type": "code",
   "execution_count": 14,
   "metadata": {},
   "outputs": [],
   "source": [
    "SVM=svm.SVC(kernel='linear',C=2**(-6),probability=True)\n",
    "SVM.fit(twogaussians_x_train,twogaussians_y_train)\n",
    "x_test_pred=SVM.predict(twogaussians_x_test)\n",
    "error_twogaussian_svm=sum(x_test_pred!=twogaussians_y_test)/len(twogaussians_y_test)"
   ]
  },
  {
   "cell_type": "code",
   "execution_count": 15,
   "metadata": {},
   "outputs": [],
   "source": [
    "lda=LinearDiscriminantAnalysis(store_covariance=True)\n",
    "lda.fit(twogaussians_x_train,twogaussians_y_train)\n",
    "#x_train_LDA=lda.transform(x_train_transformed_95)\n",
    "x_test_LDA=lda.transform(twogaussians_x_test)\n",
    "x_test_pred=lda.predict(twogaussians_x_test)\n",
    "error_twogaussian_lda=sum(x_test_pred!=twogaussians_y_test)/len(twogaussians_y_test)"
   ]
  },
  {
   "cell_type": "code",
   "execution_count": 16,
   "metadata": {},
   "outputs": [],
   "source": [
    "lg=LogisticRegression()\n",
    "lg.fit(twogaussians_x_train,twogaussians_y_train)\n",
    "#x_train_LDA=lda.transform(x_train_transformed_95)\n",
    "#x_test_LDA=lda.transform(twogaussians_x_test)\n",
    "x_test_pred=lg.predict(twogaussians_x_test)\n",
    "error_twogaussian_lg=sum(x_test_pred!=twogaussians_y_test)/len(twogaussians_y_test)"
   ]
  },
  {
   "cell_type": "code",
   "execution_count": 17,
   "metadata": {},
   "outputs": [],
   "source": [
    "data={'Error':[error_twogaussian_lda,error_twogaussian_lg,error_twogaussian_svm]}"
   ]
  },
  {
   "cell_type": "code",
   "execution_count": 18,
   "metadata": {},
   "outputs": [],
   "source": [
    "df=pd.DataFrame(data, index=['LDA','Logistic Regression','SVM'], columns=['Error'])"
   ]
  },
  {
   "cell_type": "code",
   "execution_count": 19,
   "metadata": {},
   "outputs": [],
   "source": [
    "df['Error'] = pd.Series([\"{0:.2f}%\".format(val * 100) for val in df['Error']], index = df.index)"
   ]
  },
  {
   "cell_type": "code",
   "execution_count": 20,
   "metadata": {},
   "outputs": [
    {
     "data": {
      "text/html": [
       "<div>\n",
       "<style scoped>\n",
       "    .dataframe tbody tr th:only-of-type {\n",
       "        vertical-align: middle;\n",
       "    }\n",
       "\n",
       "    .dataframe tbody tr th {\n",
       "        vertical-align: top;\n",
       "    }\n",
       "\n",
       "    .dataframe thead th {\n",
       "        text-align: right;\n",
       "    }\n",
       "</style>\n",
       "<table border=\"1\" class=\"dataframe\">\n",
       "  <thead>\n",
       "    <tr style=\"text-align: right;\">\n",
       "      <th></th>\n",
       "      <th>Error</th>\n",
       "    </tr>\n",
       "  </thead>\n",
       "  <tbody>\n",
       "    <tr>\n",
       "      <th>LDA</th>\n",
       "      <td>10.00%</td>\n",
       "    </tr>\n",
       "    <tr>\n",
       "      <th>Logistic Regression</th>\n",
       "      <td>7.00%</td>\n",
       "    </tr>\n",
       "    <tr>\n",
       "      <th>SVM</th>\n",
       "      <td>8.00%</td>\n",
       "    </tr>\n",
       "  </tbody>\n",
       "</table>\n",
       "</div>"
      ],
      "text/plain": [
       "                      Error\n",
       "LDA                  10.00%\n",
       "Logistic Regression   7.00%\n",
       "SVM                   8.00%"
      ]
     },
     "execution_count": 20,
     "metadata": {},
     "output_type": "execute_result"
    }
   ],
   "source": [
    "df"
   ]
  },
  {
   "cell_type": "code",
   "execution_count": 21,
   "metadata": {},
   "outputs": [],
   "source": [
    "from scipy import linalg\n",
    "import numpy as np\n",
    "import pylab as pl\n",
    "import matplotlib as mpl"
   ]
  },
  {
   "cell_type": "code",
   "execution_count": 22,
   "metadata": {},
   "outputs": [],
   "source": [
    "xx, yy = np.meshgrid(np.linspace(-4, 4, 200), np.linspace(-4, 4, 200))\n",
    "X_grid = np.c_[xx.ravel(), yy.ravel()]\n",
    "zz_lda = lda.predict_proba(X_grid)[:,1].reshape(xx.shape)\n",
    "zz_lg = lg.predict_proba(X_grid)[:,1].reshape(xx.shape)\n",
    "zz_svm=SVM.predict_proba(X_grid)[:,1].reshape(xx.shape)"
   ]
  },
  {
   "cell_type": "code",
   "execution_count": 23,
   "metadata": {},
   "outputs": [
    {
     "data": {
      "text/plain": [
       "Text(0.5,1,'Decision boundary for LDA,Logistic Regression and SVM')"
      ]
     },
     "execution_count": 23,
     "metadata": {},
     "output_type": "execute_result"
    },
    {
     "data": {
      "image/png": "[encoded data removed]",
      "text/plain": [
       "<Figure size 1080x792 with 1 Axes>"
      ]
     },
     "metadata": {},
     "output_type": "display_data"
    }
   ],
   "source": [
    "pl.figure(1, (15,11))\n",
    "splot = pl.subplot(1, 2, 1)\n",
    "pl.contourf(xx, yy, zz_lda > 0.5, alpha=0.4)\n",
    "pl.scatter(twogaussians_x_train[twogaussians_y_train==1,0], twogaussians_x_train[twogaussians_y_train==1,1], c='b', label='1')\n",
    "pl.scatter(twogaussians_x_train[twogaussians_y_train==2,0], twogaussians_x_train[twogaussians_y_train==2,1], c='r', label='2')\n",
    "pl.scatter(twogaussians_x_test[:,0], twogaussians_x_test[:,1], c='grey', label='test points')\n",
    "pl.contour(xx, yy, zz_lda, [0.5], linewidths=2., colors='black')\n",
    "pl.contour(xx, yy, zz_lg, [0.5], linewidths=2., colors='purple')\n",
    "pl.contour(xx, yy, zz_svm, [0.5], linewidths=2., colors='green')\n",
    "#plot_ellipse(splot, lda.means_[0], lda.covariance_, 'b')\n",
    "#plot_ellipse(splot, lda.means_[1], lda.covariance_, 'r')\n",
    "pl.legend()\n",
    "pl.axis('tight')\n",
    "pl.title('Decision boundary for LDA,Logistic Regression and SVM')"
   ]
  },
  {
   "cell_type": "markdown",
   "metadata": {},
   "source": [
    "# Problem 2"
   ]
  },
  {
   "cell_type": "code",
   "execution_count": 24,
   "metadata": {},
   "outputs": [],
   "source": [
    "from sklearn.discriminant_analysis import QuadraticDiscriminantAnalysis"
   ]
  },
  {
   "cell_type": "markdown",
   "metadata": {},
   "source": [
    "# (a)"
   ]
  },
  {
   "cell_type": "code",
   "execution_count": 25,
   "metadata": {},
   "outputs": [
    {
     "name": "stdout",
     "output_type": "stream",
     "text": [
      "[0.05500000000000001, 0.05500000000000001, 0.045, 0.05, 0.05, 0.05, 0.039999999999999994, 0.045, 0.045, 0.05, 0.05]\n"
     ]
    }
   ],
   "source": [
    "cv_error_p=[] \n",
    "for c in ([2**i for i in range(-6,5)]):\n",
    "    SVM=svm.SVC(C=c,kernel='poly',degree=2,gamma=1,coef0=1)\n",
    "    scores=1-cross_val_score(SVM,twogaussians_x_train,twogaussians_y_train,cv=5,scoring='accuracy')\n",
    "    cv_error_p.append(scores.mean())\n",
    "print(cv_error_p)"
   ]
  },
  {
   "cell_type": "code",
   "execution_count": 26,
   "metadata": {},
   "outputs": [],
   "source": [
    "accuracy_p = list(map(lambda x: 1-x, cv_error_p))"
   ]
  },
  {
   "cell_type": "code",
   "execution_count": 27,
   "metadata": {},
   "outputs": [
    {
     "data": {
      "text/plain": [
       "[0.945, 0.945, 0.955, 0.95, 0.95, 0.95, 0.96, 0.955, 0.955, 0.95, 0.95]"
      ]
     },
     "execution_count": 27,
     "metadata": {},
     "output_type": "execute_result"
    }
   ],
   "source": [
    "accuracy_p"
   ]
  },
  {
   "cell_type": "code",
   "execution_count": 28,
   "metadata": {},
   "outputs": [
    {
     "data": {
      "text/plain": [
       "Text(0,0.5,'Accuracy')"
      ]
     },
     "execution_count": 28,
     "metadata": {},
     "output_type": "execute_result"
    },
    {
     "data": {
      "image/png": "[encoded data removed]",
      "text/plain": [
       "<Figure size 504x288 with 1 Axes>"
      ]
     },
     "metadata": {},
     "output_type": "display_data"
    }
   ],
   "source": [
    "from matplotlib.ticker import PercentFormatter\n",
    "\n",
    "fig = plt.figure(1, (7,4))\n",
    "ax = fig.add_subplot(1,1,1)\n",
    "\n",
    "plt.plot(range(-6,5),accuracy_p,color='blue',linestyle='dashed',marker='o',\n",
    "        markerfacecolor='blue',markersize=6)\n",
    "ax.yaxis.set_major_formatter(PercentFormatter(1.0))\n",
    "plt.title('Accuracy and C Polynomial Kernel')\n",
    "plt.xlabel('C: 2 to the power')\n",
    "plt.ylabel('Accuracy')"
   ]
  },
  {
   "cell_type": "markdown",
   "metadata": {},
   "source": [
    "# (b)"
   ]
  },
  {
   "cell_type": "code",
   "execution_count": 29,
   "metadata": {},
   "outputs": [],
   "source": [
    "qda=QuadraticDiscriminantAnalysis(store_covariance=True)\n",
    "x_test_pred=qda.fit(twogaussians_x_train,twogaussians_y_train).predict(twogaussians_x_test)\n",
    "#x_train_LDA=lda.transform(x_train_transformed_95)\n",
    "#x_test_QDA=qda.transform(x_test_transformed_95)\n",
    "#x_test_pred=qda.predict(x_test_transformed_95)\n",
    "error_twogaussian_qda=sum(x_test_pred!=twogaussians_y_test)/len(twogaussians_y_test)"
   ]
  },
  {
   "cell_type": "code",
   "execution_count": 30,
   "metadata": {},
   "outputs": [],
   "source": [
    "SVM=svm.SVC(kernel='poly',C=2**(3),probability=True,degree=2,gamma=1,coef0=1)\n",
    "SVM.fit(twogaussians_x_train,twogaussians_y_train)\n",
    "x_test_pred=SVM.predict(twogaussians_x_test)\n",
    "error_twogaussian_svm_p=sum(x_test_pred!=twogaussians_y_test)/len(twogaussians_y_test)"
   ]
  },
  {
   "cell_type": "code",
   "execution_count": 31,
   "metadata": {},
   "outputs": [
    {
     "data": {
      "text/plain": [
       "0.06"
      ]
     },
     "execution_count": 31,
     "metadata": {},
     "output_type": "execute_result"
    }
   ],
   "source": [
    "error_twogaussian_svm_p"
   ]
  },
  {
   "cell_type": "code",
   "execution_count": 32,
   "metadata": {},
   "outputs": [],
   "source": [
    "data={'Error':[error_twogaussian_qda,error_twogaussian_lg,error_twogaussian_svm_p]}"
   ]
  },
  {
   "cell_type": "code",
   "execution_count": 33,
   "metadata": {},
   "outputs": [],
   "source": [
    "df=pd.DataFrame(data, index=['QDA','Logistic Regression','SVM'], columns=['Error'])"
   ]
  },
  {
   "cell_type": "code",
   "execution_count": 34,
   "metadata": {},
   "outputs": [],
   "source": [
    "df['Error'] = pd.Series([\"{0:.2f}%\".format(val * 100) for val in df['Error']], index = df.index)"
   ]
  },
  {
   "cell_type": "code",
   "execution_count": 35,
   "metadata": {},
   "outputs": [
    {
     "data": {
      "text/html": [
       "<div>\n",
       "<style scoped>\n",
       "    .dataframe tbody tr th:only-of-type {\n",
       "        vertical-align: middle;\n",
       "    }\n",
       "\n",
       "    .dataframe tbody tr th {\n",
       "        vertical-align: top;\n",
       "    }\n",
       "\n",
       "    .dataframe thead th {\n",
       "        text-align: right;\n",
       "    }\n",
       "</style>\n",
       "<table border=\"1\" class=\"dataframe\">\n",
       "  <thead>\n",
       "    <tr style=\"text-align: right;\">\n",
       "      <th></th>\n",
       "      <th>Error</th>\n",
       "    </tr>\n",
       "  </thead>\n",
       "  <tbody>\n",
       "    <tr>\n",
       "      <th>QDA</th>\n",
       "      <td>7.00%</td>\n",
       "    </tr>\n",
       "    <tr>\n",
       "      <th>Logistic Regression</th>\n",
       "      <td>7.00%</td>\n",
       "    </tr>\n",
       "    <tr>\n",
       "      <th>SVM</th>\n",
       "      <td>6.00%</td>\n",
       "    </tr>\n",
       "  </tbody>\n",
       "</table>\n",
       "</div>"
      ],
      "text/plain": [
       "                     Error\n",
       "QDA                  7.00%\n",
       "Logistic Regression  7.00%\n",
       "SVM                  6.00%"
      ]
     },
     "execution_count": 35,
     "metadata": {},
     "output_type": "execute_result"
    }
   ],
   "source": [
    "df"
   ]
  },
  {
   "cell_type": "code",
   "execution_count": 36,
   "metadata": {},
   "outputs": [],
   "source": [
    "xx, yy = np.meshgrid(np.linspace(-4, 4, 200), np.linspace(-4, 4, 200))\n",
    "X_grid = np.c_[xx.ravel(), yy.ravel()]\n",
    "zz_qda = qda.predict_proba(X_grid)[:,1].reshape(xx.shape)\n",
    "zz_lg = lg.predict_proba(X_grid)[:,1].reshape(xx.shape)\n",
    "zz_svm=SVM.predict_proba(X_grid)[:,1].reshape(xx.shape)"
   ]
  },
  {
   "cell_type": "code",
   "execution_count": 37,
   "metadata": {},
   "outputs": [
    {
     "data": {
      "text/plain": [
       "Text(0.5,1,'Decision boundary for LDA,Logistic Regression and SVM')"
      ]
     },
     "execution_count": 37,
     "metadata": {},
     "output_type": "execute_result"
    },
    {
     "data": {
      "image/png": "[encoded data removed]",
      "text/plain": [
       "<Figure size 1080x792 with 1 Axes>"
      ]
     },
     "metadata": {},
     "output_type": "display_data"
    }
   ],
   "source": [
    "pl.figure(1, (15,11))\n",
    "splot = pl.subplot(1, 2, 1)\n",
    "pl.contourf(xx, yy, zz_lda > 0.5, alpha=0.4)\n",
    "pl.scatter(twogaussians_x_train[twogaussians_y_train==1,0], twogaussians_x_train[twogaussians_y_train==1,1], c='b', label='1')\n",
    "pl.scatter(twogaussians_x_train[twogaussians_y_train==2,0], twogaussians_x_train[twogaussians_y_train==2,1], c='r', label='2')\n",
    "pl.scatter(twogaussians_x_test[:,0], twogaussians_x_test[:,1], c='grey', label='test points')\n",
    "pl.contour(xx, yy, zz_qda, [0.5], linewidths=2., colors='black')\n",
    "pl.contour(xx, yy, zz_lg, [0.5], linewidths=2., colors='purple')\n",
    "pl.contour(xx, yy, zz_svm, [0.5], linewidths=2., colors='green')\n",
    "#plot_ellipse(splot, lda.means_[0], lda.covariance_, 'b')\n",
    "#plot_ellipse(splot, lda.means_[1], lda.covariance_, 'r')\n",
    "pl.legend()\n",
    "pl.axis('tight')\n",
    "pl.title('Decision boundary for LDA,Logistic Regression and SVM')"
   ]
  },
  {
   "cell_type": "markdown",
   "metadata": {},
   "source": [
    "# Problem 3"
   ]
  },
  {
   "cell_type": "code",
   "execution_count": 38,
   "metadata": {},
   "outputs": [],
   "source": [
    "train = np.loadtxt('zip.train')\n",
    "test  = np.loadtxt('zip.test')"
   ]
  },
  {
   "cell_type": "code",
   "execution_count": 39,
   "metadata": {},
   "outputs": [],
   "source": [
    "y_train=train[:,0]\n",
    "x_train=train[:,1:]\n",
    "y_test=test[:,0]\n",
    "x_test=test[:,1:]"
   ]
  },
  {
   "cell_type": "code",
   "execution_count": 40,
   "metadata": {},
   "outputs": [],
   "source": [
    "x_train01=x_train[np.where((y_train==0)|(y_train==1))]\n",
    "x_train17=x_train[np.where((y_train==7)|(y_train==1))]\n",
    "x_train49=x_train[np.where((y_train==4)|(y_train==9))]\n",
    "x_train358=x_train[np.where((y_train==3)|(y_train==5)|(y_train==8))]\n",
    "\n",
    "x_test01=x_test[np.where((y_test==0)|(y_test==1))]\n",
    "x_test17=x_test[np.where((y_test==7)|(y_test==1))]\n",
    "x_test49=x_test[np.where((y_test==4)|(y_test==9))]\n",
    "x_test358=x_test[np.where((y_test==3)|(y_test==5)|(y_test==8))]\n",
    "\n",
    "\n",
    "\n",
    "y_train01=y_train[np.where((y_train==0)|(y_train==1))]\n",
    "y_train17=y_train[np.where((y_train==7)|(y_train==1))]\n",
    "y_train49=y_train[np.where((y_train==4)|(y_train==9))]\n",
    "y_train358=y_train[np.where((y_train==3)|(y_train==5)|(y_train==8))]\n",
    "\n",
    "\n",
    "y_test01=y_test[np.where((y_test==0)|(y_test==1))]\n",
    "y_test17=y_test[np.where((y_test==7)|(y_test==1))]\n",
    "y_test49=y_test[np.where((y_test==4)|(y_test==9))]\n",
    "y_test358=y_test[np.where((y_test==3)|(y_test==5)|(y_test==8))]"
   ]
  },
  {
   "cell_type": "markdown",
   "metadata": {},
   "source": [
    "# 0 and 1"
   ]
  },
  {
   "cell_type": "code",
   "execution_count": 41,
   "metadata": {},
   "outputs": [],
   "source": [
    "from sklearn.decomposition import PCA"
   ]
  },
  {
   "cell_type": "code",
   "execution_count": 42,
   "metadata": {},
   "outputs": [],
   "source": [
    "pca95 = PCA(0.95)\n",
    "pca95.fit(x_train01)\n",
    "x_train_transformed_95 = pca95.transform(x_train01)\n",
    "x_test_transformed_95=pca95.transform(x_test01)"
   ]
  },
  {
   "cell_type": "code",
   "execution_count": 43,
   "metadata": {},
   "outputs": [
    {
     "name": "stdout",
     "output_type": "stream",
     "text": [
      "[0.006420545746388443, 0.006420545746388443, 0.006420545746388443, 0.006420545746388443, 0.006420545746388443, 0.006420545746388443, 0.006420545746388443, 0.006420545746388443, 0.006420545746388443, 0.006420545746388443, 0.006420545746388443]\n"
     ]
    }
   ],
   "source": [
    "cv_error_l_01=[] \n",
    "for c in ([2**i for i in range(-6,5)]):\n",
    "    SVM=svm.SVC(kernel='linear',C=c)\n",
    "    SVM.fit(x_train_transformed_95,y_train01)\n",
    "    x_test_pred=SVM.predict(x_test_transformed_95)\n",
    "    error_twogaussian_svm_p=sum(x_test_pred!=y_test01)/len(y_test01)\n",
    "    cv_error_l_01.append(error_twogaussian_svm_p)\n",
    "print(cv_error_l_01)"
   ]
  },
  {
   "cell_type": "code",
   "execution_count": 44,
   "metadata": {},
   "outputs": [
    {
     "name": "stdout",
     "output_type": "stream",
     "text": [
      "[0.004815409309791332, 0.004815409309791332, 0.004815409309791332, 0.004815409309791332, 0.004815409309791332, 0.004815409309791332, 0.004815409309791332, 0.004815409309791332, 0.004815409309791332, 0.004815409309791332, 0.004815409309791332]\n"
     ]
    }
   ],
   "source": [
    "cv_error_qp_01=[] \n",
    "for c in ([2**i for i in range(-6,5)]):\n",
    "    SVM=svm.SVC(kernel='poly',C=c,degree=2,coef0=1,gamma=1)\n",
    "    SVM.fit(x_train_transformed_95,y_train01)\n",
    "    x_test_pred=SVM.predict(x_test_transformed_95)\n",
    "    error_twogaussian_svm_p=sum(x_test_pred!=y_test01)/len(y_test01)\n",
    "    cv_error_qp_01.append(error_twogaussian_svm_p)\n",
    "print(cv_error_qp_01)"
   ]
  },
  {
   "cell_type": "code",
   "execution_count": 45,
   "metadata": {},
   "outputs": [
    {
     "name": "stdout",
     "output_type": "stream",
     "text": [
      "[0.004815409309791332, 0.004815409309791332, 0.004815409309791332, 0.004815409309791332, 0.004815409309791332, 0.004815409309791332, 0.004815409309791332, 0.004815409309791332, 0.004815409309791332, 0.004815409309791332, 0.004815409309791332]\n"
     ]
    }
   ],
   "source": [
    "cv_error_cp_01=[] \n",
    "for c in ([2**i for i in range(-6,5)]):\n",
    "    SVM=svm.SVC(kernel='poly',C=c,degree=3,coef0=1,gamma=1)\n",
    "    SVM.fit(x_train_transformed_95,y_train01)\n",
    "    x_test_pred=SVM.predict(x_test_transformed_95)\n",
    "    error_twogaussian_svm_p=sum(x_test_pred!=y_test01)/len(y_test01)\n",
    "    cv_error_cp_01.append(error_twogaussian_svm_p)\n",
    "print(cv_error_cp_01)"
   ]
  },
  {
   "cell_type": "code",
   "execution_count": 46,
   "metadata": {},
   "outputs": [
    {
     "data": {
      "text/plain": [
       "<matplotlib.legend.Legend at 0x1a20a9f358>"
      ]
     },
     "execution_count": 46,
     "metadata": {},
     "output_type": "execute_result"
    },
    {
     "data": {
      "image/png": "[encoded data removed]",
      "text/plain": [
       "<Figure size 504x288 with 1 Axes>"
      ]
     },
     "metadata": {},
     "output_type": "display_data"
    }
   ],
   "source": [
    "from matplotlib.ticker import PercentFormatter\n",
    "\n",
    "fig = plt.figure(1, (7,4))\n",
    "ax = fig.add_subplot(1,1,1)\n",
    "\n",
    "linear_kernel_g,=plt.plot(range(-6,5),cv_error_l_01,color='blue',linestyle='dashed',marker='o',\n",
    "        markerfacecolor='blue',markersize=6)\n",
    "q_kernel_g,=plt.plot(range(-6,5),cv_error_qp_01,color='red',linestyle='dashed',marker='x',\n",
    "        markerfacecolor='red',markersize=6)\n",
    "c_kernel_g,=plt.plot(range(-6,5),cv_error_cp_01,color='black',linestyle='dashed',marker='*',\n",
    "        markerfacecolor='black',markersize=6)\n",
    "ax.yaxis.set_major_formatter(PercentFormatter(1.0))\n",
    "plt.title('Error Rate vs. C for 0 and 1')\n",
    "plt.xlabel('C: 2 to the Power')\n",
    "plt.ylabel('Error Rate')\n",
    "\n",
    "plt.legend([linear_kernel_g,q_kernel_g,c_kernel_g],[\"Linear Kernel\",\"Quartic Kernel\",\"Cubic Kernel\"])"
   ]
  },
  {
   "cell_type": "markdown",
   "metadata": {},
   "source": [
    "# 1 and 7"
   ]
  },
  {
   "cell_type": "code",
   "execution_count": 47,
   "metadata": {},
   "outputs": [],
   "source": [
    "pca95 = PCA(0.95)\n",
    "pca95.fit(x_train17)\n",
    "x_train_transformed_95 = pca95.transform(x_train17)\n",
    "x_test_transformed_95=pca95.transform(x_test17)"
   ]
  },
  {
   "cell_type": "code",
   "execution_count": 48,
   "metadata": {},
   "outputs": [
    {
     "name": "stdout",
     "output_type": "stream",
     "text": [
      "[0.009732360097323601, 0.009732360097323601, 0.009732360097323601, 0.009732360097323601, 0.009732360097323601, 0.009732360097323601, 0.009732360097323601, 0.009732360097323601, 0.009732360097323601, 0.009732360097323601, 0.009732360097323601]\n"
     ]
    }
   ],
   "source": [
    "cv_error_l_17=[] \n",
    "for c in ([2**i for i in range(-6,5)]):\n",
    "    SVM=svm.SVC(kernel='linear',C=c)\n",
    "    SVM.fit(x_train_transformed_95,y_train17)\n",
    "    x_test_pred=SVM.predict(x_test_transformed_95)\n",
    "    error_twogaussian_svm_p=sum(x_test_pred!=y_test17)/len(y_test17)\n",
    "    cv_error_l_17.append(error_twogaussian_svm_p)\n",
    "print(cv_error_l_17)"
   ]
  },
  {
   "cell_type": "code",
   "execution_count": 49,
   "metadata": {},
   "outputs": [
    {
     "name": "stdout",
     "output_type": "stream",
     "text": [
      "[0.014598540145985401, 0.014598540145985401, 0.014598540145985401, 0.014598540145985401, 0.014598540145985401, 0.014598540145985401, 0.014598540145985401, 0.014598540145985401, 0.014598540145985401, 0.014598540145985401, 0.014598540145985401]\n"
     ]
    }
   ],
   "source": [
    "cv_error_qp_17=[] \n",
    "for c in ([2**i for i in range(-6,5)]):\n",
    "    SVM=svm.SVC(kernel='poly',C=c,degree=2,gamma=1,coef0=1)\n",
    "    SVM.fit(x_train_transformed_95,y_train17)\n",
    "    x_test_pred=SVM.predict(x_test_transformed_95)\n",
    "    error_twogaussian_svm_p=sum(x_test_pred!=y_test17)/len(y_test17)\n",
    "    cv_error_qp_17.append(error_twogaussian_svm_p)\n",
    "print(cv_error_qp_17)"
   ]
  },
  {
   "cell_type": "code",
   "execution_count": 50,
   "metadata": {},
   "outputs": [
    {
     "name": "stdout",
     "output_type": "stream",
     "text": [
      "[0.012165450121654502, 0.012165450121654502, 0.012165450121654502, 0.012165450121654502, 0.012165450121654502, 0.012165450121654502, 0.012165450121654502, 0.012165450121654502, 0.012165450121654502, 0.012165450121654502, 0.012165450121654502]\n"
     ]
    }
   ],
   "source": [
    "cv_error_cp_17=[] \n",
    "for c in ([2**i for i in range(-6,5)]):\n",
    "    SVM=svm.SVC(kernel='poly',C=c,degree=3,gamma=1,coef0=1)\n",
    "    SVM.fit(x_train_transformed_95,y_train17)\n",
    "    x_test_pred=SVM.predict(x_test_transformed_95)\n",
    "    error_twogaussian_svm_p=sum(x_test_pred!=y_test17)/len(y_test17)\n",
    "    cv_error_cp_17.append(error_twogaussian_svm_p)\n",
    "print(cv_error_cp_17)"
   ]
  },
  {
   "cell_type": "code",
   "execution_count": 51,
   "metadata": {},
   "outputs": [
    {
     "data": {
      "text/plain": [
       "<matplotlib.legend.Legend at 0x1a20bb0198>"
      ]
     },
     "execution_count": 51,
     "metadata": {},
     "output_type": "execute_result"
    },
    {
     "data": {
      "image/png": "[encoded data removed]",
      "text/plain": [
       "<Figure size 504x288 with 1 Axes>"
      ]
     },
     "metadata": {},
     "output_type": "display_data"
    }
   ],
   "source": [
    "from matplotlib.ticker import PercentFormatter\n",
    "\n",
    "fig = plt.figure(1, (7,4))\n",
    "ax = fig.add_subplot(1,1,1)\n",
    "\n",
    "linear_kernel_g,=plt.plot(range(-6,5),cv_error_l_17,color='blue',linestyle='dashed',marker='o',\n",
    "        markerfacecolor='blue',markersize=6)\n",
    "q_kernel_g,=plt.plot(range(-6,5),cv_error_qp_17,color='red',linestyle='dashed',marker='x',\n",
    "        markerfacecolor='red',markersize=6)\n",
    "c_kernel_g,=plt.plot(range(-6,5),cv_error_cp_17,color='black',linestyle='dashed',marker='*',\n",
    "        markerfacecolor='black',markersize=6)\n",
    "ax.yaxis.set_major_formatter(PercentFormatter(1.0))\n",
    "plt.title('Error Rate vs. C for 1 and 7')\n",
    "plt.xlabel('C: 2 to the Power')\n",
    "plt.ylabel('Error Rate')\n",
    "\n",
    "plt.legend([linear_kernel_g,q_kernel_g,c_kernel_g],[\"Linear Kernel\",\"Quartic Kernel\",\"Cubic Kernel\"])"
   ]
  },
  {
   "cell_type": "markdown",
   "metadata": {},
   "source": [
    "# 4 and 9 "
   ]
  },
  {
   "cell_type": "code",
   "execution_count": 52,
   "metadata": {},
   "outputs": [],
   "source": [
    "pca95 = PCA(0.95)\n",
    "pca95.fit(x_train49)\n",
    "x_train_transformed_95 = pca95.transform(x_train49)\n",
    "x_test_transformed_95=pca95.transform(x_test49)"
   ]
  },
  {
   "cell_type": "code",
   "execution_count": 53,
   "metadata": {},
   "outputs": [
    {
     "name": "stdout",
     "output_type": "stream",
     "text": [
      "[0.03713527851458886, 0.03183023872679045, 0.03183023872679045, 0.029177718832891247, 0.03713527851458886, 0.034482758620689655, 0.03713527851458886, 0.03713527851458886, 0.03713527851458886, 0.03713527851458886, 0.03713527851458886]\n"
     ]
    }
   ],
   "source": [
    "cv_error_l_49=[] \n",
    "for c in ([2**i for i in range(-6,5)]):\n",
    "    SVM=svm.SVC(kernel='linear',C=c)\n",
    "    SVM.fit(x_train_transformed_95,y_train49)\n",
    "    x_test_pred=SVM.predict(x_test_transformed_95)\n",
    "    error_twogaussian_svm_p=sum(x_test_pred!=y_test49)/len(y_test49)\n",
    "    cv_error_l_49.append(error_twogaussian_svm_p)\n",
    "print(cv_error_l_49)"
   ]
  },
  {
   "cell_type": "code",
   "execution_count": 54,
   "metadata": {},
   "outputs": [
    {
     "name": "stdout",
     "output_type": "stream",
     "text": [
      "[0.021220159151193633, 0.021220159151193633, 0.021220159151193633, 0.021220159151193633, 0.021220159151193633, 0.021220159151193633, 0.021220159151193633, 0.021220159151193633, 0.021220159151193633, 0.021220159151193633, 0.021220159151193633]\n"
     ]
    }
   ],
   "source": [
    "cv_error_qp_49=[] \n",
    "for c in ([2**i for i in range(-6,5)]):\n",
    "    SVM=svm.SVC(kernel='poly',C=c,degree=2,gamma=1,coef0=1)\n",
    "    SVM.fit(x_train_transformed_95,y_train49)\n",
    "    x_test_pred=SVM.predict(x_test_transformed_95)\n",
    "    error_twogaussian_svm_p=sum(x_test_pred!=y_test49)/len(y_test49)\n",
    "    cv_error_qp_49.append(error_twogaussian_svm_p)\n",
    "print(cv_error_qp_49)"
   ]
  },
  {
   "cell_type": "code",
   "execution_count": 55,
   "metadata": {},
   "outputs": [
    {
     "name": "stdout",
     "output_type": "stream",
     "text": [
      "[0.029177718832891247, 0.029177718832891247, 0.029177718832891247, 0.029177718832891247, 0.029177718832891247, 0.029177718832891247, 0.029177718832891247, 0.029177718832891247, 0.029177718832891247, 0.029177718832891247, 0.029177718832891247]\n"
     ]
    }
   ],
   "source": [
    "cv_error_cp_49=[] \n",
    "for c in ([2**i for i in range(-6,5)]):\n",
    "    SVM=svm.SVC(kernel='poly',C=c,degree=3,gamma=1,coef0=1)\n",
    "    SVM.fit(x_train_transformed_95,y_train49)\n",
    "    x_test_pred=SVM.predict(x_test_transformed_95)\n",
    "    error_twogaussian_svm_p=sum(x_test_pred!=y_test49)/len(y_test49)\n",
    "    cv_error_cp_49.append(error_twogaussian_svm_p)\n",
    "print(cv_error_cp_49)"
   ]
  },
  {
   "cell_type": "code",
   "execution_count": 56,
   "metadata": {},
   "outputs": [
    {
     "data": {
      "text/plain": [
       "<matplotlib.legend.Legend at 0x1a20c67b38>"
      ]
     },
     "execution_count": 56,
     "metadata": {},
     "output_type": "execute_result"
    },
    {
     "data": {
      "image/png": "[encoded data removed]",
      "text/plain": [
       "<Figure size 504x288 with 1 Axes>"
      ]
     },
     "metadata": {},
     "output_type": "display_data"
    }
   ],
   "source": [
    "from matplotlib.ticker import PercentFormatter\n",
    "\n",
    "fig = plt.figure(1, (7,4))\n",
    "ax = fig.add_subplot(1,1,1)\n",
    "\n",
    "linear_kernel_g,=plt.plot(range(-6,5),cv_error_l_49,color='blue',linestyle='dashed',marker='o',\n",
    "        markerfacecolor='blue',markersize=6)\n",
    "q_kernel_g,=plt.plot(range(-6,5),cv_error_qp_49,color='red',linestyle='dashed',marker='x',\n",
    "        markerfacecolor='red',markersize=6)\n",
    "c_kernel_g,=plt.plot(range(-6,5),cv_error_cp_49,color='black',linestyle='dashed',marker='*',\n",
    "        markerfacecolor='black',markersize=6)\n",
    "ax.yaxis.set_major_formatter(PercentFormatter(1.0))\n",
    "plt.title('Error Rate vs. C for 4 and 9')\n",
    "plt.xlabel('C: 2 to the Power')\n",
    "plt.ylabel('Error Rate')\n",
    "\n",
    "plt.legend([linear_kernel_g,q_kernel_g,c_kernel_g],[\"Linear Kernel\",\"Quartic Kernel\",\"Cubic Kernel\"],bbox_to_anchor=(1, 0.5))"
   ]
  },
  {
   "cell_type": "markdown",
   "metadata": {},
   "source": [
    "# Problem 4"
   ]
  },
  {
   "cell_type": "markdown",
   "metadata": {},
   "source": [
    "# 0 and 1"
   ]
  },
  {
   "cell_type": "code",
   "execution_count": 57,
   "metadata": {},
   "outputs": [],
   "source": [
    "pca95 = PCA(0.95)\n",
    "pca95.fit(x_train01)\n",
    "x_train_transformed_95 = pca95.transform(x_train01)\n",
    "x_test_transformed_95=pca95.transform(x_test01)"
   ]
  },
  {
   "cell_type": "code",
   "execution_count": 58,
   "metadata": {},
   "outputs": [
    {
     "name": "stdout",
     "output_type": "stream",
     "text": [
      "[0.004815409309791332, 0.006420545746388443, 0.012841091492776886, 0.033707865168539325, 0.056179775280898875, 0.1332263242375602, 0.2536115569823435, 0.4044943820224719, 0.42375601926163725, 0.42375601926163725, 0.42375601926163725, 0.004815409309791332, 0.008025682182985553, 0.011235955056179775, 0.027287319422150885, 0.048154093097913325, 0.08507223113964688, 0.18298555377207062, 0.31781701444622795, 0.42375601926163725, 0.42375601926163725, 0.42375601926163725, 0.006420545746388443, 0.008025682182985553, 0.008025682182985553, 0.02247191011235955, 0.03691813804173355, 0.06260032102728733, 0.12359550561797752, 0.26324237560192615, 0.38041733547351525, 0.42375601926163725, 0.42375601926163725, 0.008025682182985553, 0.008025682182985553, 0.008025682182985553, 0.019261637239165328, 0.03210272873194221, 0.04975922953451043, 0.09470304975922954, 0.1942215088282504, 0.32102728731942215, 0.42375601926163725, 0.42375601926163725, 0.008025682182985553, 0.008025682182985553, 0.006420545746388443, 0.012841091492776886, 0.027287319422150885, 0.048154093097913325, 0.07062600321027288, 0.13964686998394862, 0.27608346709470305, 0.38362760834670945, 0.42375601926163725, 0.006420545746388443, 0.008025682182985553, 0.006420545746388443, 0.011235955056179775, 0.02086677367576244, 0.038523274478330656, 0.05778491171749599, 0.10914927768860354, 0.2231139646869984, 0.33226324237560195, 0.4189406099518459, 0.006420545746388443, 0.004815409309791332, 0.004815409309791332, 0.008025682182985553, 0.019261637239165328, 0.03210272873194221, 0.051364365971107544, 0.08186195826645265, 0.1637239165329053, 0.2664526484751204, 0.3563402889245586, 0.006420545746388443, 0.004815409309791332, 0.004815409309791332, 0.008025682182985553, 0.019261637239165328, 0.03210272873194221, 0.04975922953451043, 0.0754414125200642, 0.14606741573033707, 0.2504012841091493, 0.33707865168539325, 0.004815409309791332, 0.004815409309791332, 0.004815409309791332, 0.008025682182985553, 0.019261637239165328, 0.03210272873194221, 0.04975922953451043, 0.0754414125200642, 0.14606741573033707, 0.2504012841091493, 0.33707865168539325, 0.004815409309791332, 0.004815409309791332, 0.004815409309791332, 0.008025682182985553, 0.019261637239165328, 0.03210272873194221, 0.04975922953451043, 0.0754414125200642, 0.14606741573033707, 0.2504012841091493, 0.33707865168539325, 0.004815409309791332, 0.004815409309791332, 0.004815409309791332, 0.008025682182985553, 0.019261637239165328, 0.03210272873194221, 0.04975922953451043, 0.0754414125200642, 0.14606741573033707, 0.2504012841091493, 0.33707865168539325]\n"
     ]
    }
   ],
   "source": [
    "test_error_01=[] \n",
    "for c in ([2**i for i in range(-6,5)]):\n",
    "    for g in ([2**j for j in range(-8,3)]):\n",
    "        SVM=svm.SVC(kernel='rbf',C=c,gamma=g)\n",
    "        SVM.fit(x_train_transformed_95,y_train01)\n",
    "        x_test_pred=SVM.predict(x_test_transformed_95)\n",
    "        error_twogaussian_svm_p=sum(x_test_pred!=y_test01)/len(y_test01)\n",
    "        test_error_01.append(error_twogaussian_svm_p)\n",
    "print(test_error_01)"
   ]
  },
  {
   "cell_type": "code",
   "execution_count": 59,
   "metadata": {},
   "outputs": [],
   "source": [
    "z=np.array(test_error_01)\n",
    "x=np.arange(-6,5)\n",
    "y=np.arange(-6,5)"
   ]
  },
  {
   "cell_type": "code",
   "execution_count": 60,
   "metadata": {},
   "outputs": [
    {
     "name": "stdout",
     "output_type": "stream",
     "text": [
      "-8\n",
      "-7\n",
      "-6\n",
      "-5\n",
      "-4\n",
      "-3\n",
      "-2\n",
      "-1\n",
      "0\n",
      "1\n",
      "2\n"
     ]
    }
   ],
   "source": [
    "for i in range(-8,3):\n",
    "    print(i)"
   ]
  },
  {
   "cell_type": "code",
   "execution_count": 61,
   "metadata": {},
   "outputs": [],
   "source": [
    "z=np.reshape(z,(11,11))"
   ]
  },
  {
   "cell_type": "code",
   "execution_count": 62,
   "metadata": {},
   "outputs": [],
   "source": [
    "binsx=np.arange(8,3)\n",
    "binsy=np.arange(-6,4)"
   ]
  },
  {
   "cell_type": "code",
   "execution_count": 63,
   "metadata": {},
   "outputs": [
    {
     "data": {
      "image/png": "[encoded data removed]",
      "text/plain": [
       "<Figure size 432x288 with 2 Axes>"
      ]
     },
     "metadata": {},
     "output_type": "display_data"
    }
   ],
   "source": [
    "plt.imshow(z, cmap=plt.cm.Reds)\n",
    "plt.title('HeatMap for 0 and 1 Error')\n",
    "#plt.xticks(binsx)\n",
    "#plt.yticks(binsy)\n",
    "plt.colorbar()\n",
    "plt.show()"
   ]
  },
  {
   "cell_type": "code",
   "execution_count": 64,
   "metadata": {},
   "outputs": [
    {
     "data": {
      "image/png": "[encoded data removed]",
      "text/plain": [
       "<Figure size 432x288 with 2 Axes>"
      ]
     },
     "metadata": {},
     "output_type": "display_data"
    }
   ],
   "source": [
    "\n",
    "import seaborn as sns\n",
    "\n",
    "sns.set()\n",
    "#uniform_data = np.random.rand(10, 12)\n",
    "ax = sns.heatmap(z, linewidth=0.5)\n",
    "ax.set_xticklabels(['-8','-7','-6','-5','-4','-3','-2','-1','0','1','2'])\n",
    "#ax.set_yticklabels(['-6','-5','-4','-3','-2','-1','0','1','2','3','4'])\n",
    "ax.set_yticklabels(['4','3','2','1','0','-1','-2','-3','-4','-5','-6'])\n",
    "ax.set_xlabel('Gamma')\n",
    "ax.set_ylabel('C')\n",
    "ax.set_title('Error Rate Heatmap for 0 and 1')\n",
    "plt.show()"
   ]
  },
  {
   "cell_type": "code",
   "execution_count": 65,
   "metadata": {},
   "outputs": [
    {
     "data": {
      "text/plain": [
       "0.004815409309791332"
      ]
     },
     "execution_count": 65,
     "metadata": {},
     "output_type": "execute_result"
    }
   ],
   "source": [
    "np.min(z)"
   ]
  },
  {
   "cell_type": "code",
   "execution_count": 66,
   "metadata": {},
   "outputs": [],
   "source": [
    "df=pd.DataFrame(z,columns=['-8','-7','-6','-5','-4','-3','-2','-1','0','1','2'],index=['-6','-5','-4','-3','-2','-1','0','1','2','3','4'])"
   ]
  },
  {
   "cell_type": "code",
   "execution_count": 67,
   "metadata": {},
   "outputs": [],
   "source": [
    "df=df*100"
   ]
  },
  {
   "cell_type": "code",
   "execution_count": 68,
   "metadata": {},
   "outputs": [],
   "source": [
    "pd.options.display.float_format = \"{0:.4f}%\".format"
   ]
  },
  {
   "cell_type": "code",
   "execution_count": 69,
   "metadata": {},
   "outputs": [
    {
     "data": {
      "text/html": [
       "<div>\n",
       "<style scoped>\n",
       "    .dataframe tbody tr th:only-of-type {\n",
       "        vertical-align: middle;\n",
       "    }\n",
       "\n",
       "    .dataframe tbody tr th {\n",
       "        vertical-align: top;\n",
       "    }\n",
       "\n",
       "    .dataframe thead th {\n",
       "        text-align: right;\n",
       "    }\n",
       "</style>\n",
       "<table border=\"1\" class=\"dataframe\">\n",
       "  <thead>\n",
       "    <tr style=\"text-align: right;\">\n",
       "      <th></th>\n",
       "      <th>-8</th>\n",
       "      <th>-7</th>\n",
       "      <th>-6</th>\n",
       "      <th>-5</th>\n",
       "      <th>-4</th>\n",
       "      <th>-3</th>\n",
       "      <th>-2</th>\n",
       "      <th>-1</th>\n",
       "      <th>0</th>\n",
       "      <th>1</th>\n",
       "      <th>2</th>\n",
       "    </tr>\n",
       "  </thead>\n",
       "  <tbody>\n",
       "    <tr>\n",
       "      <th>-6</th>\n",
       "      <td>0.4815%</td>\n",
       "      <td>0.6421%</td>\n",
       "      <td>1.2841%</td>\n",
       "      <td>3.3708%</td>\n",
       "      <td>5.6180%</td>\n",
       "      <td>13.3226%</td>\n",
       "      <td>25.3612%</td>\n",
       "      <td>40.4494%</td>\n",
       "      <td>42.3756%</td>\n",
       "      <td>42.3756%</td>\n",
       "      <td>42.3756%</td>\n",
       "    </tr>\n",
       "    <tr>\n",
       "      <th>-5</th>\n",
       "      <td>0.4815%</td>\n",
       "      <td>0.8026%</td>\n",
       "      <td>1.1236%</td>\n",
       "      <td>2.7287%</td>\n",
       "      <td>4.8154%</td>\n",
       "      <td>8.5072%</td>\n",
       "      <td>18.2986%</td>\n",
       "      <td>31.7817%</td>\n",
       "      <td>42.3756%</td>\n",
       "      <td>42.3756%</td>\n",
       "      <td>42.3756%</td>\n",
       "    </tr>\n",
       "    <tr>\n",
       "      <th>-4</th>\n",
       "      <td>0.6421%</td>\n",
       "      <td>0.8026%</td>\n",
       "      <td>0.8026%</td>\n",
       "      <td>2.2472%</td>\n",
       "      <td>3.6918%</td>\n",
       "      <td>6.2600%</td>\n",
       "      <td>12.3596%</td>\n",
       "      <td>26.3242%</td>\n",
       "      <td>38.0417%</td>\n",
       "      <td>42.3756%</td>\n",
       "      <td>42.3756%</td>\n",
       "    </tr>\n",
       "    <tr>\n",
       "      <th>-3</th>\n",
       "      <td>0.8026%</td>\n",
       "      <td>0.8026%</td>\n",
       "      <td>0.8026%</td>\n",
       "      <td>1.9262%</td>\n",
       "      <td>3.2103%</td>\n",
       "      <td>4.9759%</td>\n",
       "      <td>9.4703%</td>\n",
       "      <td>19.4222%</td>\n",
       "      <td>32.1027%</td>\n",
       "      <td>42.3756%</td>\n",
       "      <td>42.3756%</td>\n",
       "    </tr>\n",
       "    <tr>\n",
       "      <th>-2</th>\n",
       "      <td>0.8026%</td>\n",
       "      <td>0.8026%</td>\n",
       "      <td>0.6421%</td>\n",
       "      <td>1.2841%</td>\n",
       "      <td>2.7287%</td>\n",
       "      <td>4.8154%</td>\n",
       "      <td>7.0626%</td>\n",
       "      <td>13.9647%</td>\n",
       "      <td>27.6083%</td>\n",
       "      <td>38.3628%</td>\n",
       "      <td>42.3756%</td>\n",
       "    </tr>\n",
       "    <tr>\n",
       "      <th>-1</th>\n",
       "      <td>0.6421%</td>\n",
       "      <td>0.8026%</td>\n",
       "      <td>0.6421%</td>\n",
       "      <td>1.1236%</td>\n",
       "      <td>2.0867%</td>\n",
       "      <td>3.8523%</td>\n",
       "      <td>5.7785%</td>\n",
       "      <td>10.9149%</td>\n",
       "      <td>22.3114%</td>\n",
       "      <td>33.2263%</td>\n",
       "      <td>41.8941%</td>\n",
       "    </tr>\n",
       "    <tr>\n",
       "      <th>0</th>\n",
       "      <td>0.6421%</td>\n",
       "      <td>0.4815%</td>\n",
       "      <td>0.4815%</td>\n",
       "      <td>0.8026%</td>\n",
       "      <td>1.9262%</td>\n",
       "      <td>3.2103%</td>\n",
       "      <td>5.1364%</td>\n",
       "      <td>8.1862%</td>\n",
       "      <td>16.3724%</td>\n",
       "      <td>26.6453%</td>\n",
       "      <td>35.6340%</td>\n",
       "    </tr>\n",
       "    <tr>\n",
       "      <th>1</th>\n",
       "      <td>0.6421%</td>\n",
       "      <td>0.4815%</td>\n",
       "      <td>0.4815%</td>\n",
       "      <td>0.8026%</td>\n",
       "      <td>1.9262%</td>\n",
       "      <td>3.2103%</td>\n",
       "      <td>4.9759%</td>\n",
       "      <td>7.5441%</td>\n",
       "      <td>14.6067%</td>\n",
       "      <td>25.0401%</td>\n",
       "      <td>33.7079%</td>\n",
       "    </tr>\n",
       "    <tr>\n",
       "      <th>2</th>\n",
       "      <td>0.4815%</td>\n",
       "      <td>0.4815%</td>\n",
       "      <td>0.4815%</td>\n",
       "      <td>0.8026%</td>\n",
       "      <td>1.9262%</td>\n",
       "      <td>3.2103%</td>\n",
       "      <td>4.9759%</td>\n",
       "      <td>7.5441%</td>\n",
       "      <td>14.6067%</td>\n",
       "      <td>25.0401%</td>\n",
       "      <td>33.7079%</td>\n",
       "    </tr>\n",
       "    <tr>\n",
       "      <th>3</th>\n",
       "      <td>0.4815%</td>\n",
       "      <td>0.4815%</td>\n",
       "      <td>0.4815%</td>\n",
       "      <td>0.8026%</td>\n",
       "      <td>1.9262%</td>\n",
       "      <td>3.2103%</td>\n",
       "      <td>4.9759%</td>\n",
       "      <td>7.5441%</td>\n",
       "      <td>14.6067%</td>\n",
       "      <td>25.0401%</td>\n",
       "      <td>33.7079%</td>\n",
       "    </tr>\n",
       "    <tr>\n",
       "      <th>4</th>\n",
       "      <td>0.4815%</td>\n",
       "      <td>0.4815%</td>\n",
       "      <td>0.4815%</td>\n",
       "      <td>0.8026%</td>\n",
       "      <td>1.9262%</td>\n",
       "      <td>3.2103%</td>\n",
       "      <td>4.9759%</td>\n",
       "      <td>7.5441%</td>\n",
       "      <td>14.6067%</td>\n",
       "      <td>25.0401%</td>\n",
       "      <td>33.7079%</td>\n",
       "    </tr>\n",
       "  </tbody>\n",
       "</table>\n",
       "</div>"
      ],
      "text/plain": [
       "        -8      -7      -6      -5      -4       -3       -2       -1  \\\n",
       "-6 0.4815% 0.6421% 1.2841% 3.3708% 5.6180% 13.3226% 25.3612% 40.4494%   \n",
       "-5 0.4815% 0.8026% 1.1236% 2.7287% 4.8154%  8.5072% 18.2986% 31.7817%   \n",
       "-4 0.6421% 0.8026% 0.8026% 2.2472% 3.6918%  6.2600% 12.3596% 26.3242%   \n",
       "-3 0.8026% 0.8026% 0.8026% 1.9262% 3.2103%  4.9759%  9.4703% 19.4222%   \n",
       "-2 0.8026% 0.8026% 0.6421% 1.2841% 2.7287%  4.8154%  7.0626% 13.9647%   \n",
       "-1 0.6421% 0.8026% 0.6421% 1.1236% 2.0867%  3.8523%  5.7785% 10.9149%   \n",
       "0  0.6421% 0.4815% 0.4815% 0.8026% 1.9262%  3.2103%  5.1364%  8.1862%   \n",
       "1  0.6421% 0.4815% 0.4815% 0.8026% 1.9262%  3.2103%  4.9759%  7.5441%   \n",
       "2  0.4815% 0.4815% 0.4815% 0.8026% 1.9262%  3.2103%  4.9759%  7.5441%   \n",
       "3  0.4815% 0.4815% 0.4815% 0.8026% 1.9262%  3.2103%  4.9759%  7.5441%   \n",
       "4  0.4815% 0.4815% 0.4815% 0.8026% 1.9262%  3.2103%  4.9759%  7.5441%   \n",
       "\n",
       "          0        1        2  \n",
       "-6 42.3756% 42.3756% 42.3756%  \n",
       "-5 42.3756% 42.3756% 42.3756%  \n",
       "-4 38.0417% 42.3756% 42.3756%  \n",
       "-3 32.1027% 42.3756% 42.3756%  \n",
       "-2 27.6083% 38.3628% 42.3756%  \n",
       "-1 22.3114% 33.2263% 41.8941%  \n",
       "0  16.3724% 26.6453% 35.6340%  \n",
       "1  14.6067% 25.0401% 33.7079%  \n",
       "2  14.6067% 25.0401% 33.7079%  \n",
       "3  14.6067% 25.0401% 33.7079%  \n",
       "4  14.6067% 25.0401% 33.7079%  "
      ]
     },
     "execution_count": 69,
     "metadata": {},
     "output_type": "execute_result"
    }
   ],
   "source": [
    "df"
   ]
  },
  {
   "cell_type": "code",
   "execution_count": 70,
   "metadata": {},
   "outputs": [
    {
     "data": {
      "text/plain": [
       "(0, 0)"
      ]
     },
     "execution_count": 70,
     "metadata": {},
     "output_type": "execute_result"
    }
   ],
   "source": [
    "np.unravel_index(z.argmin(), z.shape)"
   ]
  },
  {
   "cell_type": "code",
   "execution_count": 71,
   "metadata": {},
   "outputs": [
    {
     "data": {
      "text/plain": [
       "0.004815409309791332"
      ]
     },
     "execution_count": 71,
     "metadata": {},
     "output_type": "execute_result"
    }
   ],
   "source": [
    "min(test_error_01)"
   ]
  },
  {
   "cell_type": "code",
   "execution_count": 72,
   "metadata": {},
   "outputs": [
    {
     "data": {
      "image/png": "[encoded data removed]",
      "text/plain": [
       "<Figure size 432x288 with 2 Axes>"
      ]
     },
     "metadata": {},
     "output_type": "display_data"
    }
   ],
   "source": [
    "from mpl_toolkits.mplot3d import Axes3D\n",
    "import matplotlib.pyplot as plt\n",
    "from matplotlib import cm\n",
    "from matplotlib.ticker import LinearLocator, FormatStrFormatter\n",
    "import numpy as np\n",
    "\n",
    "\n",
    "fig = plt.figure()\n",
    "ax = fig.gca(projection='3d')\n",
    "\n",
    "\n",
    "\n",
    "# Plot the surface.\n",
    "surf = ax.plot_surface(x, y, z, cmap=cm.coolwarm,\n",
    "                       linewidth=0, antialiased=False)\n",
    "\n",
    "# Customize the z axis.\n",
    "#ax.set_zlim(-1.01, 1.01)\n",
    "#ax.zaxis.set_major_locator(LinearLocator(10))\n",
    "ax.zaxis.set_major_formatter(FormatStrFormatter('%.02f'))\n",
    "\n",
    "# Add a color bar which maps values to colors.\n",
    "fig.colorbar(surf, shrink=0.5, aspect=5)\n",
    "\n",
    "plt.show()"
   ]
  },
  {
   "cell_type": "markdown",
   "metadata": {},
   "source": [
    "# 1 and 7 "
   ]
  },
  {
   "cell_type": "code",
   "execution_count": 73,
   "metadata": {},
   "outputs": [],
   "source": [
    "pca95 = PCA(0.95)\n",
    "pca95.fit(x_train17)\n",
    "x_train_transformed_95 = pca95.transform(x_train17)\n",
    "x_test_transformed_95=pca95.transform(x_test17)"
   ]
  },
  {
   "cell_type": "code",
   "execution_count": 74,
   "metadata": {},
   "outputs": [
    {
     "name": "stdout",
     "output_type": "stream",
     "text": [
      "[0.014598540145985401, 0.012165450121654502, 0.019464720194647202, 0.043795620437956206, 0.0851581508515815, 0.06082725060827251, 0.35766423357664234, 0.35766423357664234, 0.35766423357664234, 0.35766423357664234, 0.35766423357664234, 0.014598540145985401, 0.014598540145985401, 0.021897810218978103, 0.038929440389294405, 0.072992700729927, 0.13138686131386862, 0.35766423357664234, 0.35766423357664234, 0.35766423357664234, 0.35766423357664234, 0.35766423357664234, 0.014598540145985401, 0.014598540145985401, 0.0170316301703163, 0.0340632603406326, 0.058394160583941604, 0.0948905109489051, 0.12652068126520682, 0.35766423357664234, 0.35766423357664234, 0.35766423357664234, 0.35766423357664234, 0.014598540145985401, 0.012165450121654502, 0.014598540145985401, 0.031630170316301706, 0.051094890510948905, 0.08029197080291971, 0.15571776155717762, 0.35766423357664234, 0.35766423357664234, 0.35766423357664234, 0.35766423357664234, 0.009732360097323601, 0.009732360097323601, 0.012165450121654502, 0.024330900243309004, 0.0413625304136253, 0.07542579075425791, 0.10462287104622871, 0.1654501216545012, 0.35766423357664234, 0.35766423357664234, 0.35766423357664234, 0.009732360097323601, 0.012165450121654502, 0.012165450121654502, 0.014598540145985401, 0.0340632603406326, 0.058394160583941604, 0.09245742092457421, 0.1654501216545012, 0.35766423357664234, 0.35766423357664234, 0.35766423357664234, 0.012165450121654502, 0.012165450121654502, 0.012165450121654502, 0.009732360097323601, 0.0340632603406326, 0.04866180048661801, 0.07542579075425791, 0.11192214111922141, 0.15085158150851583, 0.35766423357664234, 0.35766423357664234, 0.012165450121654502, 0.009732360097323601, 0.009732360097323601, 0.009732360097323601, 0.0340632603406326, 0.04866180048661801, 0.07542579075425791, 0.1070559610705596, 0.1435523114355231, 0.35766423357664234, 0.35766423357664234, 0.009732360097323601, 0.009732360097323601, 0.009732360097323601, 0.0072992700729927005, 0.0340632603406326, 0.04866180048661801, 0.07542579075425791, 0.1070559610705596, 0.1435523114355231, 0.35766423357664234, 0.35766423357664234, 0.009732360097323601, 0.009732360097323601, 0.009732360097323601, 0.0072992700729927005, 0.0340632603406326, 0.04866180048661801, 0.07542579075425791, 0.1070559610705596, 0.1435523114355231, 0.35766423357664234, 0.35766423357664234, 0.009732360097323601, 0.009732360097323601, 0.009732360097323601, 0.0072992700729927005, 0.0340632603406326, 0.04866180048661801, 0.07542579075425791, 0.1070559610705596, 0.1435523114355231, 0.35766423357664234, 0.35766423357664234]\n"
     ]
    }
   ],
   "source": [
    "test_error_17=[] \n",
    "for c in ([2**i for i in range(-6,5)]):\n",
    "    for g in ([2**j for j in range(-8,3)]):\n",
    "        SVM=svm.SVC(kernel='rbf',C=c,gamma=g)\n",
    "        SVM.fit(x_train_transformed_95,y_train17)\n",
    "        x_test_pred=SVM.predict(x_test_transformed_95)\n",
    "        error_twogaussian_svm_p=sum(x_test_pred!=y_test17)/len(y_test17)\n",
    "        test_error_17.append(error_twogaussian_svm_p)\n",
    "print(test_error_17)"
   ]
  },
  {
   "cell_type": "code",
   "execution_count": 75,
   "metadata": {},
   "outputs": [],
   "source": [
    "z=np.array(test_error_17)\n",
    "z=np.reshape(z,(11,11))"
   ]
  },
  {
   "cell_type": "code",
   "execution_count": 76,
   "metadata": {},
   "outputs": [
    {
     "data": {
      "text/plain": [
       "0.0072992700729927005"
      ]
     },
     "execution_count": 76,
     "metadata": {},
     "output_type": "execute_result"
    }
   ],
   "source": [
    "np.min(z)"
   ]
  },
  {
   "cell_type": "code",
   "execution_count": 77,
   "metadata": {},
   "outputs": [
    {
     "data": {
      "image/png": "[encoded data removed]",
      "text/plain": [
       "<Figure size 432x288 with 2 Axes>"
      ]
     },
     "metadata": {},
     "output_type": "display_data"
    }
   ],
   "source": [
    "import seaborn as sns\n",
    "\n",
    "sns.set()\n",
    "#uniform_data = np.random.rand(10, 12)\n",
    "ax = sns.heatmap(z, linewidth=0.5)\n",
    "ax.set_xticklabels(['-8','-7','-6','-5','-4','-3','-2','-1','0','1','2'])\n",
    "#ax.set_yticklabels(['-6','-5','-4','-3','-2','-1','0','1','2','3','4'])\n",
    "ax.set_yticklabels(['4','3','2','1','0','-1','-2','-3','-4','-5','-6'])\n",
    "ax.set_xlabel('Gamma')\n",
    "ax.set_ylabel('C')\n",
    "ax.set_title('Error Rate Heatmap for 1 and 7')\n",
    "plt.show()"
   ]
  },
  {
   "cell_type": "code",
   "execution_count": 78,
   "metadata": {},
   "outputs": [],
   "source": [
    "df=pd.DataFrame(z,columns=['-8','-7','-6','-5','-4','-3','-2','-1','0','1','2'],index=['-6','-5','-4','-3','-2','-1','0','1','2','3','4'])"
   ]
  },
  {
   "cell_type": "code",
   "execution_count": 79,
   "metadata": {},
   "outputs": [],
   "source": [
    "df=df*100"
   ]
  },
  {
   "cell_type": "code",
   "execution_count": 80,
   "metadata": {},
   "outputs": [],
   "source": [
    "pd.options.display.float_format = \"{0:.4f}%\".format"
   ]
  },
  {
   "cell_type": "code",
   "execution_count": 81,
   "metadata": {},
   "outputs": [
    {
     "data": {
      "text/html": [
       "<div>\n",
       "<style scoped>\n",
       "    .dataframe tbody tr th:only-of-type {\n",
       "        vertical-align: middle;\n",
       "    }\n",
       "\n",
       "    .dataframe tbody tr th {\n",
       "        vertical-align: top;\n",
       "    }\n",
       "\n",
       "    .dataframe thead th {\n",
       "        text-align: right;\n",
       "    }\n",
       "</style>\n",
       "<table border=\"1\" class=\"dataframe\">\n",
       "  <thead>\n",
       "    <tr style=\"text-align: right;\">\n",
       "      <th></th>\n",
       "      <th>-8</th>\n",
       "      <th>-7</th>\n",
       "      <th>-6</th>\n",
       "      <th>-5</th>\n",
       "      <th>-4</th>\n",
       "      <th>-3</th>\n",
       "      <th>-2</th>\n",
       "      <th>-1</th>\n",
       "      <th>0</th>\n",
       "      <th>1</th>\n",
       "      <th>2</th>\n",
       "    </tr>\n",
       "  </thead>\n",
       "  <tbody>\n",
       "    <tr>\n",
       "      <th>-6</th>\n",
       "      <td>1.4599%</td>\n",
       "      <td>1.2165%</td>\n",
       "      <td>1.9465%</td>\n",
       "      <td>4.3796%</td>\n",
       "      <td>8.5158%</td>\n",
       "      <td>6.0827%</td>\n",
       "      <td>35.7664%</td>\n",
       "      <td>35.7664%</td>\n",
       "      <td>35.7664%</td>\n",
       "      <td>35.7664%</td>\n",
       "      <td>35.7664%</td>\n",
       "    </tr>\n",
       "    <tr>\n",
       "      <th>-5</th>\n",
       "      <td>1.4599%</td>\n",
       "      <td>1.4599%</td>\n",
       "      <td>2.1898%</td>\n",
       "      <td>3.8929%</td>\n",
       "      <td>7.2993%</td>\n",
       "      <td>13.1387%</td>\n",
       "      <td>35.7664%</td>\n",
       "      <td>35.7664%</td>\n",
       "      <td>35.7664%</td>\n",
       "      <td>35.7664%</td>\n",
       "      <td>35.7664%</td>\n",
       "    </tr>\n",
       "    <tr>\n",
       "      <th>-4</th>\n",
       "      <td>1.4599%</td>\n",
       "      <td>1.4599%</td>\n",
       "      <td>1.7032%</td>\n",
       "      <td>3.4063%</td>\n",
       "      <td>5.8394%</td>\n",
       "      <td>9.4891%</td>\n",
       "      <td>12.6521%</td>\n",
       "      <td>35.7664%</td>\n",
       "      <td>35.7664%</td>\n",
       "      <td>35.7664%</td>\n",
       "      <td>35.7664%</td>\n",
       "    </tr>\n",
       "    <tr>\n",
       "      <th>-3</th>\n",
       "      <td>1.4599%</td>\n",
       "      <td>1.2165%</td>\n",
       "      <td>1.4599%</td>\n",
       "      <td>3.1630%</td>\n",
       "      <td>5.1095%</td>\n",
       "      <td>8.0292%</td>\n",
       "      <td>15.5718%</td>\n",
       "      <td>35.7664%</td>\n",
       "      <td>35.7664%</td>\n",
       "      <td>35.7664%</td>\n",
       "      <td>35.7664%</td>\n",
       "    </tr>\n",
       "    <tr>\n",
       "      <th>-2</th>\n",
       "      <td>0.9732%</td>\n",
       "      <td>0.9732%</td>\n",
       "      <td>1.2165%</td>\n",
       "      <td>2.4331%</td>\n",
       "      <td>4.1363%</td>\n",
       "      <td>7.5426%</td>\n",
       "      <td>10.4623%</td>\n",
       "      <td>16.5450%</td>\n",
       "      <td>35.7664%</td>\n",
       "      <td>35.7664%</td>\n",
       "      <td>35.7664%</td>\n",
       "    </tr>\n",
       "    <tr>\n",
       "      <th>-1</th>\n",
       "      <td>0.9732%</td>\n",
       "      <td>1.2165%</td>\n",
       "      <td>1.2165%</td>\n",
       "      <td>1.4599%</td>\n",
       "      <td>3.4063%</td>\n",
       "      <td>5.8394%</td>\n",
       "      <td>9.2457%</td>\n",
       "      <td>16.5450%</td>\n",
       "      <td>35.7664%</td>\n",
       "      <td>35.7664%</td>\n",
       "      <td>35.7664%</td>\n",
       "    </tr>\n",
       "    <tr>\n",
       "      <th>0</th>\n",
       "      <td>1.2165%</td>\n",
       "      <td>1.2165%</td>\n",
       "      <td>1.2165%</td>\n",
       "      <td>0.9732%</td>\n",
       "      <td>3.4063%</td>\n",
       "      <td>4.8662%</td>\n",
       "      <td>7.5426%</td>\n",
       "      <td>11.1922%</td>\n",
       "      <td>15.0852%</td>\n",
       "      <td>35.7664%</td>\n",
       "      <td>35.7664%</td>\n",
       "    </tr>\n",
       "    <tr>\n",
       "      <th>1</th>\n",
       "      <td>1.2165%</td>\n",
       "      <td>0.9732%</td>\n",
       "      <td>0.9732%</td>\n",
       "      <td>0.9732%</td>\n",
       "      <td>3.4063%</td>\n",
       "      <td>4.8662%</td>\n",
       "      <td>7.5426%</td>\n",
       "      <td>10.7056%</td>\n",
       "      <td>14.3552%</td>\n",
       "      <td>35.7664%</td>\n",
       "      <td>35.7664%</td>\n",
       "    </tr>\n",
       "    <tr>\n",
       "      <th>2</th>\n",
       "      <td>0.9732%</td>\n",
       "      <td>0.9732%</td>\n",
       "      <td>0.9732%</td>\n",
       "      <td>0.7299%</td>\n",
       "      <td>3.4063%</td>\n",
       "      <td>4.8662%</td>\n",
       "      <td>7.5426%</td>\n",
       "      <td>10.7056%</td>\n",
       "      <td>14.3552%</td>\n",
       "      <td>35.7664%</td>\n",
       "      <td>35.7664%</td>\n",
       "    </tr>\n",
       "    <tr>\n",
       "      <th>3</th>\n",
       "      <td>0.9732%</td>\n",
       "      <td>0.9732%</td>\n",
       "      <td>0.9732%</td>\n",
       "      <td>0.7299%</td>\n",
       "      <td>3.4063%</td>\n",
       "      <td>4.8662%</td>\n",
       "      <td>7.5426%</td>\n",
       "      <td>10.7056%</td>\n",
       "      <td>14.3552%</td>\n",
       "      <td>35.7664%</td>\n",
       "      <td>35.7664%</td>\n",
       "    </tr>\n",
       "    <tr>\n",
       "      <th>4</th>\n",
       "      <td>0.9732%</td>\n",
       "      <td>0.9732%</td>\n",
       "      <td>0.9732%</td>\n",
       "      <td>0.7299%</td>\n",
       "      <td>3.4063%</td>\n",
       "      <td>4.8662%</td>\n",
       "      <td>7.5426%</td>\n",
       "      <td>10.7056%</td>\n",
       "      <td>14.3552%</td>\n",
       "      <td>35.7664%</td>\n",
       "      <td>35.7664%</td>\n",
       "    </tr>\n",
       "  </tbody>\n",
       "</table>\n",
       "</div>"
      ],
      "text/plain": [
       "        -8      -7      -6      -5      -4       -3       -2       -1  \\\n",
       "-6 1.4599% 1.2165% 1.9465% 4.3796% 8.5158%  6.0827% 35.7664% 35.7664%   \n",
       "-5 1.4599% 1.4599% 2.1898% 3.8929% 7.2993% 13.1387% 35.7664% 35.7664%   \n",
       "-4 1.4599% 1.4599% 1.7032% 3.4063% 5.8394%  9.4891% 12.6521% 35.7664%   \n",
       "-3 1.4599% 1.2165% 1.4599% 3.1630% 5.1095%  8.0292% 15.5718% 35.7664%   \n",
       "-2 0.9732% 0.9732% 1.2165% 2.4331% 4.1363%  7.5426% 10.4623% 16.5450%   \n",
       "-1 0.9732% 1.2165% 1.2165% 1.4599% 3.4063%  5.8394%  9.2457% 16.5450%   \n",
       "0  1.2165% 1.2165% 1.2165% 0.9732% 3.4063%  4.8662%  7.5426% 11.1922%   \n",
       "1  1.2165% 0.9732% 0.9732% 0.9732% 3.4063%  4.8662%  7.5426% 10.7056%   \n",
       "2  0.9732% 0.9732% 0.9732% 0.7299% 3.4063%  4.8662%  7.5426% 10.7056%   \n",
       "3  0.9732% 0.9732% 0.9732% 0.7299% 3.4063%  4.8662%  7.5426% 10.7056%   \n",
       "4  0.9732% 0.9732% 0.9732% 0.7299% 3.4063%  4.8662%  7.5426% 10.7056%   \n",
       "\n",
       "          0        1        2  \n",
       "-6 35.7664% 35.7664% 35.7664%  \n",
       "-5 35.7664% 35.7664% 35.7664%  \n",
       "-4 35.7664% 35.7664% 35.7664%  \n",
       "-3 35.7664% 35.7664% 35.7664%  \n",
       "-2 35.7664% 35.7664% 35.7664%  \n",
       "-1 35.7664% 35.7664% 35.7664%  \n",
       "0  15.0852% 35.7664% 35.7664%  \n",
       "1  14.3552% 35.7664% 35.7664%  \n",
       "2  14.3552% 35.7664% 35.7664%  \n",
       "3  14.3552% 35.7664% 35.7664%  \n",
       "4  14.3552% 35.7664% 35.7664%  "
      ]
     },
     "execution_count": 81,
     "metadata": {},
     "output_type": "execute_result"
    }
   ],
   "source": [
    "df"
   ]
  },
  {
   "cell_type": "markdown",
   "metadata": {},
   "source": [
    "# 4 and 9"
   ]
  },
  {
   "cell_type": "code",
   "execution_count": 82,
   "metadata": {},
   "outputs": [],
   "source": [
    "pca95 = PCA(0.95)\n",
    "pca95.fit(x_train49)\n",
    "x_train_transformed_95 = pca95.transform(x_train49)\n",
    "x_test_transformed_95=pca95.transform(x_test49)"
   ]
  },
  {
   "cell_type": "code",
   "execution_count": 83,
   "metadata": {},
   "outputs": [
    {
     "name": "stdout",
     "output_type": "stream",
     "text": [
      "[0.10610079575596817, 0.09018567639257294, 0.14058355437665782, 0.40848806366047746, 0.46949602122015915, 0.46949602122015915, 0.46949602122015915, 0.46949602122015915, 0.46949602122015915, 0.46949602122015915, 0.46949602122015915, 0.05570291777188329, 0.05570291777188329, 0.08222811671087533, 0.19363395225464192, 0.46949602122015915, 0.46949602122015915, 0.46949602122015915, 0.46949602122015915, 0.46949602122015915, 0.46949602122015915, 0.46949602122015915, 0.03183023872679045, 0.03713527851458886, 0.050397877984084884, 0.1220159151193634, 0.40583554376657827, 0.46949602122015915, 0.46949602122015915, 0.46949602122015915, 0.46949602122015915, 0.46949602122015915, 0.46949602122015915, 0.029177718832891247, 0.026525198938992044, 0.03183023872679045, 0.07957559681697612, 0.2572944297082228, 0.46949602122015915, 0.46949602122015915, 0.46949602122015915, 0.46949602122015915, 0.46949602122015915, 0.46949602122015915, 0.026525198938992044, 0.026525198938992044, 0.023872679045092837, 0.050397877984084884, 0.1856763925729443, 0.4482758620689655, 0.46949602122015915, 0.46949602122015915, 0.46949602122015915, 0.46949602122015915, 0.46949602122015915, 0.026525198938992044, 0.026525198938992044, 0.026525198938992044, 0.03978779840848806, 0.11671087533156499, 0.32891246684350134, 0.46949602122015915, 0.46949602122015915, 0.46949602122015915, 0.46949602122015915, 0.46949602122015915, 0.026525198938992044, 0.026525198938992044, 0.023872679045092837, 0.029177718832891247, 0.08488063660477453, 0.17771883289124668, 0.3050397877984085, 0.4376657824933687, 0.46949602122015915, 0.46949602122015915, 0.46949602122015915, 0.029177718832891247, 0.021220159151193633, 0.026525198938992044, 0.029177718832891247, 0.07161803713527852, 0.16976127320954906, 0.28116710875331563, 0.4350132625994695, 0.46949602122015915, 0.46949602122015915, 0.46949602122015915, 0.026525198938992044, 0.023872679045092837, 0.023872679045092837, 0.029177718832891247, 0.07161803713527852, 0.16976127320954906, 0.28116710875331563, 0.4350132625994695, 0.46949602122015915, 0.46949602122015915, 0.46949602122015915, 0.026525198938992044, 0.023872679045092837, 0.023872679045092837, 0.029177718832891247, 0.07161803713527852, 0.16976127320954906, 0.28116710875331563, 0.4350132625994695, 0.46949602122015915, 0.46949602122015915, 0.46949602122015915, 0.029177718832891247, 0.023872679045092837, 0.023872679045092837, 0.029177718832891247, 0.07161803713527852, 0.16976127320954906, 0.28116710875331563, 0.4350132625994695, 0.46949602122015915, 0.46949602122015915, 0.46949602122015915]\n"
     ]
    }
   ],
   "source": [
    "test_error_49=[] \n",
    "for c in ([2**i for i in range(-6,5)]):\n",
    "    for g in ([2**j for j in range(-8,3)]):\n",
    "        SVM=svm.SVC(kernel='rbf',C=c,gamma=g)\n",
    "        SVM.fit(x_train_transformed_95,y_train49)\n",
    "        x_test_pred=SVM.predict(x_test_transformed_95)\n",
    "        error_twogaussian_svm_p=sum(x_test_pred!=y_test49)/len(y_test49)\n",
    "        test_error_49.append(error_twogaussian_svm_p)\n",
    "print(test_error_49)"
   ]
  },
  {
   "cell_type": "code",
   "execution_count": 84,
   "metadata": {},
   "outputs": [],
   "source": [
    "z=np.array(test_error_49)\n",
    "z=np.reshape(z,(11,11))"
   ]
  },
  {
   "cell_type": "code",
   "execution_count": 85,
   "metadata": {},
   "outputs": [
    {
     "data": {
      "text/plain": [
       "0.021220159151193633"
      ]
     },
     "execution_count": 85,
     "metadata": {},
     "output_type": "execute_result"
    }
   ],
   "source": [
    "np.min(z)"
   ]
  },
  {
   "cell_type": "code",
   "execution_count": 86,
   "metadata": {},
   "outputs": [
    {
     "data": {
      "image/png": "[encoded data removed]",
      "text/plain": [
       "<Figure size 432x288 with 2 Axes>"
      ]
     },
     "metadata": {},
     "output_type": "display_data"
    }
   ],
   "source": [
    "import seaborn as sns\n",
    "\n",
    "sns.set()\n",
    "#uniform_data = np.random.rand(10, 12)\n",
    "ax = sns.heatmap(z, linewidth=0.5)\n",
    "ax.set_xticklabels(['-8','-7','-6','-5','-4','-3','-2','-1','0','1','2'])\n",
    "#ax.set_yticklabels(['-6','-5','-4','-3','-2','-1','0','1','2','3','4'])\n",
    "ax.set_yticklabels(['4','3','2','1','0','-1','-2','-3','-4','-5','-6'])\n",
    "ax.set_xlabel('Gamma')\n",
    "ax.set_ylabel('C')\n",
    "ax.set_title('Error Rate Heatmap for 4 and 9')\n",
    "plt.show()"
   ]
  },
  {
   "cell_type": "code",
   "execution_count": 87,
   "metadata": {},
   "outputs": [],
   "source": [
    "df=pd.DataFrame(z,columns=['-8','-7','-6','-5','-4','-3','-2','-1','0','1','2'],index=['-6','-5','-4','-3','-2','-1','0','1','2','3','4'])"
   ]
  },
  {
   "cell_type": "code",
   "execution_count": 88,
   "metadata": {},
   "outputs": [],
   "source": [
    "df=df*100"
   ]
  },
  {
   "cell_type": "code",
   "execution_count": 89,
   "metadata": {},
   "outputs": [],
   "source": [
    "pd.options.display.float_format = \"{0:.4f}%\".format"
   ]
  },
  {
   "cell_type": "code",
   "execution_count": 90,
   "metadata": {},
   "outputs": [
    {
     "data": {
      "text/html": [
       "<div>\n",
       "<style scoped>\n",
       "    .dataframe tbody tr th:only-of-type {\n",
       "        vertical-align: middle;\n",
       "    }\n",
       "\n",
       "    .dataframe tbody tr th {\n",
       "        vertical-align: top;\n",
       "    }\n",
       "\n",
       "    .dataframe thead th {\n",
       "        text-align: right;\n",
       "    }\n",
       "</style>\n",
       "<table border=\"1\" class=\"dataframe\">\n",
       "  <thead>\n",
       "    <tr style=\"text-align: right;\">\n",
       "      <th></th>\n",
       "      <th>-8</th>\n",
       "      <th>-7</th>\n",
       "      <th>-6</th>\n",
       "      <th>-5</th>\n",
       "      <th>-4</th>\n",
       "      <th>-3</th>\n",
       "      <th>-2</th>\n",
       "      <th>-1</th>\n",
       "      <th>0</th>\n",
       "      <th>1</th>\n",
       "      <th>2</th>\n",
       "    </tr>\n",
       "  </thead>\n",
       "  <tbody>\n",
       "    <tr>\n",
       "      <th>-6</th>\n",
       "      <td>10.6101%</td>\n",
       "      <td>9.0186%</td>\n",
       "      <td>14.0584%</td>\n",
       "      <td>40.8488%</td>\n",
       "      <td>46.9496%</td>\n",
       "      <td>46.9496%</td>\n",
       "      <td>46.9496%</td>\n",
       "      <td>46.9496%</td>\n",
       "      <td>46.9496%</td>\n",
       "      <td>46.9496%</td>\n",
       "      <td>46.9496%</td>\n",
       "    </tr>\n",
       "    <tr>\n",
       "      <th>-5</th>\n",
       "      <td>5.5703%</td>\n",
       "      <td>5.5703%</td>\n",
       "      <td>8.2228%</td>\n",
       "      <td>19.3634%</td>\n",
       "      <td>46.9496%</td>\n",
       "      <td>46.9496%</td>\n",
       "      <td>46.9496%</td>\n",
       "      <td>46.9496%</td>\n",
       "      <td>46.9496%</td>\n",
       "      <td>46.9496%</td>\n",
       "      <td>46.9496%</td>\n",
       "    </tr>\n",
       "    <tr>\n",
       "      <th>-4</th>\n",
       "      <td>3.1830%</td>\n",
       "      <td>3.7135%</td>\n",
       "      <td>5.0398%</td>\n",
       "      <td>12.2016%</td>\n",
       "      <td>40.5836%</td>\n",
       "      <td>46.9496%</td>\n",
       "      <td>46.9496%</td>\n",
       "      <td>46.9496%</td>\n",
       "      <td>46.9496%</td>\n",
       "      <td>46.9496%</td>\n",
       "      <td>46.9496%</td>\n",
       "    </tr>\n",
       "    <tr>\n",
       "      <th>-3</th>\n",
       "      <td>2.9178%</td>\n",
       "      <td>2.6525%</td>\n",
       "      <td>3.1830%</td>\n",
       "      <td>7.9576%</td>\n",
       "      <td>25.7294%</td>\n",
       "      <td>46.9496%</td>\n",
       "      <td>46.9496%</td>\n",
       "      <td>46.9496%</td>\n",
       "      <td>46.9496%</td>\n",
       "      <td>46.9496%</td>\n",
       "      <td>46.9496%</td>\n",
       "    </tr>\n",
       "    <tr>\n",
       "      <th>-2</th>\n",
       "      <td>2.6525%</td>\n",
       "      <td>2.6525%</td>\n",
       "      <td>2.3873%</td>\n",
       "      <td>5.0398%</td>\n",
       "      <td>18.5676%</td>\n",
       "      <td>44.8276%</td>\n",
       "      <td>46.9496%</td>\n",
       "      <td>46.9496%</td>\n",
       "      <td>46.9496%</td>\n",
       "      <td>46.9496%</td>\n",
       "      <td>46.9496%</td>\n",
       "    </tr>\n",
       "    <tr>\n",
       "      <th>-1</th>\n",
       "      <td>2.6525%</td>\n",
       "      <td>2.6525%</td>\n",
       "      <td>2.6525%</td>\n",
       "      <td>3.9788%</td>\n",
       "      <td>11.6711%</td>\n",
       "      <td>32.8912%</td>\n",
       "      <td>46.9496%</td>\n",
       "      <td>46.9496%</td>\n",
       "      <td>46.9496%</td>\n",
       "      <td>46.9496%</td>\n",
       "      <td>46.9496%</td>\n",
       "    </tr>\n",
       "    <tr>\n",
       "      <th>0</th>\n",
       "      <td>2.6525%</td>\n",
       "      <td>2.6525%</td>\n",
       "      <td>2.3873%</td>\n",
       "      <td>2.9178%</td>\n",
       "      <td>8.4881%</td>\n",
       "      <td>17.7719%</td>\n",
       "      <td>30.5040%</td>\n",
       "      <td>43.7666%</td>\n",
       "      <td>46.9496%</td>\n",
       "      <td>46.9496%</td>\n",
       "      <td>46.9496%</td>\n",
       "    </tr>\n",
       "    <tr>\n",
       "      <th>1</th>\n",
       "      <td>2.9178%</td>\n",
       "      <td>2.1220%</td>\n",
       "      <td>2.6525%</td>\n",
       "      <td>2.9178%</td>\n",
       "      <td>7.1618%</td>\n",
       "      <td>16.9761%</td>\n",
       "      <td>28.1167%</td>\n",
       "      <td>43.5013%</td>\n",
       "      <td>46.9496%</td>\n",
       "      <td>46.9496%</td>\n",
       "      <td>46.9496%</td>\n",
       "    </tr>\n",
       "    <tr>\n",
       "      <th>2</th>\n",
       "      <td>2.6525%</td>\n",
       "      <td>2.3873%</td>\n",
       "      <td>2.3873%</td>\n",
       "      <td>2.9178%</td>\n",
       "      <td>7.1618%</td>\n",
       "      <td>16.9761%</td>\n",
       "      <td>28.1167%</td>\n",
       "      <td>43.5013%</td>\n",
       "      <td>46.9496%</td>\n",
       "      <td>46.9496%</td>\n",
       "      <td>46.9496%</td>\n",
       "    </tr>\n",
       "    <tr>\n",
       "      <th>3</th>\n",
       "      <td>2.6525%</td>\n",
       "      <td>2.3873%</td>\n",
       "      <td>2.3873%</td>\n",
       "      <td>2.9178%</td>\n",
       "      <td>7.1618%</td>\n",
       "      <td>16.9761%</td>\n",
       "      <td>28.1167%</td>\n",
       "      <td>43.5013%</td>\n",
       "      <td>46.9496%</td>\n",
       "      <td>46.9496%</td>\n",
       "      <td>46.9496%</td>\n",
       "    </tr>\n",
       "    <tr>\n",
       "      <th>4</th>\n",
       "      <td>2.9178%</td>\n",
       "      <td>2.3873%</td>\n",
       "      <td>2.3873%</td>\n",
       "      <td>2.9178%</td>\n",
       "      <td>7.1618%</td>\n",
       "      <td>16.9761%</td>\n",
       "      <td>28.1167%</td>\n",
       "      <td>43.5013%</td>\n",
       "      <td>46.9496%</td>\n",
       "      <td>46.9496%</td>\n",
       "      <td>46.9496%</td>\n",
       "    </tr>\n",
       "  </tbody>\n",
       "</table>\n",
       "</div>"
      ],
      "text/plain": [
       "         -8      -7       -6       -5       -4       -3       -2       -1  \\\n",
       "-6 10.6101% 9.0186% 14.0584% 40.8488% 46.9496% 46.9496% 46.9496% 46.9496%   \n",
       "-5  5.5703% 5.5703%  8.2228% 19.3634% 46.9496% 46.9496% 46.9496% 46.9496%   \n",
       "-4  3.1830% 3.7135%  5.0398% 12.2016% 40.5836% 46.9496% 46.9496% 46.9496%   \n",
       "-3  2.9178% 2.6525%  3.1830%  7.9576% 25.7294% 46.9496% 46.9496% 46.9496%   \n",
       "-2  2.6525% 2.6525%  2.3873%  5.0398% 18.5676% 44.8276% 46.9496% 46.9496%   \n",
       "-1  2.6525% 2.6525%  2.6525%  3.9788% 11.6711% 32.8912% 46.9496% 46.9496%   \n",
       "0   2.6525% 2.6525%  2.3873%  2.9178%  8.4881% 17.7719% 30.5040% 43.7666%   \n",
       "1   2.9178% 2.1220%  2.6525%  2.9178%  7.1618% 16.9761% 28.1167% 43.5013%   \n",
       "2   2.6525% 2.3873%  2.3873%  2.9178%  7.1618% 16.9761% 28.1167% 43.5013%   \n",
       "3   2.6525% 2.3873%  2.3873%  2.9178%  7.1618% 16.9761% 28.1167% 43.5013%   \n",
       "4   2.9178% 2.3873%  2.3873%  2.9178%  7.1618% 16.9761% 28.1167% 43.5013%   \n",
       "\n",
       "          0        1        2  \n",
       "-6 46.9496% 46.9496% 46.9496%  \n",
       "-5 46.9496% 46.9496% 46.9496%  \n",
       "-4 46.9496% 46.9496% 46.9496%  \n",
       "-3 46.9496% 46.9496% 46.9496%  \n",
       "-2 46.9496% 46.9496% 46.9496%  \n",
       "-1 46.9496% 46.9496% 46.9496%  \n",
       "0  46.9496% 46.9496% 46.9496%  \n",
       "1  46.9496% 46.9496% 46.9496%  \n",
       "2  46.9496% 46.9496% 46.9496%  \n",
       "3  46.9496% 46.9496% 46.9496%  \n",
       "4  46.9496% 46.9496% 46.9496%  "
      ]
     },
     "execution_count": 90,
     "metadata": {},
     "output_type": "execute_result"
    }
   ],
   "source": [
    "df"
   ]
  },
  {
   "cell_type": "code",
   "execution_count": 91,
   "metadata": {},
   "outputs": [
    {
     "data": {
      "text/plain": [
       "0.021220159151193633"
      ]
     },
     "execution_count": 91,
     "metadata": {},
     "output_type": "execute_result"
    }
   ],
   "source": [
    "np.min(z)"
   ]
  },
  {
   "cell_type": "code",
   "execution_count": null,
   "metadata": {},
   "outputs": [],
   "source": []
  }
 ],
 "metadata": {
  "kernelspec": {
   "display_name": "Python 3",
   "language": "python",
   "name": "python3"
  },
  "language_info": {
   "codemirror_mode": {
    "name": "ipython",
    "version": 3
   },
   "file_extension": ".py",
   "mimetype": "text/x-python",
   "name": "python",
   "nbconvert_exporter": "python",
   "pygments_lexer": "ipython3",
   "version": "3.6.5"
  }
 },
 "nbformat": 4,
 "nbformat_minor": 2
}
