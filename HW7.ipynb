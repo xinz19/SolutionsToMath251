{
 "cells": [
  {
   "cell_type": "markdown",
   "metadata": {},
   "source": [
    "# Problem1"
   ]
  },
  {
   "cell_type": "code",
   "execution_count": 1,
   "metadata": {},
   "outputs": [],
   "source": [
    "import numpy as np\n",
    "import matplotlib.pyplot as plt\n",
    "import pandas as pd\n",
    "import sklearn\n",
    "from sklearn.neighbors import KNeighborsClassifier\n",
    "from sklearn.model_selection import cross_val_score,LeaveOneOut,train_test_split\n",
    "from sklearn.metrics import accuracy_score, classification_report,confusion_matrix\n",
    "% matplotlib inline"
   ]
  },
  {
   "cell_type": "code",
   "execution_count": 2,
   "metadata": {},
   "outputs": [],
   "source": [
    "import scipy.io as sio \n",
    "from sklearn import svm\n",
    "from sklearn.multiclass import OneVsOneClassifier"
   ]
  },
  {
   "cell_type": "code",
   "execution_count": 3,
   "metadata": {},
   "outputs": [],
   "source": [
    "from sklearn.decomposition import PCA\n",
    "from sklearn.linear_model import LogisticRegression"
   ]
  },
  {
   "cell_type": "code",
   "execution_count": 4,
   "metadata": {},
   "outputs": [],
   "source": [
    "train = np.loadtxt('zip.train')\n",
    "test  = np.loadtxt('zip.test')"
   ]
  },
  {
   "cell_type": "code",
   "execution_count": 5,
   "metadata": {},
   "outputs": [],
   "source": [
    "y_train=train[:,0]\n",
    "x_train=train[:,1:]\n",
    "y_test=test[:,0]\n",
    "x_test=test[:,1:]"
   ]
  },
  {
   "cell_type": "code",
   "execution_count": 6,
   "metadata": {},
   "outputs": [],
   "source": [
    "pca95 = PCA(0.95)\n",
    "pca95.fit(x_train)\n",
    "x_train_transformed_95 = pca95.transform(x_train)\n",
    "x_test_transformed_95=pca95.transform(x_test)"
   ]
  },
  {
   "cell_type": "code",
   "execution_count": 7,
   "metadata": {},
   "outputs": [
    {
     "name": "stdout",
     "output_type": "stream",
     "text": [
      "[0.07174887892376682, 0.07424015944195317, 0.07922272047832586, 0.0787244643746886, 0.07922272047832586, 0.07922272047832586, 0.07972097658196313, 0.0817140009965122, 0.08071748878923767, 0.08071748878923767]\n"
     ]
    }
   ],
   "source": [
    "test_error_prob1=[] \n",
    "for c in ([2**i for i in range(-4,6)]):\n",
    "    SVM=OneVsOneClassifier(svm.SVC(kernel='linear',C=c))\n",
    "    SVM.fit(x_train_transformed_95,y_train)\n",
    "    x_test_pred=SVM.predict(x_test_transformed_95)\n",
    "    error_svm=sum(x_test_pred!=y_test)/len(y_test)\n",
    "    test_error_prob1.append(error_svm)\n",
    "print(test_error_prob1)"
   ]
  },
  {
   "cell_type": "code",
   "execution_count": 8,
   "metadata": {},
   "outputs": [
    {
     "name": "stdout",
     "output_type": "stream",
     "text": [
      "0.07075236671649228\n"
     ]
    }
   ],
   "source": [
    "\n",
    "lg=OneVsOneClassifier(LogisticRegression())\n",
    "lg.fit(x_train_transformed_95,y_train)\n",
    "x_test_pred=lg.predict(x_test_transformed_95)\n",
    "test_error_lg_prob1=sum(x_test_pred!=y_test)/len(y_test)\n",
    "print(test_error_lg_prob1)"
   ]
  },
  {
   "cell_type": "code",
   "execution_count": 9,
   "metadata": {},
   "outputs": [
    {
     "data": {
      "text/plain": [
       "10"
      ]
     },
     "execution_count": 9,
     "metadata": {},
     "output_type": "execute_result"
    }
   ],
   "source": [
    "len(range(-4,6))"
   ]
  },
  {
   "cell_type": "code",
   "execution_count": 10,
   "metadata": {},
   "outputs": [],
   "source": [
    "test_error_prob1_lg=np.repeat(test_error_lg_prob1,10)"
   ]
  },
  {
   "cell_type": "code",
   "execution_count": 11,
   "metadata": {},
   "outputs": [
    {
     "data": {
      "text/plain": [
       "<matplotlib.legend.Legend at 0x117b6d2e8>"
      ]
     },
     "execution_count": 11,
     "metadata": {},
     "output_type": "execute_result"
    },
    {
     "data": {
      "image/png": "[encoded data removed]",
      "text/plain": [
       "<Figure size 504x288 with 1 Axes>"
      ]
     },
     "metadata": {},
     "output_type": "display_data"
    }
   ],
   "source": [
    "from matplotlib.ticker import PercentFormatter\n",
    "\n",
    "fig = plt.figure(1, (7,4))\n",
    "ax = fig.add_subplot(1,1,1)\n",
    "\n",
    "test_error_prob1_g,=plt.plot(range(-4,6),test_error_prob1,color='blue',linestyle='dashed',marker='o',\n",
    "        markerfacecolor='blue',markersize=6)\n",
    "\n",
    "test_error_prob1_lg_g,=plt.plot(range(-4,6),test_error_prob1_lg,color='red',linestyle='dashed',marker='o',\n",
    "        markerfacecolor='red',markersize=6)\n",
    "\n",
    "ax.yaxis.set_major_formatter(PercentFormatter(1.0))\n",
    "plt.title('Test Error Rates and C')\n",
    "plt.xlabel('C: 2 to the power')\n",
    "plt.ylabel('Test Error')\n",
    "\n",
    "plt.legend([test_error_prob1_g,test_error_prob1_lg_g],[\"SVM\",\"Logstic Regression\"])"
   ]
  },
  {
   "cell_type": "code",
   "execution_count": 12,
   "metadata": {},
   "outputs": [
    {
     "data": {
      "text/plain": [
       "0.07075236671649228"
      ]
     },
     "execution_count": 12,
     "metadata": {},
     "output_type": "execute_result"
    }
   ],
   "source": [
    "test_error_prob1_lg[0]"
   ]
  },
  {
   "cell_type": "code",
   "execution_count": 13,
   "metadata": {},
   "outputs": [],
   "source": [
    "data={'Error':[test_error_prob1_lg[0],test_error_prob1[0]]}"
   ]
  },
  {
   "cell_type": "code",
   "execution_count": 14,
   "metadata": {},
   "outputs": [],
   "source": [
    "df=pd.DataFrame(data, index=['Logstic Regression','Min SVM Linear Kernel'], columns=['Error'])"
   ]
  },
  {
   "cell_type": "code",
   "execution_count": 15,
   "metadata": {},
   "outputs": [],
   "source": [
    "df['Error'] = pd.Series([\"{0:.2f}%\".format(val * 100) for val in df['Error']], index = df.index)"
   ]
  },
  {
   "cell_type": "code",
   "execution_count": 16,
   "metadata": {},
   "outputs": [
    {
     "data": {
      "text/html": [
       "<div>\n",
       "<style scoped>\n",
       "    .dataframe tbody tr th:only-of-type {\n",
       "        vertical-align: middle;\n",
       "    }\n",
       "\n",
       "    .dataframe tbody tr th {\n",
       "        vertical-align: top;\n",
       "    }\n",
       "\n",
       "    .dataframe thead th {\n",
       "        text-align: right;\n",
       "    }\n",
       "</style>\n",
       "<table border=\"1\" class=\"dataframe\">\n",
       "  <thead>\n",
       "    <tr style=\"text-align: right;\">\n",
       "      <th></th>\n",
       "      <th>Error</th>\n",
       "    </tr>\n",
       "  </thead>\n",
       "  <tbody>\n",
       "    <tr>\n",
       "      <th>Logstic Regression</th>\n",
       "      <td>7.08%</td>\n",
       "    </tr>\n",
       "    <tr>\n",
       "      <th>Min SVM Linear Kernel</th>\n",
       "      <td>7.17%</td>\n",
       "    </tr>\n",
       "  </tbody>\n",
       "</table>\n",
       "</div>"
      ],
      "text/plain": [
       "                       Error\n",
       "Logstic Regression     7.08%\n",
       "Min SVM Linear Kernel  7.17%"
      ]
     },
     "execution_count": 16,
     "metadata": {},
     "output_type": "execute_result"
    }
   ],
   "source": [
    "df"
   ]
  },
  {
   "cell_type": "markdown",
   "metadata": {},
   "source": [
    "# Problem 2"
   ]
  },
  {
   "cell_type": "code",
   "execution_count": 17,
   "metadata": {},
   "outputs": [
    {
     "name": "stdout",
     "output_type": "stream",
     "text": [
      "[0.043348281016442454, 0.043348281016442454, 0.043348281016442454, 0.043348281016442454, 0.043348281016442454, 0.043348281016442454, 0.043348281016442454, 0.043348281016442454, 0.043348281016442454, 0.043348281016442454]\n"
     ]
    }
   ],
   "source": [
    "test_error_poly=[] \n",
    "for c in ([2**i for i in range(-4,6)]):\n",
    "    SVM=OneVsOneClassifier(svm.SVC(kernel='poly',C=c,gamma=1,coef0=1,degree=3))\n",
    "    SVM.fit(x_train_transformed_95,y_train)\n",
    "    x_test_pred=SVM.predict(x_test_transformed_95)\n",
    "    error_svm=sum(x_test_pred!=y_test)/len(y_test)\n",
    "    test_error_poly.append(error_svm)\n",
    "print(test_error_poly)"
   ]
  },
  {
   "cell_type": "code",
   "execution_count": 18,
   "metadata": {},
   "outputs": [
    {
     "data": {
      "text/plain": [
       "Text(0,0.5,'Test Error')"
      ]
     },
     "execution_count": 18,
     "metadata": {},
     "output_type": "execute_result"
    },
    {
     "data": {
      "image/png": "[encoded data removed]",
      "text/plain": [
       "<Figure size 504x288 with 1 Axes>"
      ]
     },
     "metadata": {},
     "output_type": "display_data"
    }
   ],
   "source": [
    "from matplotlib.ticker import PercentFormatter\n",
    "\n",
    "fig = plt.figure(1, (7,4))\n",
    "ax = fig.add_subplot(1,1,1)\n",
    "\n",
    "plt.plot(range(-4,6),test_error_poly,color='blue',linestyle='dashed',marker='o',\n",
    "        markerfacecolor='blue',markersize=6)\n",
    "ax.yaxis.set_major_formatter(PercentFormatter(1.0))\n",
    "plt.title('Test Error Rates and C SVM Poly Kernel')\n",
    "plt.xlabel('C: 2 to the power')\n",
    "plt.ylabel('Test Error')"
   ]
  },
  {
   "cell_type": "markdown",
   "metadata": {},
   "source": [
    "# Problem 3"
   ]
  },
  {
   "cell_type": "code",
   "execution_count": 19,
   "metadata": {},
   "outputs": [],
   "source": [
    "from sklearn.multiclass import OneVsRestClassifier"
   ]
  },
  {
   "cell_type": "code",
   "execution_count": 20,
   "metadata": {},
   "outputs": [
    {
     "name": "stdout",
     "output_type": "stream",
     "text": [
      "[0.04185351270553064, 0.04185351270553064, 0.04185351270553064, 0.04185351270553064, 0.04185351270553064, 0.04185351270553064, 0.04185351270553064, 0.04185351270553064, 0.04185351270553064, 0.04185351270553064]\n"
     ]
    }
   ],
   "source": [
    "test_error_poly_ovr=[] \n",
    "for c in ([2**i for i in range(-4,6)]):\n",
    "    SVM=OneVsRestClassifier(svm.SVC(kernel='poly',C=c,gamma=1,coef0=1,degree=3))\n",
    "    SVM.fit(x_train_transformed_95,y_train)\n",
    "    x_test_pred=SVM.predict(x_test_transformed_95)\n",
    "    error_svm=sum(x_test_pred!=y_test)/len(y_test)\n",
    "    test_error_poly_ovr.append(error_svm)\n",
    "print(test_error_poly_ovr)"
   ]
  },
  {
   "cell_type": "code",
   "execution_count": 21,
   "metadata": {},
   "outputs": [
    {
     "data": {
      "text/plain": [
       "<matplotlib.legend.Legend at 0x115e93dd8>"
      ]
     },
     "execution_count": 21,
     "metadata": {},
     "output_type": "execute_result"
    },
    {
     "data": {
      "image/png": "[encoded data removed]",
      "text/plain": [
       "<Figure size 504x288 with 1 Axes>"
      ]
     },
     "metadata": {},
     "output_type": "display_data"
    }
   ],
   "source": [
    "from matplotlib.ticker import PercentFormatter\n",
    "\n",
    "fig = plt.figure(1, (7,4))\n",
    "ax = fig.add_subplot(1,1,1)\n",
    "\n",
    "\n",
    "ovo,=plt.plot(range(-4,6),test_error_poly,color='blue',linestyle='dashed',marker='o',\n",
    "        markerfacecolor='blue',markersize=6)\n",
    "ovr,=plt.plot(range(-4,6),test_error_poly_ovr,color='black',linestyle='dashed',marker='o',\n",
    "        markerfacecolor='black',markersize=6)\n",
    "\n",
    "\n",
    "ax.yaxis.set_major_formatter(PercentFormatter(1.0))\n",
    "plt.title('Test Error Rates and C SVM Poly Kernel')\n",
    "plt.xlabel('C: 2 to the power')\n",
    "plt.ylabel('Test Error')\n",
    "\n",
    "plt.legend([ovo,ovr],['OneVSOne','OneVSRest'])"
   ]
  },
  {
   "cell_type": "markdown",
   "metadata": {},
   "source": [
    "# Problem 4"
   ]
  },
  {
   "cell_type": "code",
   "execution_count": 22,
   "metadata": {},
   "outputs": [],
   "source": [
    "pca95 = PCA(0.95)\n",
    "pca95.fit(x_train)\n",
    "x_train_transformed_95 = pca95.transform(x_train)\n",
    "x_test_transformed_95=pca95.transform(x_test)"
   ]
  },
  {
   "cell_type": "code",
   "execution_count": 23,
   "metadata": {},
   "outputs": [
    {
     "name": "stdout",
     "output_type": "stream",
     "text": [
      "(100, 88) (100,)\n"
     ]
    }
   ],
   "source": [
    "from sklearn.utils import shuffle\n",
    "usps_X_train95_shuffle, usps_y_train_shuffle = shuffle(x_train_transformed_95, y_train, n_samples = 100, random_state = 42)\n",
    "print(usps_X_train95_shuffle.shape, usps_y_train_shuffle.shape)"
   ]
  },
  {
   "cell_type": "code",
   "execution_count": 24,
   "metadata": {},
   "outputs": [
    {
     "name": "stdout",
     "output_type": "stream",
     "text": [
      "There are 15 samples in class 0\n",
      "There are 11 samples in class 1\n",
      "There are 9 samples in class 2\n",
      "There are 10 samples in class 3\n",
      "There are 11 samples in class 4\n",
      "There are 11 samples in class 5\n",
      "There are 6 samples in class 6\n",
      "There are 13 samples in class 7\n",
      "There are 8 samples in class 8\n",
      "There are 6 samples in class 9\n"
     ]
    }
   ],
   "source": [
    "for i in range(10):\n",
    "    print(\"There are %d samples in class %s\" %(sum(usps_y_train_shuffle == i), i))"
   ]
  },
  {
   "cell_type": "code",
   "execution_count": 25,
   "metadata": {},
   "outputs": [
    {
     "data": {
      "text/plain": [
       "(100, 89)"
      ]
     },
     "execution_count": 25,
     "metadata": {},
     "output_type": "execute_result"
    }
   ],
   "source": [
    "usps_shuffle = np.column_stack((usps_X_train95_shuffle, usps_y_train_shuffle))\n",
    "usps_shuffle.shape"
   ]
  },
  {
   "cell_type": "code",
   "execution_count": 26,
   "metadata": {},
   "outputs": [],
   "source": [
    "from sklearn.neighbors import KDTree"
   ]
  },
  {
   "cell_type": "code",
   "execution_count": 27,
   "metadata": {},
   "outputs": [],
   "source": [
    "tree0 = KDTree(x_train_transformed_95[y_train == 0], leaf_size=2, metric = 'euclidean')\n",
    "tree1 = KDTree(x_train_transformed_95[y_train == 1], leaf_size=2, metric = 'euclidean')\n",
    "tree2 = KDTree(x_train_transformed_95[y_train == 2], leaf_size=2, metric = 'euclidean')\n",
    "tree3 = KDTree(x_train_transformed_95[y_train == 3], leaf_size=2, metric = 'euclidean')\n",
    "tree4 = KDTree(x_train_transformed_95[y_train == 4], leaf_size=2, metric = 'euclidean')\n",
    "tree5 = KDTree(x_train_transformed_95[y_train == 5], leaf_size=2, metric = 'euclidean')\n",
    "tree6 = KDTree(x_train_transformed_95[y_train == 6], leaf_size=2, metric = 'euclidean')\n",
    "tree7 = KDTree(x_train_transformed_95[y_train == 7], leaf_size=2, metric = 'euclidean')\n",
    "tree8 = KDTree(x_train_transformed_95[y_train == 8], leaf_size=2, metric = 'euclidean')\n",
    "tree9 = KDTree(x_train_transformed_95[y_train == 9], leaf_size=2, metric = 'euclidean')\n",
    "\n"
   ]
  },
  {
   "cell_type": "code",
   "execution_count": 28,
   "metadata": {},
   "outputs": [
    {
     "data": {
      "text/plain": [
       "((15, 7), (15, 7), (11, 7), (11, 7))"
      ]
     },
     "execution_count": 28,
     "metadata": {},
     "output_type": "execute_result"
    }
   ],
   "source": [
    "from sklearn.neighbors import KDTree\n",
    "\n",
    "dist0, ind0 = tree0.query(usps_X_train95_shuffle[usps_shuffle[:,88] == 0], k=7) \n",
    "dist1, ind1 = tree1.query(usps_X_train95_shuffle[usps_shuffle[:,88] == 1], k=7) \n",
    "dist2, ind2 = tree2.query(usps_X_train95_shuffle[usps_shuffle[:,88] == 2], k=7) \n",
    "dist3, ind3 = tree3.query(usps_X_train95_shuffle[usps_shuffle[:,88] == 3], k=7) \n",
    "dist4, ind4 = tree4.query(usps_X_train95_shuffle[usps_shuffle[:,88] == 4], k=7) \n",
    "dist5, ind5 = tree5.query(usps_X_train95_shuffle[usps_shuffle[:,88] == 5], k=7) \n",
    "dist6, ind6 = tree6.query(usps_X_train95_shuffle[usps_shuffle[:,88] == 6], k=7) \n",
    "dist7, ind7 = tree7.query(usps_X_train95_shuffle[usps_shuffle[:,88] == 7], k=7) \n",
    "dist8, ind8 = tree8.query(usps_X_train95_shuffle[usps_shuffle[:,88] == 8], k=7) \n",
    "dist9, ind9 = tree9.query(usps_X_train95_shuffle[usps_shuffle[:,88] == 9], k=7) \n",
    "dist0.shape, ind0.shape, dist1.shape, ind1.shape"
   ]
  },
  {
   "cell_type": "code",
   "execution_count": 29,
   "metadata": {},
   "outputs": [
    {
     "name": "stdout",
     "output_type": "stream",
     "text": [
      "6.7514388237909655\n"
     ]
    }
   ],
   "source": [
    "#calculate signma\n",
    "dist_matrix = np.row_stack((dist0, dist1, dist2, dist3, dist4, dist5, dist6, dist7, dist8, dist9))\n",
    "sigma_cal = np.mean(dist_matrix[:,6])\n",
    "print(sigma_cal)"
   ]
  },
  {
   "cell_type": "code",
   "execution_count": 30,
   "metadata": {},
   "outputs": [
    {
     "name": "stdout",
     "output_type": "stream",
     "text": [
      "0.010969260006709065\n"
     ]
    }
   ],
   "source": [
    "#calculate gamma\n",
    "gamma_cal = 1/(2*sigma_cal**2)\n",
    "print(gamma_cal)"
   ]
  },
  {
   "cell_type": "code",
   "execution_count": 31,
   "metadata": {},
   "outputs": [
    {
     "name": "stdout",
     "output_type": "stream",
     "text": [
      "[0.08918784255107126, 0.07523667164922765, 0.06178375685102144, 0.05331340308918786, 0.04882909815645242, 0.04583956153462876, 0.04384653712007969, 0.04484304932735428, 0.04484304932735428, 0.04484304932735428]\n"
     ]
    }
   ],
   "source": [
    "svm_error_gaussian = []\n",
    "c_range=([2**i for i in range(-4,6)])\n",
    "for c in c_range:\n",
    "    svm_gaussian = OneVsOneClassifier(svm.SVC(kernel='rbf',C=c, gamma=gamma_cal)).fit(x_train_transformed_95, y_train)\n",
    "    y_pred = svm_gaussian.predict(x_test_transformed_95)\n",
    "    error = 1 - accuracy_score(y_test, y_pred)\n",
    "    svm_error_gaussian.append(error)\n",
    "print(svm_error_gaussian)"
   ]
  },
  {
   "cell_type": "code",
   "execution_count": 39,
   "metadata": {},
   "outputs": [
    {
     "data": {
      "text/plain": [
       "0.04384653712007969"
      ]
     },
     "execution_count": 39,
     "metadata": {},
     "output_type": "execute_result"
    }
   ],
   "source": [
    "min(svm_error_gaussian)"
   ]
  },
  {
   "cell_type": "code",
   "execution_count": 32,
   "metadata": {},
   "outputs": [
    {
     "data": {
      "text/plain": [
       "Text(0,0.5,'Test Error')"
      ]
     },
     "execution_count": 32,
     "metadata": {},
     "output_type": "execute_result"
    },
    {
     "data": {
      "image/png": "[encoded data removed]",
      "text/plain": [
       "<Figure size 504x288 with 1 Axes>"
      ]
     },
     "metadata": {},
     "output_type": "display_data"
    }
   ],
   "source": [
    "from matplotlib.ticker import PercentFormatter\n",
    "\n",
    "fig = plt.figure(1, (7,4))\n",
    "ax = fig.add_subplot(1,1,1)\n",
    "\n",
    "plt.plot(range(-4,6),svm_error_gaussian,color='blue',linestyle='dashed',marker='o',\n",
    "        markerfacecolor='blue',markersize=6)\n",
    "ax.yaxis.set_major_formatter(PercentFormatter(1.0))\n",
    "plt.title('Test Error Rates and C Gaussian Kernel')\n",
    "plt.xlabel('C: 2 to the power')\n",
    "plt.ylabel('Test Error')"
   ]
  },
  {
   "cell_type": "code",
   "execution_count": 33,
   "metadata": {},
   "outputs": [],
   "source": [
    "def KW(x):\n",
    "    w = np.exp(-x**2/(2*sigma_cal**2))\n",
    "    return w"
   ]
  },
  {
   "cell_type": "code",
   "execution_count": 34,
   "metadata": {},
   "outputs": [
    {
     "name": "stdout",
     "output_type": "stream",
     "text": [
      "[0.05231689088191327, 0.0503238664673642, 0.05082212257100149, 0.05082212257100149, 0.05331340308918786, 0.05430991529646234, 0.05680119581464871, 0.05979073243647237]\n"
     ]
    }
   ],
   "source": [
    "knn_error = []\n",
    "for k in range(3,11):\n",
    "    knn = KNeighborsClassifier(n_neighbors = k, weights = KW)\n",
    "    knn.fit(x_train_transformed_95, y_train)\n",
    "    pred = knn.predict(x_test_transformed_95)\n",
    "    test_scores= 1 - accuracy_score(y_test, pred)\n",
    "    knn_error.append(test_scores)\n",
    "    \n",
    "print(knn_error)"
   ]
  },
  {
   "cell_type": "code",
   "execution_count": 35,
   "metadata": {},
   "outputs": [
    {
     "data": {
      "text/plain": [
       "Text(0,0.5,'Test Error')"
      ]
     },
     "execution_count": 35,
     "metadata": {},
     "output_type": "execute_result"
    },
    {
     "data": {
      "image/png": "[encoded data removed]",
      "text/plain": [
       "<Figure size 504x288 with 1 Axes>"
      ]
     },
     "metadata": {},
     "output_type": "display_data"
    }
   ],
   "source": [
    "from matplotlib.ticker import PercentFormatter\n",
    "\n",
    "fig = plt.figure(1, (7,4))\n",
    "ax = fig.add_subplot(1,1,1)\n",
    "\n",
    "plt.plot(range(3,11),knn_error,color='black',linestyle='dashed',marker='o',\n",
    "        markerfacecolor='black',markersize=6)\n",
    "ax.yaxis.set_major_formatter(PercentFormatter(1.0))\n",
    "plt.title('Test Error Rates and K Gaussian Weights')\n",
    "plt.xlabel('K')\n",
    "plt.ylabel('Test Error')"
   ]
  },
  {
   "cell_type": "markdown",
   "metadata": {},
   "source": [
    "# Problem 5"
   ]
  },
  {
   "cell_type": "code",
   "execution_count": 36,
   "metadata": {},
   "outputs": [
    {
     "name": "stdout",
     "output_type": "stream",
     "text": [
      "[0.08570004982561041, 0.06776283009466866, 0.06028898854010967, 0.05231689088191327, 0.04882909815645242, 0.046337817638266054, 0.04484304932735428, 0.04434479322371698, 0.04434479322371698, 0.04434479322371698]\n"
     ]
    }
   ],
   "source": [
    "svm_error_gaussian_ovr = []\n",
    "c_range=([2**i for i in range(-4,6)])\n",
    "for c in c_range:\n",
    "    svm_gaussian = OneVsRestClassifier(svm.SVC(kernel='rbf',C=c, gamma=gamma_cal)).fit(x_train_transformed_95, y_train)\n",
    "    y_pred = svm_gaussian.predict(x_test_transformed_95)\n",
    "    error = 1 - accuracy_score(y_test, y_pred)\n",
    "    svm_error_gaussian_ovr.append(error)\n",
    "print(svm_error_gaussian_ovr)"
   ]
  },
  {
   "cell_type": "code",
   "execution_count": 37,
   "metadata": {},
   "outputs": [
    {
     "data": {
      "text/plain": [
       "<matplotlib.legend.Legend at 0x117fdceb8>"
      ]
     },
     "execution_count": 37,
     "metadata": {},
     "output_type": "execute_result"
    },
    {
     "data": {
      "image/png": "[encoded data removed]",
      "text/plain": [
       "<Figure size 504x288 with 1 Axes>"
      ]
     },
     "metadata": {},
     "output_type": "display_data"
    }
   ],
   "source": [
    "from matplotlib.ticker import PercentFormatter\n",
    "\n",
    "fig = plt.figure(1, (7,4))\n",
    "ax = fig.add_subplot(1,1,1)\n",
    "\n",
    "g1,=plt.plot(range(-4,6),svm_error_gaussian,color='blue',linestyle='dashed',marker='o',\n",
    "        markerfacecolor='blue',markersize=6)\n",
    "g2,=plt.plot(range(-4,6),svm_error_gaussian_ovr,color='red',linestyle='dashed',marker='o',\n",
    "        markerfacecolor='red',markersize=6)\n",
    "\n",
    "ax.yaxis.set_major_formatter(PercentFormatter(1.0))\n",
    "plt.title('Test Error Rates and C Gaussian Kernel')\n",
    "plt.xlabel('C: 2 to the power')\n",
    "plt.ylabel('Test Error')\n",
    "\n",
    "\n",
    "plt.legend([g1,g2],['OneVSOne','OneVSRest'])"
   ]
  },
  {
   "cell_type": "code",
   "execution_count": 38,
   "metadata": {},
   "outputs": [
    {
     "data": {
      "text/plain": [
       "(0.04384653712007969, 0.04434479322371698)"
      ]
     },
     "execution_count": 38,
     "metadata": {},
     "output_type": "execute_result"
    }
   ],
   "source": [
    "min(svm_error_gaussian),min(svm_error_gaussian_ovr)"
   ]
  },
  {
   "cell_type": "code",
   "execution_count": null,
   "metadata": {},
   "outputs": [],
   "source": []
  }
 ],
 "metadata": {
  "kernelspec": {
   "display_name": "Python 3",
   "language": "python",
   "name": "python3"
  },
  "language_info": {
   "codemirror_mode": {
    "name": "ipython",
    "version": 3
   },
   "file_extension": ".py",
   "mimetype": "text/x-python",
   "name": "python",
   "nbconvert_exporter": "python",
   "pygments_lexer": "ipython3",
   "version": "3.6.5"
  }
 },
 "nbformat": 4,
 "nbformat_minor": 2
}
