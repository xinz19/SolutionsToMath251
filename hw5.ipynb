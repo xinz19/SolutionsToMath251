{
 "cells": [
  {
   "cell_type": "code",
   "execution_count": 33,
   "metadata": {},
   "outputs": [],
   "source": [
    "import numpy as np"
   ]
  },
  {
   "cell_type": "code",
   "execution_count": 49,
   "metadata": {},
   "outputs": [],
   "source": [
    "import math\n",
    "import matplotlib.pyplot as plt\n",
    "\n",
    "% matplotlib inline"
   ]
  },
  {
   "cell_type": "markdown",
   "metadata": {},
   "source": [
    "# Problem 1"
   ]
  },
  {
   "cell_type": "code",
   "execution_count": 35,
   "metadata": {},
   "outputs": [],
   "source": [
    "x0=[0,1,math.pi/2]"
   ]
  },
  {
   "cell_type": "code",
   "execution_count": 36,
   "metadata": {},
   "outputs": [],
   "source": [
    "def f(x):\n",
    "    return math.cos(x)-x"
   ]
  },
  {
   "cell_type": "code",
   "execution_count": 37,
   "metadata": {},
   "outputs": [],
   "source": [
    "def df(x):\n",
    "    return -math.sin(x)-1"
   ]
  },
  {
   "cell_type": "code",
   "execution_count": 38,
   "metadata": {},
   "outputs": [],
   "source": [
    "def dx(f,x):\n",
    "    return abs(0-f(x))"
   ]
  },
  {
   "cell_type": "code",
   "execution_count": 39,
   "metadata": {},
   "outputs": [],
   "source": [
    "def newtons_method(f, df, x0, epsilon):\n",
    "    l=[x0]\n",
    "    alpha=dx(f,x0)\n",
    "    while alpha > epsilon:\n",
    "        x0 = x0 - f(x0)/df(x0)\n",
    "        l.append(x0)\n",
    "        alpha=dx(f,x0)\n",
    "    return l"
   ]
  },
  {
   "cell_type": "code",
   "execution_count": 69,
   "metadata": {},
   "outputs": [],
   "source": [
    "l1=newtons_method(f, df, 0, 1e-8)"
   ]
  },
  {
   "cell_type": "code",
   "execution_count": 70,
   "metadata": {},
   "outputs": [
    {
     "data": {
      "text/plain": [
       "[0, 1.0, 0.7503638678402439, 0.7391128909113617, 0.7390851333852839]"
      ]
     },
     "execution_count": 70,
     "metadata": {},
     "output_type": "execute_result"
    }
   ],
   "source": [
    "l1"
   ]
  },
  {
   "cell_type": "code",
   "execution_count": 61,
   "metadata": {},
   "outputs": [
    {
     "data": {
      "text/plain": [
       "6"
      ]
     },
     "execution_count": 61,
     "metadata": {},
     "output_type": "execute_result"
    }
   ],
   "source": [
    "len(l1)"
   ]
  },
  {
   "cell_type": "code",
   "execution_count": 71,
   "metadata": {},
   "outputs": [],
   "source": [
    "l2=newtons_method(f, df, 1, 1e-8)"
   ]
  },
  {
   "cell_type": "code",
   "execution_count": 72,
   "metadata": {},
   "outputs": [
    {
     "data": {
      "text/plain": [
       "[1, 0.7503638678402439, 0.7391128909113617, 0.7390851333852839]"
      ]
     },
     "execution_count": 72,
     "metadata": {},
     "output_type": "execute_result"
    }
   ],
   "source": [
    "l2"
   ]
  },
  {
   "cell_type": "code",
   "execution_count": 76,
   "metadata": {},
   "outputs": [],
   "source": [
    "l3=newtons_method(f, df, math.pi/2, 1e-8)"
   ]
  },
  {
   "cell_type": "code",
   "execution_count": 77,
   "metadata": {},
   "outputs": [
    {
     "data": {
      "text/plain": [
       "[1.5707963267948966,\n",
       " 0.7853981633974483,\n",
       " 0.7395361335152383,\n",
       " 0.7390851781060102,\n",
       " 0.739085133215161]"
      ]
     },
     "execution_count": 77,
     "metadata": {},
     "output_type": "execute_result"
    }
   ],
   "source": [
    "l3"
   ]
  },
  {
   "cell_type": "code",
   "execution_count": 78,
   "metadata": {},
   "outputs": [
    {
     "data": {
      "text/plain": [
       "<matplotlib.legend.Legend at 0x107f18828>"
      ]
     },
     "execution_count": 78,
     "metadata": {},
     "output_type": "execute_result"
    },
    {
     "data": {
      "image/png": "[encoded data removed]",
      "text/plain": [
       "<Figure size 504x288 with 1 Axes>"
      ]
     },
     "metadata": {},
     "output_type": "display_data"
    }
   ],
   "source": [
    "#from matplotlib.ticker import PercentFormatter\n",
    "\n",
    "fig = plt.figure(1, (7,4))\n",
    "ax = fig.add_subplot(1,1,1)\n",
    "\n",
    "l1_graph,=plt.plot(range(0,len(l1)),l1,color='blue',linestyle='dashed',marker='o',\n",
    "        markerfacecolor='blue',markersize=6)\n",
    "l2_graph,=plt.plot(range(0,len(l2)),l2,color='red',linestyle='dashed',marker='x',\n",
    "        markerfacecolor='red',markersize=6)\n",
    "l3_graph,=plt.plot(range(0,len(l3)),l3,color='black',linestyle='dashed',marker='*',\n",
    "        markerfacecolor='black',markersize=6)\n",
    "#ax.yaxis.set_major_formatter(PercentFormatter(1.0))\n",
    "plt.title('Newton method vs.Iterations')\n",
    "plt.xlabel('Iteration')\n",
    "plt.ylabel('x0')\n",
    "\n",
    "plt.legend([l1_graph,l2_graph,l3_graph],[\"starting point:0\",\"starting point:1\",\"starting point: pi/2\"])"
   ]
  },
  {
   "cell_type": "markdown",
   "metadata": {},
   "source": [
    "# Problem 2"
   ]
  },
  {
   "cell_type": "code",
   "execution_count": null,
   "metadata": {},
   "outputs": [],
   "source": [
    "def f(x):\n",
    "    return 0.25*x^4-3*x^3-7*x-5"
   ]
  },
  {
   "cell_type": "code",
   "execution_count": 143,
   "metadata": {},
   "outputs": [],
   "source": [
    "def df(x):\n",
    "    return x**3-9*(x**2)+7"
   ]
  },
  {
   "cell_type": "code",
   "execution_count": 144,
   "metadata": {},
   "outputs": [],
   "source": [
    "def gradient_descent(df,x0,rate,epsilon):\n",
    "    iteration=0\n",
    "    cur_x=x0\n",
    "    previous_step_size = 1\n",
    "    l=[x0]\n",
    "    while iteration<30 and previous_step_size > epsilon:\n",
    "        prev_x = cur_x \n",
    "        cur_x = cur_x - rate * df(prev_x)\n",
    "        l.append(cur_x)\n",
    "        previous_step_size = abs(cur_x - prev_x)\n",
    "        iteration=iteration+1\n",
    "    return l\n",
    "    \n",
    "    "
   ]
  },
  {
   "cell_type": "code",
   "execution_count": 148,
   "metadata": {},
   "outputs": [],
   "source": [
    "l1=gradient_descent(df, 0, 0.01, 1e-4)"
   ]
  },
  {
   "cell_type": "code",
   "execution_count": 149,
   "metadata": {},
   "outputs": [],
   "source": [
    "l2=gradient_descent(df,0, 0.05, 1e-4)"
   ]
  },
  {
   "cell_type": "code",
   "execution_count": 150,
   "metadata": {},
   "outputs": [],
   "source": [
    "l3=gradient_descent(df, 0, 0.1, 1e-4)"
   ]
  },
  {
   "cell_type": "code",
   "execution_count": 151,
   "metadata": {},
   "outputs": [
    {
     "data": {
      "text/plain": [
       "<matplotlib.legend.Legend at 0x106b73630>"
      ]
     },
     "execution_count": 151,
     "metadata": {},
     "output_type": "execute_result"
    },
    {
     "data": {
      "image/png": "[encoded data removed]",
      "text/plain": [
       "<Figure size 504x288 with 1 Axes>"
      ]
     },
     "metadata": {},
     "output_type": "display_data"
    }
   ],
   "source": [
    "\n",
    "fig = plt.figure(1, (7,4))\n",
    "ax = fig.add_subplot(1,1,1)\n",
    "\n",
    "l1_graph,=plt.plot(range(0,len(l1)),l1,color='blue',linestyle='dashed',marker='o',\n",
    "        markerfacecolor='blue',markersize=6)\n",
    "l2_graph,=plt.plot(range(0,len(l2)),l2,color='red',linestyle='dashed',marker='x',\n",
    "        markerfacecolor='red',markersize=6)\n",
    "l3_graph,=plt.plot(range(0,len(l3)),l3,color='black',linestyle='dashed',marker='*',\n",
    "        markerfacecolor='black',markersize=6)\n",
    "#ax.yaxis.set_major_formatter(PercentFormatter(1.0))\n",
    "plt.title('Gradient Descent vs.Iterations')\n",
    "plt.xlabel('Iteration')\n",
    "plt.ylabel('X')\n",
    "\n",
    "plt.legend([l1_graph,l2_graph,l3_graph],[\"Learning rate:0.01\",\"Learning rate:0.05\",\"Learning rate:0.1\"])"
   ]
  },
  {
   "cell_type": "code",
   "execution_count": 152,
   "metadata": {},
   "outputs": [
    {
     "data": {
      "text/plain": [
       "31"
      ]
     },
     "execution_count": 152,
     "metadata": {},
     "output_type": "execute_result"
    }
   ],
   "source": [
    "len(l1)"
   ]
  },
  {
   "cell_type": "code",
   "execution_count": 153,
   "metadata": {},
   "outputs": [
    {
     "data": {
      "text/plain": [
       "9"
      ]
     },
     "execution_count": 153,
     "metadata": {},
     "output_type": "execute_result"
    }
   ],
   "source": [
    "len(l2)"
   ]
  },
  {
   "cell_type": "code",
   "execution_count": 154,
   "metadata": {},
   "outputs": [
    {
     "data": {
      "text/plain": [
       "28"
      ]
     },
     "execution_count": 154,
     "metadata": {},
     "output_type": "execute_result"
    }
   ],
   "source": [
    "len(l3)"
   ]
  },
  {
   "cell_type": "code",
   "execution_count": 180,
   "metadata": {},
   "outputs": [],
   "source": [
    "data={'Number of Iterations': [30,8,27]}"
   ]
  },
  {
   "cell_type": "code",
   "execution_count": 181,
   "metadata": {},
   "outputs": [
    {
     "data": {
      "text/plain": [
       "{'Number of Iterations': [30, 8, 27]}"
      ]
     },
     "execution_count": 181,
     "metadata": {},
     "output_type": "execute_result"
    }
   ],
   "source": [
    "data"
   ]
  },
  {
   "cell_type": "code",
   "execution_count": 182,
   "metadata": {},
   "outputs": [],
   "source": [
    "df=pd.DataFrame(data)"
   ]
  },
  {
   "cell_type": "code",
   "execution_count": 183,
   "metadata": {},
   "outputs": [
    {
     "data": {
      "text/html": [
       "<div>\n",
       "<style scoped>\n",
       "    .dataframe tbody tr th:only-of-type {\n",
       "        vertical-align: middle;\n",
       "    }\n",
       "\n",
       "    .dataframe tbody tr th {\n",
       "        vertical-align: top;\n",
       "    }\n",
       "\n",
       "    .dataframe thead th {\n",
       "        text-align: right;\n",
       "    }\n",
       "</style>\n",
       "<table border=\"1\" class=\"dataframe\">\n",
       "  <thead>\n",
       "    <tr style=\"text-align: right;\">\n",
       "      <th></th>\n",
       "      <th>Number of Iterations</th>\n",
       "    </tr>\n",
       "  </thead>\n",
       "  <tbody>\n",
       "    <tr>\n",
       "      <th>0</th>\n",
       "      <td>30</td>\n",
       "    </tr>\n",
       "    <tr>\n",
       "      <th>1</th>\n",
       "      <td>8</td>\n",
       "    </tr>\n",
       "    <tr>\n",
       "      <th>2</th>\n",
       "      <td>27</td>\n",
       "    </tr>\n",
       "  </tbody>\n",
       "</table>\n",
       "</div>"
      ],
      "text/plain": [
       "   Number of Iterations\n",
       "0                    30\n",
       "1                     8\n",
       "2                    27"
      ]
     },
     "execution_count": 183,
     "metadata": {},
     "output_type": "execute_result"
    }
   ],
   "source": [
    "df"
   ]
  },
  {
   "cell_type": "code",
   "execution_count": 184,
   "metadata": {},
   "outputs": [],
   "source": [
    "import pandas as pd "
   ]
  },
  {
   "cell_type": "code",
   "execution_count": 185,
   "metadata": {},
   "outputs": [],
   "source": [
    "df=pd.DataFrame(data, columns=['Number of Iterations'],\n",
    "                index=['Learning rate 0.01','learning rate 0.05', 'learning rate 0.1'])"
   ]
  },
  {
   "cell_type": "code",
   "execution_count": 186,
   "metadata": {},
   "outputs": [
    {
     "data": {
      "text/html": [
       "<div>\n",
       "<style scoped>\n",
       "    .dataframe tbody tr th:only-of-type {\n",
       "        vertical-align: middle;\n",
       "    }\n",
       "\n",
       "    .dataframe tbody tr th {\n",
       "        vertical-align: top;\n",
       "    }\n",
       "\n",
       "    .dataframe thead th {\n",
       "        text-align: right;\n",
       "    }\n",
       "</style>\n",
       "<table border=\"1\" class=\"dataframe\">\n",
       "  <thead>\n",
       "    <tr style=\"text-align: right;\">\n",
       "      <th></th>\n",
       "      <th>Number of Iterations</th>\n",
       "    </tr>\n",
       "  </thead>\n",
       "  <tbody>\n",
       "    <tr>\n",
       "      <th>Learning rate 0.01</th>\n",
       "      <td>30</td>\n",
       "    </tr>\n",
       "    <tr>\n",
       "      <th>learning rate 0.05</th>\n",
       "      <td>8</td>\n",
       "    </tr>\n",
       "    <tr>\n",
       "      <th>learning rate 0.1</th>\n",
       "      <td>27</td>\n",
       "    </tr>\n",
       "  </tbody>\n",
       "</table>\n",
       "</div>"
      ],
      "text/plain": [
       "                    Number of Iterations\n",
       "Learning rate 0.01                    30\n",
       "learning rate 0.05                     8\n",
       "learning rate 0.1                     27"
      ]
     },
     "execution_count": 186,
     "metadata": {},
     "output_type": "execute_result"
    }
   ],
   "source": [
    "df"
   ]
  },
  {
   "cell_type": "markdown",
   "metadata": {},
   "source": [
    "# Problem 3"
   ]
  },
  {
   "cell_type": "code",
   "execution_count": 187,
   "metadata": {},
   "outputs": [],
   "source": [
    "import numpy as np\n",
    "import matplotlib.pyplot as plt\n",
    "import pandas as pd\n",
    "import sklearn\n",
    "from sklearn.neighbors import KNeighborsClassifier\n",
    "from sklearn.model_selection import cross_val_score,LeaveOneOut,train_test_split\n",
    "from sklearn.metrics import accuracy_score, classification_report,confusion_matrix\n",
    "% matplotlib inline"
   ]
  },
  {
   "cell_type": "code",
   "execution_count": 188,
   "metadata": {},
   "outputs": [],
   "source": [
    "from sklearn.preprocessing import StandardScaler\n",
    "from sklearn.decomposition import PCA"
   ]
  },
  {
   "cell_type": "code",
   "execution_count": 189,
   "metadata": {},
   "outputs": [],
   "source": [
    "from sklearn.discriminant_analysis import LinearDiscriminantAnalysis"
   ]
  },
  {
   "cell_type": "code",
   "execution_count": 192,
   "metadata": {},
   "outputs": [],
   "source": [
    "from sklearn.linear_model import LogisticRegression"
   ]
  },
  {
   "cell_type": "code",
   "execution_count": 190,
   "metadata": {},
   "outputs": [],
   "source": [
    "import scipy.io as sio "
   ]
  },
  {
   "cell_type": "code",
   "execution_count": 191,
   "metadata": {},
   "outputs": [],
   "source": [
    "twogaussians_x_train=sio.loadmat('twogaussians.mat')['Xtr']\n",
    "twogaussians_x_test=sio.loadmat('twogaussians.mat')['Xtst']\n",
    "twogaussians_y_train=sio.loadmat('twogaussians.mat')['ytr']\n",
    "twogaussians_y_test=sio.loadmat('twogaussians.mat')['ytst']"
   ]
  },
  {
   "cell_type": "code",
   "execution_count": 194,
   "metadata": {},
   "outputs": [],
   "source": [
    "twogaussians_y_train=np.reshape(twogaussians_y_train,newshape=(200,))\n",
    "twogaussians_y_test=np.reshape(twogaussians_y_test,newshape=(100,))"
   ]
  },
  {
   "cell_type": "markdown",
   "metadata": {},
   "source": [
    "## LDA"
   ]
  },
  {
   "cell_type": "code",
   "execution_count": 195,
   "metadata": {},
   "outputs": [],
   "source": [
    "lda=LinearDiscriminantAnalysis(store_covariance=True)\n",
    "lda.fit(twogaussians_x_train,twogaussians_y_train)\n",
    "#x_train_LDA=lda.transform(x_train_transformed_95)\n",
    "x_test_LDA=lda.transform(twogaussians_x_test)\n",
    "x_test_pred=lda.predict(twogaussians_x_test)\n",
    "error_twogaussian_lda=sum(x_test_pred!=twogaussians_y_test)/len(twogaussians_y_test)"
   ]
  },
  {
   "cell_type": "code",
   "execution_count": 196,
   "metadata": {},
   "outputs": [
    {
     "data": {
      "text/plain": [
       "0.1"
      ]
     },
     "execution_count": 196,
     "metadata": {},
     "output_type": "execute_result"
    }
   ],
   "source": [
    "error_twogaussian_lda"
   ]
  },
  {
   "cell_type": "markdown",
   "metadata": {},
   "source": [
    "## Logistic Regression"
   ]
  },
  {
   "cell_type": "code",
   "execution_count": 200,
   "metadata": {},
   "outputs": [],
   "source": [
    "lg=LogisticRegression()\n",
    "lg.fit(twogaussians_x_train,twogaussians_y_train)\n",
    "#x_train_LDA=lda.transform(x_train_transformed_95)\n",
    "#x_test_LDA=lda.transform(twogaussians_x_test)\n",
    "x_test_pred=lg.predict(twogaussians_x_test)\n",
    "error_twogaussian_lg=sum(x_test_pred!=twogaussians_y_test)/len(twogaussians_y_test)"
   ]
  },
  {
   "cell_type": "code",
   "execution_count": 201,
   "metadata": {},
   "outputs": [
    {
     "data": {
      "text/plain": [
       "0.07"
      ]
     },
     "execution_count": 201,
     "metadata": {},
     "output_type": "execute_result"
    }
   ],
   "source": [
    "error_twogaussian_lg"
   ]
  },
  {
   "cell_type": "code",
   "execution_count": 218,
   "metadata": {},
   "outputs": [],
   "source": [
    "data={'Error':[error_twogaussian_lda,error_twogaussian_lg]}"
   ]
  },
  {
   "cell_type": "code",
   "execution_count": 219,
   "metadata": {},
   "outputs": [],
   "source": [
    "df=pd.DataFrame(data, index=['LDA','Logistic Regression'], columns=['Error'])"
   ]
  },
  {
   "cell_type": "code",
   "execution_count": 220,
   "metadata": {},
   "outputs": [
    {
     "data": {
      "text/html": [
       "<div>\n",
       "<style scoped>\n",
       "    .dataframe tbody tr th:only-of-type {\n",
       "        vertical-align: middle;\n",
       "    }\n",
       "\n",
       "    .dataframe tbody tr th {\n",
       "        vertical-align: top;\n",
       "    }\n",
       "\n",
       "    .dataframe thead th {\n",
       "        text-align: right;\n",
       "    }\n",
       "</style>\n",
       "<table border=\"1\" class=\"dataframe\">\n",
       "  <thead>\n",
       "    <tr style=\"text-align: right;\">\n",
       "      <th></th>\n",
       "      <th>Error</th>\n",
       "    </tr>\n",
       "  </thead>\n",
       "  <tbody>\n",
       "    <tr>\n",
       "      <th>LDA</th>\n",
       "      <td>0.10</td>\n",
       "    </tr>\n",
       "    <tr>\n",
       "      <th>Logistic Regression</th>\n",
       "      <td>0.07</td>\n",
       "    </tr>\n",
       "  </tbody>\n",
       "</table>\n",
       "</div>"
      ],
      "text/plain": [
       "                     Error\n",
       "LDA                   0.10\n",
       "Logistic Regression   0.07"
      ]
     },
     "execution_count": 220,
     "metadata": {},
     "output_type": "execute_result"
    }
   ],
   "source": [
    "df"
   ]
  },
  {
   "cell_type": "code",
   "execution_count": 222,
   "metadata": {},
   "outputs": [],
   "source": [
    "df['Error'] = pd.Series([\"{0:.2f}%\".format(val * 100) for val in df['Error']], index = df.index)"
   ]
  },
  {
   "cell_type": "code",
   "execution_count": 223,
   "metadata": {},
   "outputs": [
    {
     "data": {
      "text/html": [
       "<div>\n",
       "<style scoped>\n",
       "    .dataframe tbody tr th:only-of-type {\n",
       "        vertical-align: middle;\n",
       "    }\n",
       "\n",
       "    .dataframe tbody tr th {\n",
       "        vertical-align: top;\n",
       "    }\n",
       "\n",
       "    .dataframe thead th {\n",
       "        text-align: right;\n",
       "    }\n",
       "</style>\n",
       "<table border=\"1\" class=\"dataframe\">\n",
       "  <thead>\n",
       "    <tr style=\"text-align: right;\">\n",
       "      <th></th>\n",
       "      <th>Error</th>\n",
       "    </tr>\n",
       "  </thead>\n",
       "  <tbody>\n",
       "    <tr>\n",
       "      <th>LDA</th>\n",
       "      <td>10.00%</td>\n",
       "    </tr>\n",
       "    <tr>\n",
       "      <th>Logistic Regression</th>\n",
       "      <td>7.00%</td>\n",
       "    </tr>\n",
       "  </tbody>\n",
       "</table>\n",
       "</div>"
      ],
      "text/plain": [
       "                      Error\n",
       "LDA                  10.00%\n",
       "Logistic Regression   7.00%"
      ]
     },
     "execution_count": 223,
     "metadata": {},
     "output_type": "execute_result"
    }
   ],
   "source": [
    "df"
   ]
  },
  {
   "cell_type": "code",
   "execution_count": 231,
   "metadata": {},
   "outputs": [],
   "source": [
    "xx, yy = np.meshgrid(np.linspace(-4, 4, 200), np.linspace(-4, 4, 200))\n",
    "X_grid = np.c_[xx.ravel(), yy.ravel()]\n",
    "zz_lda = lda.predict_proba(X_grid)[:,1].reshape(xx.shape)\n",
    "zz_lg = lg.predict_proba(X_grid)[:,1].reshape(xx.shape)"
   ]
  },
  {
   "cell_type": "code",
   "execution_count": 232,
   "metadata": {},
   "outputs": [],
   "source": [
    "from scipy import linalg\n",
    "import numpy as np\n",
    "import pylab as pl\n",
    "import matplotlib as mpl"
   ]
  },
  {
   "cell_type": "code",
   "execution_count": 233,
   "metadata": {},
   "outputs": [
    {
     "data": {
      "image/png": "[encoded data removed]",
      "text/plain": [
       "<Figure size 720x576 with 2 Axes>"
      ]
     },
     "metadata": {},
     "output_type": "display_data"
    }
   ],
   "source": [
    "\n",
    "\n",
    "pl.figure(1, (10,8))\n",
    "splot = pl.subplot(1, 2, 1)\n",
    "pl.contourf(xx, yy, zz_lda > 0.5, alpha=0.5)\n",
    "pl.scatter(twogaussians_x_train[twogaussians_y_train==1,0], twogaussians_x_train[twogaussians_y_train==1,1], c='b', label='1')\n",
    "pl.scatter(twogaussians_x_train[twogaussians_y_train==2,0], twogaussians_x_train[twogaussians_y_train==2,1], c='r', label='2')\n",
    "pl.scatter(twogaussians_x_test[:,0], twogaussians_x_test[:,1], c='grey', label='test points')\n",
    "pl.contour(xx, yy, zz_lda, [0.5], linewidths=2., colors='k')\n",
    "#plot_ellipse(splot, lda.means_[0], lda.covariance_, 'b')\n",
    "#plot_ellipse(splot, lda.means_[1], lda.covariance_, 'r')\n",
    "pl.legend()\n",
    "pl.axis('tight')\n",
    "pl.title('Linear Discriminant Analysis')\n",
    "\n",
    "splot = pl.subplot(1, 2, 2)\n",
    "pl.contourf(xx, yy, zz_lg > 0.5, alpha=0.5)\n",
    "pl.scatter(twogaussians_x_train[twogaussians_y_train==1,0], twogaussians_x_train[twogaussians_y_train==1,1], c='b', label='1')\n",
    "pl.scatter(twogaussians_x_train[twogaussians_y_train==2,0], twogaussians_x_train[twogaussians_y_train==2,1], c='r', label='2')\n",
    "pl.scatter(twogaussians_x_test[:,0], twogaussians_x_test[:,1], c='grey', label='test points')\n",
    "pl.contour(xx, yy, zz_lg, [0.5], linewidths=2., colors='black')\n",
    "#plot_ellipse(splot, qda.means_[0], qda.covariances_[0], 'b')\n",
    "#plot_ellipse(splot, qda.means_[1], qda.covariances_[1], 'r')\n",
    "pl.legend()\n",
    "pl.axis('tight')\n",
    "pl.title('Logistic Regression')\n",
    "pl.show()"
   ]
  },
  {
   "cell_type": "code",
   "execution_count": 242,
   "metadata": {},
   "outputs": [
    {
     "data": {
      "text/plain": [
       "Text(0.5,1,'Decision boundary for LDA and Logistic Regression')"
      ]
     },
     "execution_count": 242,
     "metadata": {},
     "output_type": "execute_result"
    },
    {
     "data": {
      "image/png": "[encoded data removed]",
      "text/plain": [
       "<Figure size 720x720 with 1 Axes>"
      ]
     },
     "metadata": {},
     "output_type": "display_data"
    }
   ],
   "source": [
    "pl.figure(1, (10,10))\n",
    "splot = pl.subplot(1, 2, 1)\n",
    "pl.contourf(xx, yy, zz_lda > 0.5, alpha=0.5)\n",
    "pl.scatter(twogaussians_x_train[twogaussians_y_train==1,0], twogaussians_x_train[twogaussians_y_train==1,1], c='b', label='1')\n",
    "pl.scatter(twogaussians_x_train[twogaussians_y_train==2,0], twogaussians_x_train[twogaussians_y_train==2,1], c='r', label='2')\n",
    "pl.scatter(twogaussians_x_test[:,0], twogaussians_x_test[:,1], c='grey', label='test points')\n",
    "pl.contour(xx, yy, zz_lda, [0.5], linewidths=2., colors='black')\n",
    "pl.contour(xx, yy, zz_lg, [0.5], linewidths=2., colors='purple')\n",
    "#plot_ellipse(splot, lda.means_[0], lda.covariance_, 'b')\n",
    "#plot_ellipse(splot, lda.means_[1], lda.covariance_, 'r')\n",
    "pl.legend()\n",
    "pl.axis('tight')\n",
    "pl.title('Decision boundary for LDA and Logistic Regression')"
   ]
  },
  {
   "cell_type": "markdown",
   "metadata": {},
   "source": [
    "# Problem 4"
   ]
  },
  {
   "cell_type": "code",
   "execution_count": 243,
   "metadata": {},
   "outputs": [],
   "source": [
    "train = np.loadtxt('zip.train')\n",
    "test  = np.loadtxt('zip.test')"
   ]
  },
  {
   "cell_type": "code",
   "execution_count": 244,
   "metadata": {},
   "outputs": [],
   "source": [
    "y_train=train[:,0]\n",
    "x_train=train[:,1:]\n",
    "y_test=test[:,0]\n",
    "x_test=test[:,1:]"
   ]
  },
  {
   "cell_type": "code",
   "execution_count": 245,
   "metadata": {},
   "outputs": [],
   "source": [
    "pca95 = PCA(0.95)\n",
    "pca95.fit(x_train)\n",
    "x_train_transformed_95 = pca95.transform(x_train)\n",
    "x_test_transformed_95=pca95.transform(x_test)"
   ]
  },
  {
   "cell_type": "markdown",
   "metadata": {},
   "source": [
    "# one vs one "
   ]
  },
  {
   "cell_type": "code",
   "execution_count": 249,
   "metadata": {},
   "outputs": [
    {
     "name": "stdout",
     "output_type": "stream",
     "text": [
      "0.07075236671649228\n"
     ]
    }
   ],
   "source": [
    "from sklearn.multiclass import OneVsOneClassifier\n",
    "\n",
    "lr_ovo = OneVsOneClassifier(LogisticRegression())\n",
    "lr_ovo_fit = lr_ovo.fit(x_train_transformed_95, y_train)\n",
    "pred_lr_ovo = lr_ovo.predict(x_test_transformed_95)\n",
    "error_lr_ovo = sum(pred_lr_ovo!=y_test)/len(y_test)"
   ]
  },
  {
   "cell_type": "code",
   "execution_count": 250,
   "metadata": {},
   "outputs": [
    {
     "data": {
      "text/plain": [
       "0.07075236671649228"
      ]
     },
     "execution_count": 250,
     "metadata": {},
     "output_type": "execute_result"
    }
   ],
   "source": [
    "error_lr_ovo"
   ]
  },
  {
   "cell_type": "markdown",
   "metadata": {},
   "source": [
    "# one vs rest"
   ]
  },
  {
   "cell_type": "code",
   "execution_count": 252,
   "metadata": {},
   "outputs": [],
   "source": [
    "lr_ovr = LogisticRegression(multi_class='ovr')\n",
    "lr_ovr_fit = lr_ovr.fit(x_train_transformed_95,y_train)\n",
    "pred_lr_ovr = lr_ovr.predict(x_test_transformed_95)\n",
    "error_lr_ovr = sum(pred_lr_ovr!=y_test)/len(y_test)\n"
   ]
  },
  {
   "cell_type": "code",
   "execution_count": 253,
   "metadata": {},
   "outputs": [
    {
     "data": {
      "text/plain": [
       "0.09267563527653214"
      ]
     },
     "execution_count": 253,
     "metadata": {},
     "output_type": "execute_result"
    }
   ],
   "source": [
    "error_lr_ovr"
   ]
  },
  {
   "cell_type": "markdown",
   "metadata": {},
   "source": [
    "# multinominal"
   ]
  },
  {
   "cell_type": "code",
   "execution_count": 254,
   "metadata": {},
   "outputs": [],
   "source": [
    "lr_mul = LogisticRegression(multi_class='multinomial',solver='newton-cg')\n",
    "lr_mul_fit = lr_mul.fit(x_train_transformed_95,y_train)\n",
    "pred_lr_mul = lr_mul.predict(x_test_transformed_95)\n",
    "error_lr_mul = sum(pred_lr_mul!=y_test)/len(y_test)"
   ]
  },
  {
   "cell_type": "code",
   "execution_count": 255,
   "metadata": {},
   "outputs": [
    {
     "data": {
      "text/plain": [
       "0.08868958644743398"
      ]
     },
     "execution_count": 255,
     "metadata": {},
     "output_type": "execute_result"
    }
   ],
   "source": [
    "error_lr_mul"
   ]
  },
  {
   "cell_type": "markdown",
   "metadata": {},
   "source": [
    "# LDA"
   ]
  },
  {
   "cell_type": "code",
   "execution_count": 246,
   "metadata": {},
   "outputs": [],
   "source": [
    "lda=LinearDiscriminantAnalysis()\n",
    "lda.fit(x_train_transformed_95,y_train)\n",
    "#x_train_LDA=lda.transform(x_train_transformed_95)\n",
    "x_test_LDA=lda.transform(x_test_transformed_95)\n",
    "x_test_pred=lda.predict(x_test_transformed_95)\n",
    "error_lda=sum(x_test_pred!=y_test)/len(y_test)"
   ]
  },
  {
   "cell_type": "code",
   "execution_count": 247,
   "metadata": {},
   "outputs": [
    {
     "data": {
      "text/plain": [
       "0.11858495266567015"
      ]
     },
     "execution_count": 247,
     "metadata": {},
     "output_type": "execute_result"
    }
   ],
   "source": [
    "error_lda"
   ]
  },
  {
   "cell_type": "code",
   "execution_count": 256,
   "metadata": {},
   "outputs": [],
   "source": [
    "data={'Error':[error_lr_ovo,error_lr_ovr, error_lr_mul,error_lda]}"
   ]
  },
  {
   "cell_type": "code",
   "execution_count": 263,
   "metadata": {},
   "outputs": [],
   "source": [
    "df=pd.DataFrame(data, index=['One vs One','One vs Rest','Multinomial','LDA'])"
   ]
  },
  {
   "cell_type": "code",
   "execution_count": 264,
   "metadata": {},
   "outputs": [
    {
     "data": {
      "text/html": [
       "<div>\n",
       "<style scoped>\n",
       "    .dataframe tbody tr th:only-of-type {\n",
       "        vertical-align: middle;\n",
       "    }\n",
       "\n",
       "    .dataframe tbody tr th {\n",
       "        vertical-align: top;\n",
       "    }\n",
       "\n",
       "    .dataframe thead th {\n",
       "        text-align: right;\n",
       "    }\n",
       "</style>\n",
       "<table border=\"1\" class=\"dataframe\">\n",
       "  <thead>\n",
       "    <tr style=\"text-align: right;\">\n",
       "      <th></th>\n",
       "      <th>Error</th>\n",
       "    </tr>\n",
       "  </thead>\n",
       "  <tbody>\n",
       "    <tr>\n",
       "      <th>One vs One</th>\n",
       "      <td>0.070752</td>\n",
       "    </tr>\n",
       "    <tr>\n",
       "      <th>One vs Rest</th>\n",
       "      <td>0.092676</td>\n",
       "    </tr>\n",
       "    <tr>\n",
       "      <th>Multinomial</th>\n",
       "      <td>0.088690</td>\n",
       "    </tr>\n",
       "    <tr>\n",
       "      <th>LDA</th>\n",
       "      <td>0.118585</td>\n",
       "    </tr>\n",
       "  </tbody>\n",
       "</table>\n",
       "</div>"
      ],
      "text/plain": [
       "                Error\n",
       "One vs One   0.070752\n",
       "One vs Rest  0.092676\n",
       "Multinomial  0.088690\n",
       "LDA          0.118585"
      ]
     },
     "execution_count": 264,
     "metadata": {},
     "output_type": "execute_result"
    }
   ],
   "source": [
    "df"
   ]
  },
  {
   "cell_type": "code",
   "execution_count": 265,
   "metadata": {},
   "outputs": [],
   "source": [
    "df['Error'] = pd.Series([\"{0:.2f}%\".format(val * 100) for val in df['Error']], index = df.index)"
   ]
  },
  {
   "cell_type": "code",
   "execution_count": 266,
   "metadata": {},
   "outputs": [
    {
     "data": {
      "text/html": [
       "<div>\n",
       "<style scoped>\n",
       "    .dataframe tbody tr th:only-of-type {\n",
       "        vertical-align: middle;\n",
       "    }\n",
       "\n",
       "    .dataframe tbody tr th {\n",
       "        vertical-align: top;\n",
       "    }\n",
       "\n",
       "    .dataframe thead th {\n",
       "        text-align: right;\n",
       "    }\n",
       "</style>\n",
       "<table border=\"1\" class=\"dataframe\">\n",
       "  <thead>\n",
       "    <tr style=\"text-align: right;\">\n",
       "      <th></th>\n",
       "      <th>Error</th>\n",
       "    </tr>\n",
       "  </thead>\n",
       "  <tbody>\n",
       "    <tr>\n",
       "      <th>One vs One</th>\n",
       "      <td>7.08%</td>\n",
       "    </tr>\n",
       "    <tr>\n",
       "      <th>One vs Rest</th>\n",
       "      <td>9.27%</td>\n",
       "    </tr>\n",
       "    <tr>\n",
       "      <th>Multinomial</th>\n",
       "      <td>8.87%</td>\n",
       "    </tr>\n",
       "    <tr>\n",
       "      <th>LDA</th>\n",
       "      <td>11.86%</td>\n",
       "    </tr>\n",
       "  </tbody>\n",
       "</table>\n",
       "</div>"
      ],
      "text/plain": [
       "              Error\n",
       "One vs One    7.08%\n",
       "One vs Rest   9.27%\n",
       "Multinomial   8.87%\n",
       "LDA          11.86%"
      ]
     },
     "execution_count": 266,
     "metadata": {},
     "output_type": "execute_result"
    }
   ],
   "source": [
    "df"
   ]
  },
  {
   "cell_type": "markdown",
   "metadata": {},
   "source": [
    "# Problem 5"
   ]
  },
  {
   "cell_type": "code",
   "execution_count": 378,
   "metadata": {},
   "outputs": [],
   "source": [
    "from mlxtend.data import loadlocal_mnist"
   ]
  },
  {
   "cell_type": "code",
   "execution_count": 379,
   "metadata": {},
   "outputs": [],
   "source": [
    "x_train,y_train=loadlocal_mnist(images_path='train-images.idx3-ubyte',\n",
    "                                labels_path='train-labels.idx1-ubyte')"
   ]
  },
  {
   "cell_type": "code",
   "execution_count": 380,
   "metadata": {},
   "outputs": [],
   "source": [
    "x_test,y_test=loadlocal_mnist(images_path='t10k-images.idx3-ubyte',\n",
    "                                labels_path='t10k-labels.idx1-ubyte')"
   ]
  },
  {
   "cell_type": "code",
   "execution_count": 381,
   "metadata": {},
   "outputs": [],
   "source": [
    "x_train01=x_train[np.where((y_train==0)|(y_train==1))]\n",
    "x_train012=x_train[np.where((y_train==0)|(y_train==1)|(y_train==2))]\n",
    "x_train49=x_train[np.where((y_train==4)|(y_train==9))]\n",
    "x_train358=x_train[np.where((y_train==3)|(y_train==5)|(y_train==8))]\n",
    "\n",
    "x_test01=x_test[np.where((y_test==0)|(y_test==1))]\n",
    "x_test012=x_test[np.where((y_test==0)|(y_test==1)|(y_test==2))]\n",
    "x_test49=x_test[np.where((y_test==4)|(y_test==9))]\n",
    "x_test358=x_test[np.where((y_test==3)|(y_test==5)|(y_test==8))]\n",
    "\n",
    "\n",
    "\n",
    "y_train01=y_train[np.where((y_train==0)|(y_train==1))]\n",
    "y_train012=y_train[np.where((y_train==0)|(y_train==1)|(y_train==2))]\n",
    "y_train49=y_train[np.where((y_train==4)|(y_train==9))]\n",
    "y_train358=y_train[np.where((y_train==3)|(y_train==5)|(y_train==8))]\n",
    "\n",
    "\n",
    "y_test01=y_test[np.where((y_test==0)|(y_test==1))]\n",
    "y_test012=y_test[np.where((y_test==0)|(y_test==1)|(y_test==2))]\n",
    "y_test49=y_test[np.where((y_test==4)|(y_test==9))]\n",
    "y_test358=y_test[np.where((y_test==3)|(y_test==5)|(y_test==8))]"
   ]
  },
  {
   "cell_type": "markdown",
   "metadata": {},
   "source": [
    "# 4 and 9"
   ]
  },
  {
   "cell_type": "code",
   "execution_count": 1,
   "metadata": {},
   "outputs": [
    {
     "ename": "NameError",
     "evalue": "name 'PCA' is not defined",
     "output_type": "error",
     "traceback": [
      "\u001b[0;31m---------------------------------------------------------------------------\u001b[0m",
      "\u001b[0;31mNameError\u001b[0m                                 Traceback (most recent call last)",
      "\u001b[0;32m<ipython-input-1-019695092116>\u001b[0m in \u001b[0;36m<module>\u001b[0;34m()\u001b[0m\n\u001b[0;32m----> 1\u001b[0;31m \u001b[0mpca95\u001b[0m \u001b[0;34m=\u001b[0m \u001b[0mPCA\u001b[0m\u001b[0;34m(\u001b[0m\u001b[0;36m0.95\u001b[0m\u001b[0;34m)\u001b[0m\u001b[0;34m\u001b[0m\u001b[0m\n\u001b[0m\u001b[1;32m      2\u001b[0m \u001b[0mpca95\u001b[0m\u001b[0;34m.\u001b[0m\u001b[0mfit\u001b[0m\u001b[0;34m(\u001b[0m\u001b[0mx_train49\u001b[0m\u001b[0;34m)\u001b[0m\u001b[0;34m\u001b[0m\u001b[0m\n\u001b[1;32m      3\u001b[0m \u001b[0mx_train_transformed_95\u001b[0m \u001b[0;34m=\u001b[0m \u001b[0mpca95\u001b[0m\u001b[0;34m.\u001b[0m\u001b[0mtransform\u001b[0m\u001b[0;34m(\u001b[0m\u001b[0mx_train49\u001b[0m\u001b[0;34m)\u001b[0m\u001b[0;34m\u001b[0m\u001b[0m\n\u001b[1;32m      4\u001b[0m \u001b[0mx_test_transformed_95\u001b[0m\u001b[0;34m=\u001b[0m\u001b[0mpca95\u001b[0m\u001b[0;34m.\u001b[0m\u001b[0mtransform\u001b[0m\u001b[0;34m(\u001b[0m\u001b[0mx_test49\u001b[0m\u001b[0;34m)\u001b[0m\u001b[0;34m\u001b[0m\u001b[0m\n",
      "\u001b[0;31mNameError\u001b[0m: name 'PCA' is not defined"
     ]
    }
   ],
   "source": [
    "pca95 = PCA(0.95)\n",
    "pca95.fit(x_train49)\n",
    "x_train_transformed_95 = pca95.transform(x_train49)\n",
    "x_test_transformed_95=pca95.transform(x_test49)"
   ]
  },
  {
   "cell_type": "code",
   "execution_count": 333,
   "metadata": {},
   "outputs": [],
   "source": [
    "lda=LinearDiscriminantAnalysis()\n",
    "lda.fit(x_train_transformed_95,y_train49)\n",
    "#x_train_LDA=lda.transform(x_train_transformed_95)\n",
    "x_test_LDA=lda.transform(x_test_transformed_95)\n",
    "x_test_pred=lda.predict(x_test_transformed_95)\n",
    "error_49_lda=sum(x_test_pred!=y_test49)/len(y_test49)"
   ]
  },
  {
   "cell_type": "code",
   "execution_count": 334,
   "metadata": {},
   "outputs": [
    {
     "data": {
      "text/plain": [
       "0.052737317930688095"
      ]
     },
     "execution_count": 334,
     "metadata": {},
     "output_type": "execute_result"
    }
   ],
   "source": [
    "error_49_lda"
   ]
  },
  {
   "cell_type": "code",
   "execution_count": 335,
   "metadata": {},
   "outputs": [],
   "source": [
    "lr_ovo = OneVsOneClassifier(LogisticRegression())\n",
    "lr_ovo_fit = lr_ovo.fit(x_train_transformed_95, y_train49)\n",
    "pred_lr_ovo = lr_ovo.predict(x_test_transformed_95)\n",
    "error_lr_ovo_49 = sum(pred_lr_ovo!=y_test49)/len(y_test49)"
   ]
  },
  {
   "cell_type": "code",
   "execution_count": 336,
   "metadata": {},
   "outputs": [
    {
     "data": {
      "text/plain": [
       "0.03666499246609744"
      ]
     },
     "execution_count": 336,
     "metadata": {},
     "output_type": "execute_result"
    }
   ],
   "source": [
    "error_lr_ovo_49"
   ]
  },
  {
   "cell_type": "code",
   "execution_count": 337,
   "metadata": {},
   "outputs": [],
   "source": [
    "lr_ovr = LogisticRegression(multi_class='ovr')\n",
    "lr_ovr_fit = lr_ovr.fit(x_train_transformed_95,y_train49)\n",
    "pred_lr_ovr = lr_ovr.predict(x_test_transformed_95)\n",
    "error_lr_ovr_49 = sum(pred_lr_ovr!=y_test49)/len(y_test49)"
   ]
  },
  {
   "cell_type": "code",
   "execution_count": 338,
   "metadata": {},
   "outputs": [
    {
     "data": {
      "text/plain": [
       "0.0371672526368659"
      ]
     },
     "execution_count": 338,
     "metadata": {},
     "output_type": "execute_result"
    }
   ],
   "source": [
    "error_lr_ovr_49"
   ]
  },
  {
   "cell_type": "code",
   "execution_count": 340,
   "metadata": {},
   "outputs": [],
   "source": [
    "lr_mul = LogisticRegression(multi_class='multinomial',solver='newton-cg')\n",
    "lr_mul_fit = lr_mul.fit(x_train_transformed_95,y_train49)\n",
    "pred_lr_mul = lr_mul.predict(x_test_transformed_95)\n",
    "error_lr_mul_49 = sum(pred_lr_mul!=y_test49)/len(y_test49)"
   ]
  },
  {
   "cell_type": "code",
   "execution_count": 341,
   "metadata": {},
   "outputs": [
    {
     "data": {
      "text/plain": [
       "0.03465595178302361"
      ]
     },
     "execution_count": 341,
     "metadata": {},
     "output_type": "execute_result"
    }
   ],
   "source": [
    "error_lr_mul_49"
   ]
  },
  {
   "cell_type": "markdown",
   "metadata": {},
   "source": [
    "# 0 ,1 and 2"
   ]
  },
  {
   "cell_type": "code",
   "execution_count": 382,
   "metadata": {},
   "outputs": [],
   "source": [
    "pca95 = PCA(0.95)\n",
    "pca95.fit(x_train012)\n",
    "x_train_transformed_95 = pca95.transform(x_train012)\n",
    "x_test_transformed_95=pca95.transform(x_test012)"
   ]
  },
  {
   "cell_type": "code",
   "execution_count": 383,
   "metadata": {},
   "outputs": [
    {
     "name": "stderr",
     "output_type": "stream",
     "text": [
      "/Users/xinzhang/anaconda3/lib/python3.6/site-packages/sklearn/discriminant_analysis.py:442: UserWarning: The priors do not sum to 1. Renormalizing\n",
      "  UserWarning)\n"
     ]
    }
   ],
   "source": [
    "lda=LinearDiscriminantAnalysis()\n",
    "lda.fit(x_train_transformed_95,y_train012)\n",
    "#x_train_LDA=lda.transform(x_train_transformed_95)\n",
    "x_test_LDA=lda.transform(x_test_transformed_95)\n",
    "x_test_pred=lda.predict(x_test_transformed_95)\n",
    "error_012_lda=sum(x_test_pred!=y_test012)/len(y_test012)"
   ]
  },
  {
   "cell_type": "code",
   "execution_count": 384,
   "metadata": {},
   "outputs": [
    {
     "data": {
      "text/plain": [
       "0.0292341912932952"
      ]
     },
     "execution_count": 384,
     "metadata": {},
     "output_type": "execute_result"
    }
   ],
   "source": [
    "error_012_lda"
   ]
  },
  {
   "cell_type": "code",
   "execution_count": 385,
   "metadata": {},
   "outputs": [],
   "source": [
    "lr_ovo = OneVsOneClassifier(LogisticRegression())\n",
    "lr_ovo_fit = lr_ovo.fit(x_train_transformed_95, y_train012)\n",
    "pred_lr_ovo = lr_ovo.predict(x_test_transformed_95)\n",
    "error_lr_ovo_012 = sum(pred_lr_ovo!=y_test012)/len(y_test012)"
   ]
  },
  {
   "cell_type": "code",
   "execution_count": 386,
   "metadata": {},
   "outputs": [
    {
     "data": {
      "text/plain": [
       "0.010168414362885288"
      ]
     },
     "execution_count": 386,
     "metadata": {},
     "output_type": "execute_result"
    }
   ],
   "source": [
    "error_lr_ovo_012"
   ]
  },
  {
   "cell_type": "code",
   "execution_count": 387,
   "metadata": {},
   "outputs": [],
   "source": [
    "lr_ovr = LogisticRegression(multi_class='ovr')\n",
    "lr_ovr_fit = lr_ovr.fit(x_train_transformed_95,y_train012)\n",
    "pred_lr_ovr = lr_ovr.predict(x_test_transformed_95)\n",
    "error_lr_ovr_012 = sum(pred_lr_ovr!=y_test012)/len(y_test012)"
   ]
  },
  {
   "cell_type": "code",
   "execution_count": 388,
   "metadata": {},
   "outputs": [],
   "source": [
    "lr_mul = LogisticRegression(multi_class='multinomial',solver='newton-cg')\n",
    "lr_mul_fit = lr_mul.fit(x_train_transformed_95,y_train012)\n",
    "pred_lr_mul = lr_mul.predict(x_test_transformed_95)\n",
    "error_lr_mul_012 = sum(pred_lr_mul!=y_test012)/len(y_test012)"
   ]
  },
  {
   "cell_type": "code",
   "execution_count": 389,
   "metadata": {},
   "outputs": [
    {
     "data": {
      "text/plain": [
       "0.010168414362885288"
      ]
     },
     "execution_count": 389,
     "metadata": {},
     "output_type": "execute_result"
    }
   ],
   "source": [
    "error_lr_mul_012"
   ]
  },
  {
   "cell_type": "markdown",
   "metadata": {},
   "source": [
    "# 3, 5 and 8"
   ]
  },
  {
   "cell_type": "code",
   "execution_count": 292,
   "metadata": {},
   "outputs": [],
   "source": [
    "pca95 = PCA(0.95)\n",
    "pca95.fit(x_train358)\n",
    "x_train_transformed_95 = pca95.transform(x_train358)\n",
    "x_test_transformed_95=pca95.transform(x_test358)"
   ]
  },
  {
   "cell_type": "code",
   "execution_count": 295,
   "metadata": {},
   "outputs": [],
   "source": [
    "lda=LinearDiscriminantAnalysis()\n",
    "lda.fit(x_train_transformed_95,y_train358)\n",
    "#x_train_LDA=lda.transform(x_train_transformed_95)\n",
    "x_test_LDA=lda.transform(x_test_transformed_95)\n",
    "x_test_pred=lda.predict(x_test_transformed_95)\n",
    "error_358_lda=sum(x_test_pred!=y_test358)/len(y_test358)"
   ]
  },
  {
   "cell_type": "code",
   "execution_count": 296,
   "metadata": {},
   "outputs": [],
   "source": [
    "lr_ovo = OneVsOneClassifier(LogisticRegression())\n",
    "lr_ovo_fit = lr_ovo.fit(x_train_transformed_95, y_train358)\n",
    "pred_lr_ovo = lr_ovo.predict(x_test_transformed_95)\n",
    "error_lr_ovo_358 = sum(pred_lr_ovo!=y_test358)/len(y_test358)"
   ]
  },
  {
   "cell_type": "code",
   "execution_count": 297,
   "metadata": {},
   "outputs": [],
   "source": [
    "lr_ovr = LogisticRegression(multi_class='ovr')\n",
    "lr_ovr_fit = lr_ovr.fit(x_train_transformed_95,y_train358)\n",
    "pred_lr_ovr = lr_ovr.predict(x_test_transformed_95)\n",
    "error_lr_ovr_358 = sum(pred_lr_ovr!=y_test358)/len(y_test358)"
   ]
  },
  {
   "cell_type": "code",
   "execution_count": 298,
   "metadata": {},
   "outputs": [],
   "source": [
    "lr_mul = LogisticRegression(multi_class='multinomial',solver='newton-cg')\n",
    "lr_mul_fit = lr_mul.fit(x_train_transformed_95,y_train358)\n",
    "pred_lr_mul = lr_mul.predict(x_test_transformed_95)\n",
    "error_lr_mul_358 = sum(pred_lr_mul!=y_test358)/len(y_test358)"
   ]
  },
  {
   "cell_type": "code",
   "execution_count": 390,
   "metadata": {},
   "outputs": [],
   "source": [
    "data={'4 and 9':[error_49_lda,error_lr_ovo_49,error_lr_ovr_49,error_lr_mul_49],\n",
    "       '0, 1 and 2':[error_012_lda,error_lr_ovo_012,error_lr_ovr_012,error_lr_mul_012],\n",
    "      '3,5 and 8':[error_358_lda,error_lr_ovo_358,error_lr_ovr_358,error_lr_mul_358]}"
   ]
  },
  {
   "cell_type": "code",
   "execution_count": 391,
   "metadata": {},
   "outputs": [],
   "source": [
    "df=pd.DataFrame(data, index=['LDA','One vs One','One vs Rest','Multinomial'])"
   ]
  },
  {
   "cell_type": "code",
   "execution_count": 392,
   "metadata": {},
   "outputs": [
    {
     "data": {
      "text/html": [
       "<div>\n",
       "<style scoped>\n",
       "    .dataframe tbody tr th:only-of-type {\n",
       "        vertical-align: middle;\n",
       "    }\n",
       "\n",
       "    .dataframe tbody tr th {\n",
       "        vertical-align: top;\n",
       "    }\n",
       "\n",
       "    .dataframe thead th {\n",
       "        text-align: right;\n",
       "    }\n",
       "</style>\n",
       "<table border=\"1\" class=\"dataframe\">\n",
       "  <thead>\n",
       "    <tr style=\"text-align: right;\">\n",
       "      <th></th>\n",
       "      <th>4 and 9</th>\n",
       "      <th>0, 1 and 2</th>\n",
       "      <th>3,5 and 8</th>\n",
       "    </tr>\n",
       "  </thead>\n",
       "  <tbody>\n",
       "    <tr>\n",
       "      <th>LDA</th>\n",
       "      <td>0.052737</td>\n",
       "      <td>0.029234</td>\n",
       "      <td>0.074757</td>\n",
       "    </tr>\n",
       "    <tr>\n",
       "      <th>One vs One</th>\n",
       "      <td>0.036665</td>\n",
       "      <td>0.010168</td>\n",
       "      <td>0.060153</td>\n",
       "    </tr>\n",
       "    <tr>\n",
       "      <th>One vs Rest</th>\n",
       "      <td>0.037167</td>\n",
       "      <td>0.013664</td>\n",
       "      <td>0.067455</td>\n",
       "    </tr>\n",
       "    <tr>\n",
       "      <th>Multinomial</th>\n",
       "      <td>0.034656</td>\n",
       "      <td>0.010168</td>\n",
       "      <td>0.065716</td>\n",
       "    </tr>\n",
       "  </tbody>\n",
       "</table>\n",
       "</div>"
      ],
      "text/plain": [
       "              4 and 9  0, 1 and 2  3,5 and 8\n",
       "LDA          0.052737    0.029234   0.074757\n",
       "One vs One   0.036665    0.010168   0.060153\n",
       "One vs Rest  0.037167    0.013664   0.067455\n",
       "Multinomial  0.034656    0.010168   0.065716"
      ]
     },
     "execution_count": 392,
     "metadata": {},
     "output_type": "execute_result"
    }
   ],
   "source": [
    "df"
   ]
  },
  {
   "cell_type": "code",
   "execution_count": 393,
   "metadata": {},
   "outputs": [],
   "source": [
    "df['4 and 9'] = pd.Series([\"{0:.2f}%\".format(val * 100) for val in df['4 and 9']], index = df.index)"
   ]
  },
  {
   "cell_type": "code",
   "execution_count": 394,
   "metadata": {},
   "outputs": [],
   "source": [
    "df['0, 1 and 2'] = pd.Series([\"{0:.2f}%\".format(val * 100) for val in df['0, 1 and 2']], index = df.index)"
   ]
  },
  {
   "cell_type": "code",
   "execution_count": 395,
   "metadata": {},
   "outputs": [],
   "source": [
    "df['3,5 and 8'] = pd.Series([\"{0:.2f}%\".format(val * 100) for val in df['3,5 and 8']], index = df.index)"
   ]
  },
  {
   "cell_type": "code",
   "execution_count": 396,
   "metadata": {},
   "outputs": [
    {
     "data": {
      "text/html": [
       "<div>\n",
       "<style scoped>\n",
       "    .dataframe tbody tr th:only-of-type {\n",
       "        vertical-align: middle;\n",
       "    }\n",
       "\n",
       "    .dataframe tbody tr th {\n",
       "        vertical-align: top;\n",
       "    }\n",
       "\n",
       "    .dataframe thead th {\n",
       "        text-align: right;\n",
       "    }\n",
       "</style>\n",
       "<table border=\"1\" class=\"dataframe\">\n",
       "  <thead>\n",
       "    <tr style=\"text-align: right;\">\n",
       "      <th></th>\n",
       "      <th>4 and 9</th>\n",
       "      <th>0, 1 and 2</th>\n",
       "      <th>3,5 and 8</th>\n",
       "    </tr>\n",
       "  </thead>\n",
       "  <tbody>\n",
       "    <tr>\n",
       "      <th>LDA</th>\n",
       "      <td>5.27%</td>\n",
       "      <td>2.92%</td>\n",
       "      <td>7.48%</td>\n",
       "    </tr>\n",
       "    <tr>\n",
       "      <th>One vs One</th>\n",
       "      <td>3.67%</td>\n",
       "      <td>1.02%</td>\n",
       "      <td>6.02%</td>\n",
       "    </tr>\n",
       "    <tr>\n",
       "      <th>One vs Rest</th>\n",
       "      <td>3.72%</td>\n",
       "      <td>1.37%</td>\n",
       "      <td>6.75%</td>\n",
       "    </tr>\n",
       "    <tr>\n",
       "      <th>Multinomial</th>\n",
       "      <td>3.47%</td>\n",
       "      <td>1.02%</td>\n",
       "      <td>6.57%</td>\n",
       "    </tr>\n",
       "  </tbody>\n",
       "</table>\n",
       "</div>"
      ],
      "text/plain": [
       "            4 and 9 0, 1 and 2 3,5 and 8\n",
       "LDA           5.27%      2.92%     7.48%\n",
       "One vs One    3.67%      1.02%     6.02%\n",
       "One vs Rest   3.72%      1.37%     6.75%\n",
       "Multinomial   3.47%      1.02%     6.57%"
      ]
     },
     "execution_count": 396,
     "metadata": {},
     "output_type": "execute_result"
    }
   ],
   "source": [
    "df"
   ]
  },
  {
   "cell_type": "markdown",
   "metadata": {},
   "source": [
    "# Problem 6"
   ]
  },
  {
   "cell_type": "code",
   "execution_count": 313,
   "metadata": {},
   "outputs": [],
   "source": [
    "train = np.loadtxt('zip.train')\n",
    "test  = np.loadtxt('zip.test')"
   ]
  },
  {
   "cell_type": "code",
   "execution_count": 314,
   "metadata": {},
   "outputs": [],
   "source": [
    "y_train=train[:,0]\n",
    "x_train=train[:,1:]\n",
    "y_test=test[:,0]\n",
    "x_test=test[:,1:]"
   ]
  },
  {
   "cell_type": "code",
   "execution_count": 324,
   "metadata": {},
   "outputs": [
    {
     "name": "stderr",
     "output_type": "stream",
     "text": [
      "/Users/xinzhang/anaconda3/lib/python3.6/site-packages/sklearn/linear_model/sag.py:326: ConvergenceWarning: The max_iter was reached which means the coef_ did not converge\n",
      "  \"the coef_ did not converge\", ConvergenceWarning)\n"
     ]
    }
   ],
   "source": [
    "lr_mul = LogisticRegression(multi_class='multinomial',penalty='l1',solver='saga')\n",
    "lr_mul_fit = lr_mul.fit(x_train,y_train)\n",
    "pred_lr_mul = lr_mul.predict(x_test)\n",
    "error_lr_mul_all = sum(pred_lr_mul!=y_test)/len(y_test)"
   ]
  },
  {
   "cell_type": "code",
   "execution_count": 325,
   "metadata": {},
   "outputs": [
    {
     "data": {
      "text/plain": [
       "0.08719481813652218"
      ]
     },
     "execution_count": 325,
     "metadata": {},
     "output_type": "execute_result"
    }
   ],
   "source": [
    "error_lr_mul_all"
   ]
  },
  {
   "cell_type": "code",
   "execution_count": 326,
   "metadata": {},
   "outputs": [],
   "source": [
    "data={'Multinomial':[error_lr_mul,error_lr_mul_all]}"
   ]
  },
  {
   "cell_type": "code",
   "execution_count": 327,
   "metadata": {},
   "outputs": [
    {
     "data": {
      "text/plain": [
       "{'Multinomial': [0.08868958644743398, 0.08719481813652218]}"
      ]
     },
     "execution_count": 327,
     "metadata": {},
     "output_type": "execute_result"
    }
   ],
   "source": [
    "data"
   ]
  },
  {
   "cell_type": "code",
   "execution_count": 328,
   "metadata": {},
   "outputs": [],
   "source": [
    "df=pd.DataFrame(data,index=['95% PCA','No PCA'])"
   ]
  },
  {
   "cell_type": "code",
   "execution_count": 329,
   "metadata": {},
   "outputs": [
    {
     "data": {
      "text/html": [
       "<div>\n",
       "<style scoped>\n",
       "    .dataframe tbody tr th:only-of-type {\n",
       "        vertical-align: middle;\n",
       "    }\n",
       "\n",
       "    .dataframe tbody tr th {\n",
       "        vertical-align: top;\n",
       "    }\n",
       "\n",
       "    .dataframe thead th {\n",
       "        text-align: right;\n",
       "    }\n",
       "</style>\n",
       "<table border=\"1\" class=\"dataframe\">\n",
       "  <thead>\n",
       "    <tr style=\"text-align: right;\">\n",
       "      <th></th>\n",
       "      <th>Multinomial</th>\n",
       "    </tr>\n",
       "  </thead>\n",
       "  <tbody>\n",
       "    <tr>\n",
       "      <th>95% PCA</th>\n",
       "      <td>0.088690</td>\n",
       "    </tr>\n",
       "    <tr>\n",
       "      <th>No PCA</th>\n",
       "      <td>0.087195</td>\n",
       "    </tr>\n",
       "  </tbody>\n",
       "</table>\n",
       "</div>"
      ],
      "text/plain": [
       "         Multinomial\n",
       "95% PCA     0.088690\n",
       "No PCA      0.087195"
      ]
     },
     "execution_count": 329,
     "metadata": {},
     "output_type": "execute_result"
    }
   ],
   "source": [
    "df"
   ]
  },
  {
   "cell_type": "code",
   "execution_count": 330,
   "metadata": {},
   "outputs": [],
   "source": [
    "df['Multinomial'] = pd.Series([\"{0:.2f}%\".format(val * 100) for val in df['Multinomial']], index = df.index)"
   ]
  },
  {
   "cell_type": "code",
   "execution_count": 331,
   "metadata": {},
   "outputs": [
    {
     "data": {
      "text/html": [
       "<div>\n",
       "<style scoped>\n",
       "    .dataframe tbody tr th:only-of-type {\n",
       "        vertical-align: middle;\n",
       "    }\n",
       "\n",
       "    .dataframe tbody tr th {\n",
       "        vertical-align: top;\n",
       "    }\n",
       "\n",
       "    .dataframe thead th {\n",
       "        text-align: right;\n",
       "    }\n",
       "</style>\n",
       "<table border=\"1\" class=\"dataframe\">\n",
       "  <thead>\n",
       "    <tr style=\"text-align: right;\">\n",
       "      <th></th>\n",
       "      <th>Multinomial</th>\n",
       "    </tr>\n",
       "  </thead>\n",
       "  <tbody>\n",
       "    <tr>\n",
       "      <th>95% PCA</th>\n",
       "      <td>8.87%</td>\n",
       "    </tr>\n",
       "    <tr>\n",
       "      <th>No PCA</th>\n",
       "      <td>8.72%</td>\n",
       "    </tr>\n",
       "  </tbody>\n",
       "</table>\n",
       "</div>"
      ],
      "text/plain": [
       "        Multinomial\n",
       "95% PCA       8.87%\n",
       "No PCA        8.72%"
      ]
     },
     "execution_count": 331,
     "metadata": {},
     "output_type": "execute_result"
    }
   ],
   "source": [
    "df"
   ]
  },
  {
   "cell_type": "code",
   "execution_count": null,
   "metadata": {},
   "outputs": [],
   "source": []
  }
 ],
 "metadata": {
  "kernelspec": {
   "display_name": "Python 3",
   "language": "python",
   "name": "python3"
  },
  "language_info": {
   "codemirror_mode": {
    "name": "ipython",
    "version": 3
   },
   "file_extension": ".py",
   "mimetype": "text/x-python",
   "name": "python",
   "nbconvert_exporter": "python",
   "pygments_lexer": "ipython3",
   "version": "3.6.5"
  }
 },
 "nbformat": 4,
 "nbformat_minor": 2
}
